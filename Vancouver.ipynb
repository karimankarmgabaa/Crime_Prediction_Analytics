{
 "cells": [
  {
   "cell_type": "markdown",
   "id": "8a0158c9",
   "metadata": {},
   "source": [
    "# Imports "
   ]
  },
  {
   "cell_type": "code",
   "execution_count": 1,
   "id": "a3bdc8c5",
   "metadata": {},
   "outputs": [],
   "source": [
    "import pandas as pd\n",
    "import matplotlib.pyplot as plt \n",
    "import numpy as np \n",
    "import seaborn as sns\n",
    "from pandas.tseries.holiday import USFederalHolidayCalendar as calendar\n",
    "from sklearn.preprocessing import LabelEncoder,OneHotEncoder\n",
    "from sklearn.model_selection import train_test_split\n",
    "from sklearn.ensemble import RandomForestClassifier\n",
    "from sklearn.neighbors import KNeighborsClassifier\n",
    "from sklearn.linear_model import LogisticRegression\n",
    "from sklearn.metrics import f1_score,accuracy_score,confusion_matrix,classification_report\n",
    "from sklearn.preprocessing import normalize\n",
    "from sklearn.naive_bayes import GaussianNB\n",
    "from xgboost import XGBClassifier"
   ]
  },
  {
   "cell_type": "markdown",
   "id": "8a9a8224",
   "metadata": {},
   "source": [
    "\n",
    "# EDA"
   ]
  },
  {
   "cell_type": "code",
   "execution_count": 2,
   "id": "f24e135d",
   "metadata": {},
   "outputs": [
    {
     "name": "stderr",
     "output_type": "stream",
     "text": [
      "C:\\Users\\Mohamed\\AppData\\Local\\Programs\\Python\\Python310\\lib\\site-packages\\IPython\\core\\interactiveshell.py:3457: DtypeWarning: Columns (25) have mixed types.Specify dtype option on import or set low_memory=False.\n",
      "  exec(code_obj, self.user_global_ns, self.user_ns)\n"
     ]
    },
    {
     "data": {
      "text/html": [
       "<div>\n",
       "<style scoped>\n",
       "    .dataframe tbody tr th:only-of-type {\n",
       "        vertical-align: middle;\n",
       "    }\n",
       "\n",
       "    .dataframe tbody tr th {\n",
       "        vertical-align: top;\n",
       "    }\n",
       "\n",
       "    .dataframe thead th {\n",
       "        text-align: right;\n",
       "    }\n",
       "</style>\n",
       "<table border=\"1\" class=\"dataframe\">\n",
       "  <thead>\n",
       "    <tr style=\"text-align: right;\">\n",
       "      <th></th>\n",
       "      <th>X</th>\n",
       "      <th>Y</th>\n",
       "      <th>Index_</th>\n",
       "      <th>event_unique_id</th>\n",
       "      <th>Division</th>\n",
       "      <th>occurrencedate</th>\n",
       "      <th>reporteddate</th>\n",
       "      <th>location_type</th>\n",
       "      <th>premises_type</th>\n",
       "      <th>ucr_code</th>\n",
       "      <th>...</th>\n",
       "      <th>occurrenceday</th>\n",
       "      <th>occurrencedayofyear</th>\n",
       "      <th>occurrencedayofweek</th>\n",
       "      <th>occurrencehour</th>\n",
       "      <th>MCI</th>\n",
       "      <th>Hood_ID</th>\n",
       "      <th>Neighbourhood</th>\n",
       "      <th>Long</th>\n",
       "      <th>Lat</th>\n",
       "      <th>ObjectId</th>\n",
       "    </tr>\n",
       "  </thead>\n",
       "  <tbody>\n",
       "    <tr>\n",
       "      <th>0</th>\n",
       "      <td>-8.859955e+06</td>\n",
       "      <td>5.424372e+06</td>\n",
       "      <td>110</td>\n",
       "      <td>GO-20141625305</td>\n",
       "      <td>D23</td>\n",
       "      <td>2014/03/02 05:00:00+00</td>\n",
       "      <td>2014/03/02 05:00:00+00</td>\n",
       "      <td>Single Home, House (Attach Garage, Cottage, Mo...</td>\n",
       "      <td>House</td>\n",
       "      <td>1430</td>\n",
       "      <td>...</td>\n",
       "      <td>2</td>\n",
       "      <td>61</td>\n",
       "      <td>Sunday</td>\n",
       "      <td>8</td>\n",
       "      <td>Assault</td>\n",
       "      <td>1</td>\n",
       "      <td>West Humber-Clairville</td>\n",
       "      <td>-79.590332</td>\n",
       "      <td>43.734013</td>\n",
       "      <td>1</td>\n",
       "    </tr>\n",
       "    <tr>\n",
       "      <th>1</th>\n",
       "      <td>-8.861110e+06</td>\n",
       "      <td>5.424036e+06</td>\n",
       "      <td>188</td>\n",
       "      <td>GO-20141272968</td>\n",
       "      <td>D23</td>\n",
       "      <td>2013/12/24 05:00:00+00</td>\n",
       "      <td>2014/01/03 05:00:00+00</td>\n",
       "      <td>Commercial Dwelling Unit (Hotel, Motel, B &amp; B,...</td>\n",
       "      <td>Commercial</td>\n",
       "      <td>1610</td>\n",
       "      <td>...</td>\n",
       "      <td>24</td>\n",
       "      <td>358</td>\n",
       "      <td>Tuesday</td>\n",
       "      <td>22</td>\n",
       "      <td>Robbery</td>\n",
       "      <td>1</td>\n",
       "      <td>West Humber-Clairville</td>\n",
       "      <td>-79.600701</td>\n",
       "      <td>43.731834</td>\n",
       "      <td>2</td>\n",
       "    </tr>\n",
       "    <tr>\n",
       "      <th>2</th>\n",
       "      <td>-8.861120e+06</td>\n",
       "      <td>5.417043e+06</td>\n",
       "      <td>287</td>\n",
       "      <td>GO-20141284361</td>\n",
       "      <td>D23</td>\n",
       "      <td>2013/01/05 05:00:00+00</td>\n",
       "      <td>2014/01/05 05:00:00+00</td>\n",
       "      <td>Commercial Dwelling Unit (Hotel, Motel, B &amp; B,...</td>\n",
       "      <td>Commercial</td>\n",
       "      <td>1430</td>\n",
       "      <td>...</td>\n",
       "      <td>5</td>\n",
       "      <td>5</td>\n",
       "      <td>Saturday</td>\n",
       "      <td>4</td>\n",
       "      <td>Assault</td>\n",
       "      <td>1</td>\n",
       "      <td>West Humber-Clairville</td>\n",
       "      <td>-79.600794</td>\n",
       "      <td>43.686423</td>\n",
       "      <td>3</td>\n",
       "    </tr>\n",
       "    <tr>\n",
       "      <th>3</th>\n",
       "      <td>-8.861463e+06</td>\n",
       "      <td>5.425856e+06</td>\n",
       "      <td>384</td>\n",
       "      <td>GO-20141292177</td>\n",
       "      <td>D23</td>\n",
       "      <td>2013/12/31 05:00:00+00</td>\n",
       "      <td>2014/01/06 05:00:00+00</td>\n",
       "      <td>Other Commercial / Corporate Places (For Profi...</td>\n",
       "      <td>Commercial</td>\n",
       "      <td>2120</td>\n",
       "      <td>...</td>\n",
       "      <td>31</td>\n",
       "      <td>365</td>\n",
       "      <td>Tuesday</td>\n",
       "      <td>21</td>\n",
       "      <td>Break and Enter</td>\n",
       "      <td>1</td>\n",
       "      <td>West Humber-Clairville</td>\n",
       "      <td>-79.603876</td>\n",
       "      <td>43.743642</td>\n",
       "      <td>4</td>\n",
       "    </tr>\n",
       "    <tr>\n",
       "      <th>4</th>\n",
       "      <td>-8.859522e+06</td>\n",
       "      <td>5.418688e+06</td>\n",
       "      <td>438</td>\n",
       "      <td>GO-20141297201</td>\n",
       "      <td>D23</td>\n",
       "      <td>2014/01/03 05:00:00+00</td>\n",
       "      <td>2014/01/07 05:00:00+00</td>\n",
       "      <td>Other Commercial / Corporate Places (For Profi...</td>\n",
       "      <td>Commercial</td>\n",
       "      <td>2120</td>\n",
       "      <td>...</td>\n",
       "      <td>3</td>\n",
       "      <td>3</td>\n",
       "      <td>Friday</td>\n",
       "      <td>10</td>\n",
       "      <td>Break and Enter</td>\n",
       "      <td>1</td>\n",
       "      <td>West Humber-Clairville</td>\n",
       "      <td>-79.586443</td>\n",
       "      <td>43.697108</td>\n",
       "      <td>5</td>\n",
       "    </tr>\n",
       "  </tbody>\n",
       "</table>\n",
       "<p>5 rows × 30 columns</p>\n",
       "</div>"
      ],
      "text/plain": [
       "              X             Y  Index_ event_unique_id Division  \\\n",
       "0 -8.859955e+06  5.424372e+06     110  GO-20141625305      D23   \n",
       "1 -8.861110e+06  5.424036e+06     188  GO-20141272968      D23   \n",
       "2 -8.861120e+06  5.417043e+06     287  GO-20141284361      D23   \n",
       "3 -8.861463e+06  5.425856e+06     384  GO-20141292177      D23   \n",
       "4 -8.859522e+06  5.418688e+06     438  GO-20141297201      D23   \n",
       "\n",
       "           occurrencedate            reporteddate  \\\n",
       "0  2014/03/02 05:00:00+00  2014/03/02 05:00:00+00   \n",
       "1  2013/12/24 05:00:00+00  2014/01/03 05:00:00+00   \n",
       "2  2013/01/05 05:00:00+00  2014/01/05 05:00:00+00   \n",
       "3  2013/12/31 05:00:00+00  2014/01/06 05:00:00+00   \n",
       "4  2014/01/03 05:00:00+00  2014/01/07 05:00:00+00   \n",
       "\n",
       "                                       location_type premises_type  ucr_code  \\\n",
       "0  Single Home, House (Attach Garage, Cottage, Mo...         House      1430   \n",
       "1  Commercial Dwelling Unit (Hotel, Motel, B & B,...    Commercial      1610   \n",
       "2  Commercial Dwelling Unit (Hotel, Motel, B & B,...    Commercial      1430   \n",
       "3  Other Commercial / Corporate Places (For Profi...    Commercial      2120   \n",
       "4  Other Commercial / Corporate Places (For Profi...    Commercial      2120   \n",
       "\n",
       "   ...  occurrenceday occurrencedayofyear  occurrencedayofweek occurrencehour  \\\n",
       "0  ...              2                  61           Sunday                  8   \n",
       "1  ...             24                 358           Tuesday                22   \n",
       "2  ...              5                   5           Saturday                4   \n",
       "3  ...             31                 365           Tuesday                21   \n",
       "4  ...              3                   3           Friday                 10   \n",
       "\n",
       "               MCI  Hood_ID           Neighbourhood       Long        Lat  \\\n",
       "0          Assault        1  West Humber-Clairville -79.590332  43.734013   \n",
       "1          Robbery        1  West Humber-Clairville -79.600701  43.731834   \n",
       "2          Assault        1  West Humber-Clairville -79.600794  43.686423   \n",
       "3  Break and Enter        1  West Humber-Clairville -79.603876  43.743642   \n",
       "4  Break and Enter        1  West Humber-Clairville -79.586443  43.697108   \n",
       "\n",
       "  ObjectId  \n",
       "0        1  \n",
       "1        2  \n",
       "2        3  \n",
       "3        4  \n",
       "4        5  \n",
       "\n",
       "[5 rows x 30 columns]"
      ]
     },
     "execution_count": 2,
     "metadata": {},
     "output_type": "execute_result"
    }
   ],
   "source": [
    "#Load data\n",
    "va_dt=pd.read_csv(\"Vancouver.csv\")\n",
    "va_dt.head()"
   ]
  },
  {
   "cell_type": "code",
   "execution_count": 3,
   "id": "4914186f",
   "metadata": {},
   "outputs": [
    {
     "data": {
      "text/plain": [
       "(281692, 30)"
      ]
     },
     "execution_count": 3,
     "metadata": {},
     "output_type": "execute_result"
    }
   ],
   "source": [
    "va_dt.shape"
   ]
  },
  {
   "cell_type": "code",
   "execution_count": 4,
   "id": "a5687351",
   "metadata": {},
   "outputs": [
    {
     "data": {
      "text/plain": [
       "Index(['X', 'Y', 'Index_', 'event_unique_id', 'Division', 'occurrencedate',\n",
       "       'reporteddate', 'location_type', 'premises_type', 'ucr_code', 'ucr_ext',\n",
       "       'offence', 'reportedyear', 'reportedmonth', 'reportedday',\n",
       "       'reporteddayofyear', 'reporteddayofweek', 'reportedhour',\n",
       "       'occurrenceyear', 'occurrencemonth', 'occurrenceday',\n",
       "       'occurrencedayofyear', 'occurrencedayofweek', 'occurrencehour', 'MCI',\n",
       "       'Hood_ID', 'Neighbourhood', 'Long', 'Lat', 'ObjectId'],\n",
       "      dtype='object')"
      ]
     },
     "execution_count": 4,
     "metadata": {},
     "output_type": "execute_result"
    }
   ],
   "source": [
    "va_dt.columns"
   ]
  },
  {
   "cell_type": "code",
   "execution_count": 5,
   "id": "2b05cf03",
   "metadata": {},
   "outputs": [
    {
     "name": "stdout",
     "output_type": "stream",
     "text": [
      "<class 'pandas.core.frame.DataFrame'>\n",
      "RangeIndex: 281692 entries, 0 to 281691\n",
      "Data columns (total 30 columns):\n",
      " #   Column               Non-Null Count   Dtype  \n",
      "---  ------               --------------   -----  \n",
      " 0   X                    281692 non-null  float64\n",
      " 1   Y                    281692 non-null  float64\n",
      " 2   Index_               281692 non-null  int64  \n",
      " 3   event_unique_id      281692 non-null  object \n",
      " 4   Division             281692 non-null  object \n",
      " 5   occurrencedate       281692 non-null  object \n",
      " 6   reporteddate         281692 non-null  object \n",
      " 7   location_type        281692 non-null  object \n",
      " 8   premises_type        281692 non-null  object \n",
      " 9   ucr_code             281692 non-null  int64  \n",
      " 10  ucr_ext              281692 non-null  int64  \n",
      " 11  offence              281692 non-null  object \n",
      " 12  reportedyear         281692 non-null  int64  \n",
      " 13  reportedmonth        281692 non-null  object \n",
      " 14  reportedday          281692 non-null  int64  \n",
      " 15  reporteddayofyear    281692 non-null  int64  \n",
      " 16  reporteddayofweek    281692 non-null  object \n",
      " 17  reportedhour         281692 non-null  int64  \n",
      " 18  occurrenceyear       281692 non-null  int64  \n",
      " 19  occurrencemonth      281597 non-null  object \n",
      " 20  occurrenceday        281692 non-null  int64  \n",
      " 21  occurrencedayofyear  281692 non-null  int64  \n",
      " 22  occurrencedayofweek  281597 non-null  object \n",
      " 23  occurrencehour       281692 non-null  int64  \n",
      " 24  MCI                  281692 non-null  object \n",
      " 25  Hood_ID              281692 non-null  object \n",
      " 26  Neighbourhood        281692 non-null  object \n",
      " 27  Long                 281692 non-null  float64\n",
      " 28  Lat                  281692 non-null  float64\n",
      " 29  ObjectId             281692 non-null  int64  \n",
      "dtypes: float64(4), int64(12), object(14)\n",
      "memory usage: 64.5+ MB\n"
     ]
    }
   ],
   "source": [
    "#Data Types\n",
    "va_dt.info()"
   ]
  },
  {
   "cell_type": "code",
   "execution_count": 6,
   "id": "0320cf18",
   "metadata": {},
   "outputs": [
    {
     "data": {
      "text/plain": [
       "Assault                           103627\n",
       "B&E                                47662\n",
       "Theft Of Motor Vehicle             36334\n",
       "Assault With Weapon                25345\n",
       "Robbery - Mugging                   8159\n",
       "B&E W'Intent                        6977\n",
       "Assault Bodily Harm                 6682\n",
       "Theft Over                          5164\n",
       "Assault Peace Officer               4845\n",
       "Robbery - Other                     4605\n",
       "Robbery With Weapon                 4561\n",
       "Robbery - Business                  3975\n",
       "Assault - Resist/ Prevent Seiz      2888\n",
       "Aggravated Assault                  2384\n",
       "Theft From Motor Vehicle Over       2245\n",
       "Robbery - Swarming                  2242\n",
       "Discharge Firearm With Intent       1929\n",
       "Unlawfully In Dwelling-House        1704\n",
       "Discharge Firearm - Recklessly      1330\n",
       "Theft From Mail / Bag / Key         1121\n",
       "Robbery - Home Invasion             1077\n",
       "Pointing A Firearm                  1040\n",
       "Robbery - Purse Snatch              1010\n",
       "Robbery - Financial Institute        861\n",
       "Robbery - Vehicle Jacking            655\n",
       "Assault Peace Officer Wpn/Cbh        508\n",
       "Theft Over - Shoplifting             459\n",
       "Administering Noxious Thing          427\n",
       "Assault - Force/Thrt/Impede          348\n",
       "Robbery - Delivery Person            268\n",
       "Robbery - Taxi                       256\n",
       "Use Firearm / Immit Commit Off       169\n",
       "Theft Over - Bicycle                 126\n",
       "Theft Over - Distraction             109\n",
       "Disarming Peace/Public Officer       104\n",
       "B&E Out                               99\n",
       "Robbery - Atm                         99\n",
       "Crim Negligence Bodily Harm           99\n",
       "Robbery - Armoured Car                51\n",
       "Theft - Misapprop Funds Over          35\n",
       "Air Gun Or Pistol: Bodily Harm        25\n",
       "Aggravated Aslt Peace Officer         22\n",
       "Aggravated Assault Avails Pros        19\n",
       "B&E - M/Veh To Steal Firearm          13\n",
       "Unlawfully Causing Bodily Harm        13\n",
       "B&E - To Steal Firearm                11\n",
       "Theft Of Utilities Over                5\n",
       "Set/Place Trap/Intend Death/Bh         2\n",
       "Traps Likely Cause Bodily Harm         2\n",
       "Robbery To Steal Firearm               1\n",
       "Name: offence, dtype: int64"
      ]
     },
     "execution_count": 6,
     "metadata": {},
     "output_type": "execute_result"
    }
   ],
   "source": [
    "va_dt.offence.value_counts()"
   ]
  },
  {
   "cell_type": "code",
   "execution_count": 7,
   "id": "015d5ad1",
   "metadata": {},
   "outputs": [
    {
     "data": {
      "image/png": "[encoded data removed]",
      "text/plain": [
       "<Figure size 504x432 with 1 Axes>"
      ]
     },
     "metadata": {
      "needs_background": "light"
     },
     "output_type": "display_data"
    }
   ],
   "source": [
    "va_dt['MCI'].value_counts().sort_values(ascending=True).plot(kind='barh', figsize=(7, 6), rot=0)\n",
    "plt.title(\"Count of Crime Type in Vancouver\", y=1.02)\n",
    "plt.ylabel('Crime Type')\n",
    "plt.xlabel('Amount of Crimes')\n",
    "plt.show()"
   ]
  },
  {
   "cell_type": "code",
   "execution_count": 8,
   "id": "f11e5728",
   "metadata": {},
   "outputs": [
    {
     "data": {
      "text/html": [
       "<div>\n",
       "<style scoped>\n",
       "    .dataframe tbody tr th:only-of-type {\n",
       "        vertical-align: middle;\n",
       "    }\n",
       "\n",
       "    .dataframe tbody tr th {\n",
       "        vertical-align: top;\n",
       "    }\n",
       "\n",
       "    .dataframe thead th {\n",
       "        text-align: right;\n",
       "    }\n",
       "</style>\n",
       "<table border=\"1\" class=\"dataframe\">\n",
       "  <thead>\n",
       "    <tr style=\"text-align: right;\">\n",
       "      <th></th>\n",
       "      <th>X</th>\n",
       "      <th>Y</th>\n",
       "      <th>Index_</th>\n",
       "      <th>ucr_code</th>\n",
       "      <th>ucr_ext</th>\n",
       "      <th>reportedyear</th>\n",
       "      <th>reportedday</th>\n",
       "      <th>reporteddayofyear</th>\n",
       "      <th>reportedhour</th>\n",
       "      <th>occurrenceyear</th>\n",
       "      <th>occurrenceday</th>\n",
       "      <th>occurrencedayofyear</th>\n",
       "      <th>occurrencehour</th>\n",
       "      <th>Long</th>\n",
       "      <th>Lat</th>\n",
       "      <th>ObjectId</th>\n",
       "    </tr>\n",
       "  </thead>\n",
       "  <tbody>\n",
       "    <tr>\n",
       "      <th>count</th>\n",
       "      <td>2.816920e+05</td>\n",
       "      <td>2.816920e+05</td>\n",
       "      <td>281692.000000</td>\n",
       "      <td>281692.000000</td>\n",
       "      <td>281692.000000</td>\n",
       "      <td>281692.000000</td>\n",
       "      <td>281692.000000</td>\n",
       "      <td>281692.000000</td>\n",
       "      <td>281692.000000</td>\n",
       "      <td>281692.000000</td>\n",
       "      <td>281692.000000</td>\n",
       "      <td>281692.000000</td>\n",
       "      <td>281692.000000</td>\n",
       "      <td>281692.000000</td>\n",
       "      <td>281692.000000</td>\n",
       "      <td>281692.000000</td>\n",
       "    </tr>\n",
       "    <tr>\n",
       "      <th>mean</th>\n",
       "      <td>-8.724979e+06</td>\n",
       "      <td>5.350689e+06</td>\n",
       "      <td>140846.500000</td>\n",
       "      <td>1700.295078</td>\n",
       "      <td>146.314340</td>\n",
       "      <td>2017.590723</td>\n",
       "      <td>15.746688</td>\n",
       "      <td>186.640011</td>\n",
       "      <td>12.830996</td>\n",
       "      <td>2016.859148</td>\n",
       "      <td>15.466115</td>\n",
       "      <td>186.000170</td>\n",
       "      <td>12.604107</td>\n",
       "      <td>-78.377824</td>\n",
       "      <td>43.146377</td>\n",
       "      <td>140846.500000</td>\n",
       "    </tr>\n",
       "    <tr>\n",
       "      <th>std</th>\n",
       "      <td>9.945911e+05</td>\n",
       "      <td>6.099572e+05</td>\n",
       "      <td>81317.620352</td>\n",
       "      <td>325.422029</td>\n",
       "      <td>51.905633</td>\n",
       "      <td>2.256068</td>\n",
       "      <td>8.768257</td>\n",
       "      <td>103.870137</td>\n",
       "      <td>6.516960</td>\n",
       "      <td>37.115673</td>\n",
       "      <td>8.918215</td>\n",
       "      <td>104.241244</td>\n",
       "      <td>7.238679</td>\n",
       "      <td>8.934564</td>\n",
       "      <td>4.918359</td>\n",
       "      <td>81317.620352</td>\n",
       "    </tr>\n",
       "    <tr>\n",
       "      <th>min</th>\n",
       "      <td>-8.909923e+06</td>\n",
       "      <td>0.000000e+00</td>\n",
       "      <td>1.000000</td>\n",
       "      <td>1410.000000</td>\n",
       "      <td>100.000000</td>\n",
       "      <td>2014.000000</td>\n",
       "      <td>1.000000</td>\n",
       "      <td>1.000000</td>\n",
       "      <td>0.000000</td>\n",
       "      <td>0.000000</td>\n",
       "      <td>0.000000</td>\n",
       "      <td>0.000000</td>\n",
       "      <td>0.000000</td>\n",
       "      <td>-80.039196</td>\n",
       "      <td>0.000000</td>\n",
       "      <td>1.000000</td>\n",
       "    </tr>\n",
       "    <tr>\n",
       "      <th>25%</th>\n",
       "      <td>-8.846608e+06</td>\n",
       "      <td>5.412955e+06</td>\n",
       "      <td>70423.750000</td>\n",
       "      <td>1430.000000</td>\n",
       "      <td>100.000000</td>\n",
       "      <td>2016.000000</td>\n",
       "      <td>8.000000</td>\n",
       "      <td>98.000000</td>\n",
       "      <td>8.000000</td>\n",
       "      <td>2016.000000</td>\n",
       "      <td>8.000000</td>\n",
       "      <td>97.000000</td>\n",
       "      <td>7.000000</td>\n",
       "      <td>-79.470433</td>\n",
       "      <td>43.659862</td>\n",
       "      <td>70423.750000</td>\n",
       "    </tr>\n",
       "    <tr>\n",
       "      <th>50%</th>\n",
       "      <td>-8.837968e+06</td>\n",
       "      <td>5.419023e+06</td>\n",
       "      <td>140846.500000</td>\n",
       "      <td>1450.000000</td>\n",
       "      <td>100.000000</td>\n",
       "      <td>2018.000000</td>\n",
       "      <td>16.000000</td>\n",
       "      <td>189.000000</td>\n",
       "      <td>13.000000</td>\n",
       "      <td>2018.000000</td>\n",
       "      <td>16.000000</td>\n",
       "      <td>188.000000</td>\n",
       "      <td>14.000000</td>\n",
       "      <td>-79.392819</td>\n",
       "      <td>43.699285</td>\n",
       "      <td>140846.500000</td>\n",
       "    </tr>\n",
       "    <tr>\n",
       "      <th>75%</th>\n",
       "      <td>-8.829728e+06</td>\n",
       "      <td>5.426993e+06</td>\n",
       "      <td>211269.250000</td>\n",
       "      <td>2120.000000</td>\n",
       "      <td>200.000000</td>\n",
       "      <td>2019.000000</td>\n",
       "      <td>23.000000</td>\n",
       "      <td>276.000000</td>\n",
       "      <td>18.000000</td>\n",
       "      <td>2019.000000</td>\n",
       "      <td>23.000000</td>\n",
       "      <td>276.000000</td>\n",
       "      <td>19.000000</td>\n",
       "      <td>-79.318798</td>\n",
       "      <td>43.751025</td>\n",
       "      <td>211269.250000</td>\n",
       "    </tr>\n",
       "    <tr>\n",
       "      <th>max</th>\n",
       "      <td>0.000000e+00</td>\n",
       "      <td>5.517228e+06</td>\n",
       "      <td>281692.000000</td>\n",
       "      <td>2135.000000</td>\n",
       "      <td>230.000000</td>\n",
       "      <td>2021.000000</td>\n",
       "      <td>31.000000</td>\n",
       "      <td>366.000000</td>\n",
       "      <td>23.000000</td>\n",
       "      <td>2021.000000</td>\n",
       "      <td>31.000000</td>\n",
       "      <td>366.000000</td>\n",
       "      <td>23.000000</td>\n",
       "      <td>0.000000</td>\n",
       "      <td>44.333691</td>\n",
       "      <td>281692.000000</td>\n",
       "    </tr>\n",
       "  </tbody>\n",
       "</table>\n",
       "</div>"
      ],
      "text/plain": [
       "                  X             Y         Index_       ucr_code  \\\n",
       "count  2.816920e+05  2.816920e+05  281692.000000  281692.000000   \n",
       "mean  -8.724979e+06  5.350689e+06  140846.500000    1700.295078   \n",
       "std    9.945911e+05  6.099572e+05   81317.620352     325.422029   \n",
       "min   -8.909923e+06  0.000000e+00       1.000000    1410.000000   \n",
       "25%   -8.846608e+06  5.412955e+06   70423.750000    1430.000000   \n",
       "50%   -8.837968e+06  5.419023e+06  140846.500000    1450.000000   \n",
       "75%   -8.829728e+06  5.426993e+06  211269.250000    2120.000000   \n",
       "max    0.000000e+00  5.517228e+06  281692.000000    2135.000000   \n",
       "\n",
       "             ucr_ext   reportedyear    reportedday  reporteddayofyear  \\\n",
       "count  281692.000000  281692.000000  281692.000000      281692.000000   \n",
       "mean      146.314340    2017.590723      15.746688         186.640011   \n",
       "std        51.905633       2.256068       8.768257         103.870137   \n",
       "min       100.000000    2014.000000       1.000000           1.000000   \n",
       "25%       100.000000    2016.000000       8.000000          98.000000   \n",
       "50%       100.000000    2018.000000      16.000000         189.000000   \n",
       "75%       200.000000    2019.000000      23.000000         276.000000   \n",
       "max       230.000000    2021.000000      31.000000         366.000000   \n",
       "\n",
       "        reportedhour  occurrenceyear  occurrenceday  occurrencedayofyear  \\\n",
       "count  281692.000000   281692.000000  281692.000000        281692.000000   \n",
       "mean       12.830996     2016.859148      15.466115           186.000170   \n",
       "std         6.516960       37.115673       8.918215           104.241244   \n",
       "min         0.000000        0.000000       0.000000             0.000000   \n",
       "25%         8.000000     2016.000000       8.000000            97.000000   \n",
       "50%        13.000000     2018.000000      16.000000           188.000000   \n",
       "75%        18.000000     2019.000000      23.000000           276.000000   \n",
       "max        23.000000     2021.000000      31.000000           366.000000   \n",
       "\n",
       "       occurrencehour           Long            Lat       ObjectId  \n",
       "count   281692.000000  281692.000000  281692.000000  281692.000000  \n",
       "mean        12.604107     -78.377824      43.146377  140846.500000  \n",
       "std          7.238679       8.934564       4.918359   81317.620352  \n",
       "min          0.000000     -80.039196       0.000000       1.000000  \n",
       "25%          7.000000     -79.470433      43.659862   70423.750000  \n",
       "50%         14.000000     -79.392819      43.699285  140846.500000  \n",
       "75%         19.000000     -79.318798      43.751025  211269.250000  \n",
       "max         23.000000       0.000000      44.333691  281692.000000  "
      ]
     },
     "execution_count": 8,
     "metadata": {},
     "output_type": "execute_result"
    }
   ],
   "source": [
    "va_dt.describe()"
   ]
  },
  {
   "cell_type": "code",
   "execution_count": 9,
   "id": "15bf8526",
   "metadata": {},
   "outputs": [
    {
     "data": {
      "text/plain": [
       "array([[<AxesSubplot:title={'center':'X'}>,\n",
       "        <AxesSubplot:title={'center':'Y'}>,\n",
       "        <AxesSubplot:title={'center':'Index_'}>,\n",
       "        <AxesSubplot:title={'center':'ucr_code'}>],\n",
       "       [<AxesSubplot:title={'center':'ucr_ext'}>,\n",
       "        <AxesSubplot:title={'center':'reportedyear'}>,\n",
       "        <AxesSubplot:title={'center':'reportedday'}>,\n",
       "        <AxesSubplot:title={'center':'reporteddayofyear'}>],\n",
       "       [<AxesSubplot:title={'center':'reportedhour'}>,\n",
       "        <AxesSubplot:title={'center':'occurrenceyear'}>,\n",
       "        <AxesSubplot:title={'center':'occurrenceday'}>,\n",
       "        <AxesSubplot:title={'center':'occurrencedayofyear'}>],\n",
       "       [<AxesSubplot:title={'center':'occurrencehour'}>,\n",
       "        <AxesSubplot:title={'center':'Long'}>,\n",
       "        <AxesSubplot:title={'center':'Lat'}>,\n",
       "        <AxesSubplot:title={'center':'ObjectId'}>]], dtype=object)"
      ]
     },
     "execution_count": 9,
     "metadata": {},
     "output_type": "execute_result"
    },
    {
     "data": {
      "image/png": "[encoded data removed]",
      "text/plain": [
       "<Figure size 1080x1440 with 16 Axes>"
      ]
     },
     "metadata": {
      "needs_background": "light"
     },
     "output_type": "display_data"
    }
   ],
   "source": [
    "va_dt.hist(bins=5,figsize=(15,20))"
   ]
  },
  {
   "cell_type": "code",
   "execution_count": 10,
   "id": "a1dbc00c",
   "metadata": {
    "scrolled": true
   },
   "outputs": [
    {
     "data": {
      "text/html": [
       "<div>\n",
       "<style scoped>\n",
       "    .dataframe tbody tr th:only-of-type {\n",
       "        vertical-align: middle;\n",
       "    }\n",
       "\n",
       "    .dataframe tbody tr th {\n",
       "        vertical-align: top;\n",
       "    }\n",
       "\n",
       "    .dataframe thead th {\n",
       "        text-align: right;\n",
       "    }\n",
       "</style>\n",
       "<table border=\"1\" class=\"dataframe\">\n",
       "  <thead>\n",
       "    <tr style=\"text-align: right;\">\n",
       "      <th></th>\n",
       "      <th>X</th>\n",
       "      <th>Y</th>\n",
       "      <th>Index_</th>\n",
       "      <th>ucr_code</th>\n",
       "      <th>ucr_ext</th>\n",
       "      <th>reportedyear</th>\n",
       "      <th>reportedday</th>\n",
       "      <th>reporteddayofyear</th>\n",
       "      <th>reportedhour</th>\n",
       "      <th>occurrenceyear</th>\n",
       "      <th>occurrenceday</th>\n",
       "      <th>occurrencedayofyear</th>\n",
       "      <th>occurrencehour</th>\n",
       "      <th>Long</th>\n",
       "      <th>Lat</th>\n",
       "      <th>ObjectId</th>\n",
       "    </tr>\n",
       "  </thead>\n",
       "  <tbody>\n",
       "    <tr>\n",
       "      <th>X</th>\n",
       "      <td>1.000000</td>\n",
       "      <td>-0.999789</td>\n",
       "      <td>0.005392</td>\n",
       "      <td>-0.027226</td>\n",
       "      <td>-0.020285</td>\n",
       "      <td>0.013924</td>\n",
       "      <td>-0.002871</td>\n",
       "      <td>-0.005800</td>\n",
       "      <td>0.007405</td>\n",
       "      <td>-0.014436</td>\n",
       "      <td>-0.003756</td>\n",
       "      <td>-0.005663</td>\n",
       "      <td>0.002654</td>\n",
       "      <td>1.000000</td>\n",
       "      <td>-0.999831</td>\n",
       "      <td>0.188734</td>\n",
       "    </tr>\n",
       "    <tr>\n",
       "      <th>Y</th>\n",
       "      <td>-0.999789</td>\n",
       "      <td>1.000000</td>\n",
       "      <td>-0.006127</td>\n",
       "      <td>0.026861</td>\n",
       "      <td>0.019960</td>\n",
       "      <td>-0.014470</td>\n",
       "      <td>0.002892</td>\n",
       "      <td>0.005689</td>\n",
       "      <td>-0.006517</td>\n",
       "      <td>0.014335</td>\n",
       "      <td>0.003671</td>\n",
       "      <td>0.005499</td>\n",
       "      <td>-0.002154</td>\n",
       "      <td>-0.999789</td>\n",
       "      <td>0.999997</td>\n",
       "      <td>-0.177998</td>\n",
       "    </tr>\n",
       "    <tr>\n",
       "      <th>Index_</th>\n",
       "      <td>0.005392</td>\n",
       "      <td>-0.006127</td>\n",
       "      <td>1.000000</td>\n",
       "      <td>0.287852</td>\n",
       "      <td>0.252681</td>\n",
       "      <td>0.808727</td>\n",
       "      <td>0.008287</td>\n",
       "      <td>0.103096</td>\n",
       "      <td>-0.040937</td>\n",
       "      <td>0.056150</td>\n",
       "      <td>0.004610</td>\n",
       "      <td>0.097146</td>\n",
       "      <td>0.049181</td>\n",
       "      <td>0.005392</td>\n",
       "      <td>-0.006178</td>\n",
       "      <td>-0.060764</td>\n",
       "    </tr>\n",
       "    <tr>\n",
       "      <th>ucr_code</th>\n",
       "      <td>-0.027226</td>\n",
       "      <td>0.026861</td>\n",
       "      <td>0.287852</td>\n",
       "      <td>1.000000</td>\n",
       "      <td>0.918921</td>\n",
       "      <td>0.027264</td>\n",
       "      <td>0.000608</td>\n",
       "      <td>0.009376</td>\n",
       "      <td>-0.072508</td>\n",
       "      <td>0.013672</td>\n",
       "      <td>0.012577</td>\n",
       "      <td>0.015435</td>\n",
       "      <td>-0.040550</td>\n",
       "      <td>-0.027226</td>\n",
       "      <td>0.026758</td>\n",
       "      <td>-0.072892</td>\n",
       "    </tr>\n",
       "    <tr>\n",
       "      <th>ucr_ext</th>\n",
       "      <td>-0.020285</td>\n",
       "      <td>0.019960</td>\n",
       "      <td>0.252681</td>\n",
       "      <td>0.918921</td>\n",
       "      <td>1.000000</td>\n",
       "      <td>0.011789</td>\n",
       "      <td>-0.000295</td>\n",
       "      <td>0.007057</td>\n",
       "      <td>-0.058440</td>\n",
       "      <td>0.013785</td>\n",
       "      <td>0.013587</td>\n",
       "      <td>0.013010</td>\n",
       "      <td>-0.021774</td>\n",
       "      <td>-0.020285</td>\n",
       "      <td>0.019860</td>\n",
       "      <td>-0.062138</td>\n",
       "    </tr>\n",
       "    <tr>\n",
       "      <th>reportedyear</th>\n",
       "      <td>0.013924</td>\n",
       "      <td>-0.014470</td>\n",
       "      <td>0.808727</td>\n",
       "      <td>0.027264</td>\n",
       "      <td>0.011789</td>\n",
       "      <td>1.000000</td>\n",
       "      <td>0.002389</td>\n",
       "      <td>-0.003862</td>\n",
       "      <td>-0.005525</td>\n",
       "      <td>0.066120</td>\n",
       "      <td>-0.005338</td>\n",
       "      <td>-0.003575</td>\n",
       "      <td>0.007028</td>\n",
       "      <td>0.013924</td>\n",
       "      <td>-0.014411</td>\n",
       "      <td>-0.003407</td>\n",
       "    </tr>\n",
       "    <tr>\n",
       "      <th>reportedday</th>\n",
       "      <td>-0.002871</td>\n",
       "      <td>0.002892</td>\n",
       "      <td>0.008287</td>\n",
       "      <td>0.000608</td>\n",
       "      <td>-0.000295</td>\n",
       "      <td>0.002389</td>\n",
       "      <td>1.000000</td>\n",
       "      <td>0.087095</td>\n",
       "      <td>-0.002260</td>\n",
       "      <td>0.001200</td>\n",
       "      <td>0.820153</td>\n",
       "      <td>0.073280</td>\n",
       "      <td>-0.001883</td>\n",
       "      <td>-0.002871</td>\n",
       "      <td>0.002892</td>\n",
       "      <td>0.002755</td>\n",
       "    </tr>\n",
       "    <tr>\n",
       "      <th>reporteddayofyear</th>\n",
       "      <td>-0.005800</td>\n",
       "      <td>0.005689</td>\n",
       "      <td>0.103096</td>\n",
       "      <td>0.009376</td>\n",
       "      <td>0.007057</td>\n",
       "      <td>-0.003862</td>\n",
       "      <td>0.087095</td>\n",
       "      <td>1.000000</td>\n",
       "      <td>-0.007751</td>\n",
       "      <td>0.001991</td>\n",
       "      <td>0.073420</td>\n",
       "      <td>0.936150</td>\n",
       "      <td>0.003310</td>\n",
       "      <td>-0.005800</td>\n",
       "      <td>0.005694</td>\n",
       "      <td>-0.007868</td>\n",
       "    </tr>\n",
       "    <tr>\n",
       "      <th>reportedhour</th>\n",
       "      <td>0.007405</td>\n",
       "      <td>-0.006517</td>\n",
       "      <td>-0.040937</td>\n",
       "      <td>-0.072508</td>\n",
       "      <td>-0.058440</td>\n",
       "      <td>-0.005525</td>\n",
       "      <td>-0.002260</td>\n",
       "      <td>-0.007751</td>\n",
       "      <td>1.000000</td>\n",
       "      <td>-0.001393</td>\n",
       "      <td>-0.007339</td>\n",
       "      <td>-0.008557</td>\n",
       "      <td>0.568026</td>\n",
       "      <td>0.007405</td>\n",
       "      <td>-0.006641</td>\n",
       "      <td>0.006397</td>\n",
       "    </tr>\n",
       "    <tr>\n",
       "      <th>occurrenceyear</th>\n",
       "      <td>-0.014436</td>\n",
       "      <td>0.014335</td>\n",
       "      <td>0.056150</td>\n",
       "      <td>0.013672</td>\n",
       "      <td>0.013785</td>\n",
       "      <td>0.066120</td>\n",
       "      <td>0.001200</td>\n",
       "      <td>0.001991</td>\n",
       "      <td>-0.001393</td>\n",
       "      <td>1.000000</td>\n",
       "      <td>0.032664</td>\n",
       "      <td>0.032746</td>\n",
       "      <td>0.017790</td>\n",
       "      <td>-0.014436</td>\n",
       "      <td>0.014343</td>\n",
       "      <td>-0.003523</td>\n",
       "    </tr>\n",
       "    <tr>\n",
       "      <th>occurrenceday</th>\n",
       "      <td>-0.003756</td>\n",
       "      <td>0.003671</td>\n",
       "      <td>0.004610</td>\n",
       "      <td>0.012577</td>\n",
       "      <td>0.013587</td>\n",
       "      <td>-0.005338</td>\n",
       "      <td>0.820153</td>\n",
       "      <td>0.073420</td>\n",
       "      <td>-0.007339</td>\n",
       "      <td>0.032664</td>\n",
       "      <td>1.000000</td>\n",
       "      <td>0.100011</td>\n",
       "      <td>0.024230</td>\n",
       "      <td>-0.003756</td>\n",
       "      <td>0.003687</td>\n",
       "      <td>0.001201</td>\n",
       "    </tr>\n",
       "    <tr>\n",
       "      <th>occurrencedayofyear</th>\n",
       "      <td>-0.005663</td>\n",
       "      <td>0.005499</td>\n",
       "      <td>0.097146</td>\n",
       "      <td>0.015435</td>\n",
       "      <td>0.013010</td>\n",
       "      <td>-0.003575</td>\n",
       "      <td>0.073280</td>\n",
       "      <td>0.936150</td>\n",
       "      <td>-0.008557</td>\n",
       "      <td>0.032746</td>\n",
       "      <td>0.100011</td>\n",
       "      <td>1.000000</td>\n",
       "      <td>0.009088</td>\n",
       "      <td>-0.005663</td>\n",
       "      <td>0.005511</td>\n",
       "      <td>-0.008969</td>\n",
       "    </tr>\n",
       "    <tr>\n",
       "      <th>occurrencehour</th>\n",
       "      <td>0.002654</td>\n",
       "      <td>-0.002154</td>\n",
       "      <td>0.049181</td>\n",
       "      <td>-0.040550</td>\n",
       "      <td>-0.021774</td>\n",
       "      <td>0.007028</td>\n",
       "      <td>-0.001883</td>\n",
       "      <td>0.003310</td>\n",
       "      <td>0.568026</td>\n",
       "      <td>0.017790</td>\n",
       "      <td>0.024230</td>\n",
       "      <td>0.009088</td>\n",
       "      <td>1.000000</td>\n",
       "      <td>0.002654</td>\n",
       "      <td>-0.002276</td>\n",
       "      <td>-0.019865</td>\n",
       "    </tr>\n",
       "    <tr>\n",
       "      <th>Long</th>\n",
       "      <td>1.000000</td>\n",
       "      <td>-0.999789</td>\n",
       "      <td>0.005392</td>\n",
       "      <td>-0.027226</td>\n",
       "      <td>-0.020285</td>\n",
       "      <td>0.013924</td>\n",
       "      <td>-0.002871</td>\n",
       "      <td>-0.005800</td>\n",
       "      <td>0.007405</td>\n",
       "      <td>-0.014436</td>\n",
       "      <td>-0.003756</td>\n",
       "      <td>-0.005663</td>\n",
       "      <td>0.002654</td>\n",
       "      <td>1.000000</td>\n",
       "      <td>-0.999831</td>\n",
       "      <td>0.188734</td>\n",
       "    </tr>\n",
       "    <tr>\n",
       "      <th>Lat</th>\n",
       "      <td>-0.999831</td>\n",
       "      <td>0.999997</td>\n",
       "      <td>-0.006178</td>\n",
       "      <td>0.026758</td>\n",
       "      <td>0.019860</td>\n",
       "      <td>-0.014411</td>\n",
       "      <td>0.002892</td>\n",
       "      <td>0.005694</td>\n",
       "      <td>-0.006641</td>\n",
       "      <td>0.014343</td>\n",
       "      <td>0.003687</td>\n",
       "      <td>0.005511</td>\n",
       "      <td>-0.002276</td>\n",
       "      <td>-0.999831</td>\n",
       "      <td>1.000000</td>\n",
       "      <td>-0.178465</td>\n",
       "    </tr>\n",
       "    <tr>\n",
       "      <th>ObjectId</th>\n",
       "      <td>0.188734</td>\n",
       "      <td>-0.177998</td>\n",
       "      <td>-0.060764</td>\n",
       "      <td>-0.072892</td>\n",
       "      <td>-0.062138</td>\n",
       "      <td>-0.003407</td>\n",
       "      <td>0.002755</td>\n",
       "      <td>-0.007868</td>\n",
       "      <td>0.006397</td>\n",
       "      <td>-0.003523</td>\n",
       "      <td>0.001201</td>\n",
       "      <td>-0.008969</td>\n",
       "      <td>-0.019865</td>\n",
       "      <td>0.188734</td>\n",
       "      <td>-0.178465</td>\n",
       "      <td>1.000000</td>\n",
       "    </tr>\n",
       "  </tbody>\n",
       "</table>\n",
       "</div>"
      ],
      "text/plain": [
       "                            X         Y    Index_  ucr_code   ucr_ext  \\\n",
       "X                    1.000000 -0.999789  0.005392 -0.027226 -0.020285   \n",
       "Y                   -0.999789  1.000000 -0.006127  0.026861  0.019960   \n",
       "Index_               0.005392 -0.006127  1.000000  0.287852  0.252681   \n",
       "ucr_code            -0.027226  0.026861  0.287852  1.000000  0.918921   \n",
       "ucr_ext             -0.020285  0.019960  0.252681  0.918921  1.000000   \n",
       "reportedyear         0.013924 -0.014470  0.808727  0.027264  0.011789   \n",
       "reportedday         -0.002871  0.002892  0.008287  0.000608 -0.000295   \n",
       "reporteddayofyear   -0.005800  0.005689  0.103096  0.009376  0.007057   \n",
       "reportedhour         0.007405 -0.006517 -0.040937 -0.072508 -0.058440   \n",
       "occurrenceyear      -0.014436  0.014335  0.056150  0.013672  0.013785   \n",
       "occurrenceday       -0.003756  0.003671  0.004610  0.012577  0.013587   \n",
       "occurrencedayofyear -0.005663  0.005499  0.097146  0.015435  0.013010   \n",
       "occurrencehour       0.002654 -0.002154  0.049181 -0.040550 -0.021774   \n",
       "Long                 1.000000 -0.999789  0.005392 -0.027226 -0.020285   \n",
       "Lat                 -0.999831  0.999997 -0.006178  0.026758  0.019860   \n",
       "ObjectId             0.188734 -0.177998 -0.060764 -0.072892 -0.062138   \n",
       "\n",
       "                     reportedyear  reportedday  reporteddayofyear  \\\n",
       "X                        0.013924    -0.002871          -0.005800   \n",
       "Y                       -0.014470     0.002892           0.005689   \n",
       "Index_                   0.808727     0.008287           0.103096   \n",
       "ucr_code                 0.027264     0.000608           0.009376   \n",
       "ucr_ext                  0.011789    -0.000295           0.007057   \n",
       "reportedyear             1.000000     0.002389          -0.003862   \n",
       "reportedday              0.002389     1.000000           0.087095   \n",
       "reporteddayofyear       -0.003862     0.087095           1.000000   \n",
       "reportedhour            -0.005525    -0.002260          -0.007751   \n",
       "occurrenceyear           0.066120     0.001200           0.001991   \n",
       "occurrenceday           -0.005338     0.820153           0.073420   \n",
       "occurrencedayofyear     -0.003575     0.073280           0.936150   \n",
       "occurrencehour           0.007028    -0.001883           0.003310   \n",
       "Long                     0.013924    -0.002871          -0.005800   \n",
       "Lat                     -0.014411     0.002892           0.005694   \n",
       "ObjectId                -0.003407     0.002755          -0.007868   \n",
       "\n",
       "                     reportedhour  occurrenceyear  occurrenceday  \\\n",
       "X                        0.007405       -0.014436      -0.003756   \n",
       "Y                       -0.006517        0.014335       0.003671   \n",
       "Index_                  -0.040937        0.056150       0.004610   \n",
       "ucr_code                -0.072508        0.013672       0.012577   \n",
       "ucr_ext                 -0.058440        0.013785       0.013587   \n",
       "reportedyear            -0.005525        0.066120      -0.005338   \n",
       "reportedday             -0.002260        0.001200       0.820153   \n",
       "reporteddayofyear       -0.007751        0.001991       0.073420   \n",
       "reportedhour             1.000000       -0.001393      -0.007339   \n",
       "occurrenceyear          -0.001393        1.000000       0.032664   \n",
       "occurrenceday           -0.007339        0.032664       1.000000   \n",
       "occurrencedayofyear     -0.008557        0.032746       0.100011   \n",
       "occurrencehour           0.568026        0.017790       0.024230   \n",
       "Long                     0.007405       -0.014436      -0.003756   \n",
       "Lat                     -0.006641        0.014343       0.003687   \n",
       "ObjectId                 0.006397       -0.003523       0.001201   \n",
       "\n",
       "                     occurrencedayofyear  occurrencehour      Long       Lat  \\\n",
       "X                              -0.005663        0.002654  1.000000 -0.999831   \n",
       "Y                               0.005499       -0.002154 -0.999789  0.999997   \n",
       "Index_                          0.097146        0.049181  0.005392 -0.006178   \n",
       "ucr_code                        0.015435       -0.040550 -0.027226  0.026758   \n",
       "ucr_ext                         0.013010       -0.021774 -0.020285  0.019860   \n",
       "reportedyear                   -0.003575        0.007028  0.013924 -0.014411   \n",
       "reportedday                     0.073280       -0.001883 -0.002871  0.002892   \n",
       "reporteddayofyear               0.936150        0.003310 -0.005800  0.005694   \n",
       "reportedhour                   -0.008557        0.568026  0.007405 -0.006641   \n",
       "occurrenceyear                  0.032746        0.017790 -0.014436  0.014343   \n",
       "occurrenceday                   0.100011        0.024230 -0.003756  0.003687   \n",
       "occurrencedayofyear             1.000000        0.009088 -0.005663  0.005511   \n",
       "occurrencehour                  0.009088        1.000000  0.002654 -0.002276   \n",
       "Long                           -0.005663        0.002654  1.000000 -0.999831   \n",
       "Lat                             0.005511       -0.002276 -0.999831  1.000000   \n",
       "ObjectId                       -0.008969       -0.019865  0.188734 -0.178465   \n",
       "\n",
       "                     ObjectId  \n",
       "X                    0.188734  \n",
       "Y                   -0.177998  \n",
       "Index_              -0.060764  \n",
       "ucr_code            -0.072892  \n",
       "ucr_ext             -0.062138  \n",
       "reportedyear        -0.003407  \n",
       "reportedday          0.002755  \n",
       "reporteddayofyear   -0.007868  \n",
       "reportedhour         0.006397  \n",
       "occurrenceyear      -0.003523  \n",
       "occurrenceday        0.001201  \n",
       "occurrencedayofyear -0.008969  \n",
       "occurrencehour      -0.019865  \n",
       "Long                 0.188734  \n",
       "Lat                 -0.178465  \n",
       "ObjectId             1.000000  "
      ]
     },
     "execution_count": 10,
     "metadata": {},
     "output_type": "execute_result"
    }
   ],
   "source": [
    "cor=va_dt.corr()\n",
    "cor"
   ]
  },
  {
   "cell_type": "code",
   "execution_count": 11,
   "id": "1a59169b",
   "metadata": {},
   "outputs": [
    {
     "data": {
      "image/png": "[encoded data removed]",
      "text/plain": [
       "<Figure size 432x288 with 2 Axes>"
      ]
     },
     "metadata": {
      "needs_background": "light"
     },
     "output_type": "display_data"
    }
   ],
   "source": [
    "sns.heatmap(cor, annot=True, cmap=plt.cm.Reds)\n",
    "plt.show()"
   ]
  },
  {
   "cell_type": "code",
   "execution_count": 12,
   "id": "ffedd589",
   "metadata": {},
   "outputs": [
    {
     "data": {
      "text/plain": [
       "0"
      ]
     },
     "execution_count": 12,
     "metadata": {},
     "output_type": "execute_result"
    }
   ],
   "source": [
    "va_dt.duplicated().sum()"
   ]
  },
  {
   "cell_type": "code",
   "execution_count": null,
   "id": "a41ca038",
   "metadata": {},
   "outputs": [],
   "source": []
  },
  {
   "cell_type": "markdown",
   "id": "e231cc78",
   "metadata": {},
   "source": [
    "# Data Processing"
   ]
  },
  {
   "cell_type": "code",
   "execution_count": 13,
   "id": "f8b166a8",
   "metadata": {},
   "outputs": [
    {
     "data": {
      "text/plain": [
       "X                       0\n",
       "Y                       0\n",
       "Index_                  0\n",
       "event_unique_id         0\n",
       "Division                0\n",
       "occurrencedate          0\n",
       "reporteddate            0\n",
       "location_type           0\n",
       "premises_type           0\n",
       "ucr_code                0\n",
       "ucr_ext                 0\n",
       "offence                 0\n",
       "reportedyear            0\n",
       "reportedmonth           0\n",
       "reportedday             0\n",
       "reporteddayofyear       0\n",
       "reporteddayofweek       0\n",
       "reportedhour            0\n",
       "occurrenceyear          0\n",
       "occurrencemonth        95\n",
       "occurrenceday           0\n",
       "occurrencedayofyear     0\n",
       "occurrencedayofweek    95\n",
       "occurrencehour          0\n",
       "MCI                     0\n",
       "Hood_ID                 0\n",
       "Neighbourhood           0\n",
       "Long                    0\n",
       "Lat                     0\n",
       "ObjectId                0\n",
       "dtype: int64"
      ]
     },
     "execution_count": 13,
     "metadata": {},
     "output_type": "execute_result"
    }
   ],
   "source": [
    "va_dt.isnull().sum()"
   ]
  },
  {
   "cell_type": "code",
   "execution_count": 14,
   "id": "385c4788",
   "metadata": {},
   "outputs": [
    {
     "data": {
      "text/plain": [
       "0         1430\n",
       "1         1610\n",
       "2         1430\n",
       "3         2120\n",
       "4         2120\n",
       "          ... \n",
       "281687    2120\n",
       "281688    2120\n",
       "281689    1430\n",
       "281690    1430\n",
       "281691    1420\n",
       "Name: ucr_code, Length: 281692, dtype: int64"
      ]
     },
     "execution_count": 14,
     "metadata": {},
     "output_type": "execute_result"
    }
   ],
   "source": [
    "va_dt['ucr_code']"
   ]
  },
  {
   "cell_type": "code",
   "execution_count": 15,
   "id": "d068cdb7",
   "metadata": {},
   "outputs": [
    {
     "data": {
      "text/plain": [
       "Apartment (Rooming House, Condo)                                          67468\n",
       "Single Home, House (Attach Garage, Cottage, Mobile)                       50689\n",
       "Streets, Roads, Highways (Bicycle Path, Private Road)                     44763\n",
       "Other Commercial / Corporate Places (For Profit, Warehouse, Corp. Bldg    32462\n",
       "Parking Lots (Apt., Commercial Or Non-Commercial)                         23301\n",
       "Bar / Restaurant                                                          11342\n",
       "Open Areas (Lakes, Parks, Rivers)                                          6032\n",
       "Schools During Supervised Activity                                         4332\n",
       "Convenience Stores                                                         3600\n",
       "Ttc Subway Station                                                         3315\n",
       "Commercial Dwelling Unit (Hotel, Motel, B & B, Short Term Rental)          3270\n",
       "Schools During Un-Supervised Activity                                      2521\n",
       "Hospital / Institutions / Medical Facilities (Clinic, Dentist, Morgue)     2500\n",
       "Ttc Bus                                                                    2489\n",
       "Private Property Structure (Pool, Shed, Detached Garage)                   2476\n",
       "Other Non Commercial / Corporate Places (Non-Profit, Gov'T, Firehall)      2424\n",
       "Jails / Detention Centres                                                  1750\n",
       "Construction Site (Warehouse, Trailer, Shed)                               1714\n",
       "Bank And Other Financial Institutions (Money Mart, Tsx)                    1713\n",
       "Homeless Shelter / Mission                                                 1706\n",
       "Gas Station (Self, Full, Attached Convenience)                             1465\n",
       "Dealership (Car, Motorcycle, Marine, Trailer, Etc.)                        1407\n",
       "Group Homes (Non-Profit, Halfway House, Social Agency)                     1369\n",
       "Police / Courts (Parole Board, Probation Office)                            826\n",
       "Ttc Bus Stop / Shelter / Loop                                               786\n",
       "Ttc Subway Train                                                            745\n",
       "Religious Facilities (Synagogue, Church, Convent, Mosque)                   694\n",
       "Unknown                                                                     693\n",
       "Nursing Home                                                                643\n",
       "Pharmacy                                                                    571\n",
       "Universities / Colleges                                                     530\n",
       "Retirement Home                                                             492\n",
       "Ttc Street Car                                                              458\n",
       "Go Station                                                                  337\n",
       "Community Group Home                                                        198\n",
       "Other Regional Transit System Vehicle                                        97\n",
       "Other Passenger Train Station                                                87\n",
       "Ttc Light Rail Transit Station                                               78\n",
       "Go Bus                                                                       65\n",
       "Go Train                                                                     57\n",
       "Ttc Admin Or Support Facility                                                30\n",
       "Ttc Bus Garage                                                               30\n",
       "Halfway House                                                                29\n",
       "Other Passenger Train                                                        28\n",
       "Ttc Light Rail Vehicle                                                       25\n",
       "Ttc Subway Tunnel / Outdoor Tracks                                           17\n",
       "Other Train Yard                                                             17\n",
       "Other Train Tracks                                                           16\n",
       "Other Train Admin Or Support Facility                                        15\n",
       "Ttc Wheel Trans Vehicle                                                      11\n",
       "Cargo Train                                                                   7\n",
       "Ttc Support Vehicle                                                           2\n",
       "Name: location_type, dtype: int64"
      ]
     },
     "execution_count": 15,
     "metadata": {},
     "output_type": "execute_result"
    }
   ],
   "source": [
    "va_dt.location_type.value_counts()"
   ]
  },
  {
   "cell_type": "code",
   "execution_count": 16,
   "id": "29d6d65e",
   "metadata": {},
   "outputs": [
    {
     "data": {
      "text/plain": [
       "'\\n#categorical the location by replace the value\\nva_dt[\\'location_type\\'] = va_dt[\\'location_type\\'].replace([\\'Other Train Admin Or Support Facility\\', \\'Other Train Tracks\\',\\'Other Train Yard\\',\\'Other Passenger Train\\',\\'Go Train\\',\\'Cargo Train\\',\\'Ttc Subway Train\\'], \\'Train\\')\\nva_dt[\\'location_type\\'] = va_dt[\\'location_type\\'].replace([\\'Other Passenger Train Station\\', \\'Ttc Light Rail Transit Station\\',\\'Go Station\\',\\'Gas Station (Self, Full, Attached Convenience)\\',\\'Ttc Subway Station\\',\\'Ttc Subway Tunnel / Outdoor Tracks\\'], \\'Station\\')\\nva_dt[\\'location_type\\'] = va_dt[\\'location_type\\'].replace([\\'Ttc Bus\\', \\'Ttc Light Rail Transit Station\\',\\'Ttc Bus Stop / Shelter / Loop\\',\\'Go Bus\\',\\'Ttc Bus Garage\\'], \\'bus\\')\\nva_dt[\\'location_type\\'] = va_dt[\\'location_type\\'].replace([\\'Schools During Supervised Activity\\', \\'Schools During Un-Supervised Activity\\',\\'Universities / Colleges\\'], \\'school\\')\\nva_dt[\\'location_type\\'] = va_dt[\\'location_type\\'].replace([\\'Streets, Roads, Highways (Bicycle Path, Private Road)\\', \\'Ttc Street Car\\'], \\'Streets\\')\\nva_dt[\\'location_type\\'] = va_dt[\\'location_type\\'].replace([\\'Dealership (Car, Motorcycle, Marine, Trailer, Etc.)\\', \\'Other Regional Transit System Vehicle\\',\\'Ttc Light Rail Vehicle\\',\\'Ttc Wheel Trans Vehicle\\',\\'Ttc Support Vehicle\\'], \\'Vehicle\\')\\nva_dt[\\'location_type\\'] = va_dt[\\'location_type\\'].replace([\\'Single Home, House (Attach Garage, Cottage, Mobile)\\'], \\'Single_Home\\')\\nva_dt[\\'location_type\\'] = va_dt[\\'location_type\\'].replace([\\'Bar / Restaurant\\'], \\'Restaurant\\')\\nva_dt[\\'location_type\\'] = va_dt[\\'location_type\\'].replace([\\'Other Commercial / Corporate Places (For Profit, Warehouse, Corp. Bldg\\',\\'Commercial Dwelling Unit (Hotel, Motel, B & B, Short Term Rental)\\'], \\'Commercial\\')\\nva_dt[\\'location_type\\'] = va_dt[\\'location_type\\'].replace([\"Other Non Commercial / Corporate Places (Non-Profit, Gov\\'T, Firehall)\",\"Homeless Shelter / Mission\",\"Retirement Home\"], \\'Non_Commercial\\')\\nva_dt[\\'location_type\\'] = va_dt[\\'location_type\\'].replace([\"Group Homes (Non-Profit, Halfway House, Social Agency)\",\"Community Group Home\",\"Halfway House\"], \\'Group_Homes\\')\\nva_dt[\\'location_type\\'] = va_dt[\\'location_type\\'].replace([\"Hospital / Institutions / Medical Facilities (Clinic, Dentist, Morgue)\",\"Pharmacy\",\"Nursing Home\"], \\'Medical_institutions\\')\\nva_dt[\\'location_type\\'] = va_dt[\\'location_type\\'].replace([\\'Police / Courts (Parole Board, Probation Office)\\',\\'Jails / Detention Centres\\'], \\'Judicial_institutions\\')\\nva_dt[\\'location_type\\'] = va_dt[\\'location_type\\'].replace([\\'Religious Facilities (Synagogue, Church, Convent, Mosque)\\'],\\'Religious\\' )\\nva_dt[\\'location_type\\'] = va_dt[\\'location_type\\'].replace([\\'Bank And Other Financial Institutions (Money Mart, Tsx)\\'], \\'Financial_Institutions\\')\\nva_dt[\\'location_type\\'] = va_dt[\\'location_type\\'].replace([\\'Open Areas (Lakes, Parks, Rivers)\\'], \\'Open_Areas\\')\\nva_dt[\\'location_type\\'] = va_dt[\\'location_type\\'].replace([\\'Parking Lots (Apt., Commercial Or Non-Commercial)\\'], \\'Parking_Lots\\')\\nva_dt[\\'location_type\\'] = va_dt[\\'location_type\\'].replace([\\'Apartment (Rooming House, Condo)\\'], \\'Apartment\\')\\nva_dt[\\'location_type\\'] = va_dt[\\'location_type\\'].replace([\\'Construction Site (Warehouse, Trailer, Shed)\\'], \\'Construction_Site\\')\\nva_dt[\\'location_type\\'] = va_dt[\\'location_type\\'].replace([\\'Private Property Structure (Pool, Shed, Detached Garage)\\'], \\'Private_Structure\\')\\nva_dt[\\'location_type\\'] = va_dt[\\'location_type\\'].replace([\\'Ttc Admin Or Support Facility\\'], \\'Admin\\')\\nva_dt[\\'location_type\\'] = va_dt[\\'location_type\\'].replace([\\'Unknown\\'], np.nan)\\n'"
      ]
     },
     "execution_count": 16,
     "metadata": {},
     "output_type": "execute_result"
    }
   ],
   "source": [
    "'''\n",
    "#categorical the location by replace the value\n",
    "va_dt['location_type'] = va_dt['location_type'].replace(['Other Train Admin Or Support Facility', 'Other Train Tracks','Other Train Yard','Other Passenger Train','Go Train','Cargo Train','Ttc Subway Train'], 'Train')\n",
    "va_dt['location_type'] = va_dt['location_type'].replace(['Other Passenger Train Station', 'Ttc Light Rail Transit Station','Go Station','Gas Station (Self, Full, Attached Convenience)','Ttc Subway Station','Ttc Subway Tunnel / Outdoor Tracks'], 'Station')\n",
    "va_dt['location_type'] = va_dt['location_type'].replace(['Ttc Bus', 'Ttc Light Rail Transit Station','Ttc Bus Stop / Shelter / Loop','Go Bus','Ttc Bus Garage'], 'bus')\n",
    "va_dt['location_type'] = va_dt['location_type'].replace(['Schools During Supervised Activity', 'Schools During Un-Supervised Activity','Universities / Colleges'], 'school')\n",
    "va_dt['location_type'] = va_dt['location_type'].replace(['Streets, Roads, Highways (Bicycle Path, Private Road)', 'Ttc Street Car'], 'Streets')\n",
    "va_dt['location_type'] = va_dt['location_type'].replace(['Dealership (Car, Motorcycle, Marine, Trailer, Etc.)', 'Other Regional Transit System Vehicle','Ttc Light Rail Vehicle','Ttc Wheel Trans Vehicle','Ttc Support Vehicle'], 'Vehicle')\n",
    "va_dt['location_type'] = va_dt['location_type'].replace(['Single Home, House (Attach Garage, Cottage, Mobile)'], 'Single_Home')\n",
    "va_dt['location_type'] = va_dt['location_type'].replace(['Bar / Restaurant'], 'Restaurant')\n",
    "va_dt['location_type'] = va_dt['location_type'].replace(['Other Commercial / Corporate Places (For Profit, Warehouse, Corp. Bldg','Commercial Dwelling Unit (Hotel, Motel, B & B, Short Term Rental)'], 'Commercial')\n",
    "va_dt['location_type'] = va_dt['location_type'].replace([\"Other Non Commercial / Corporate Places (Non-Profit, Gov'T, Firehall)\",\"Homeless Shelter / Mission\",\"Retirement Home\"], 'Non_Commercial')\n",
    "va_dt['location_type'] = va_dt['location_type'].replace([\"Group Homes (Non-Profit, Halfway House, Social Agency)\",\"Community Group Home\",\"Halfway House\"], 'Group_Homes')\n",
    "va_dt['location_type'] = va_dt['location_type'].replace([\"Hospital / Institutions / Medical Facilities (Clinic, Dentist, Morgue)\",\"Pharmacy\",\"Nursing Home\"], 'Medical_institutions')\n",
    "va_dt['location_type'] = va_dt['location_type'].replace(['Police / Courts (Parole Board, Probation Office)','Jails / Detention Centres'], 'Judicial_institutions')\n",
    "va_dt['location_type'] = va_dt['location_type'].replace(['Religious Facilities (Synagogue, Church, Convent, Mosque)'],'Religious' )\n",
    "va_dt['location_type'] = va_dt['location_type'].replace(['Bank And Other Financial Institutions (Money Mart, Tsx)'], 'Financial_Institutions')\n",
    "va_dt['location_type'] = va_dt['location_type'].replace(['Open Areas (Lakes, Parks, Rivers)'], 'Open_Areas')\n",
    "va_dt['location_type'] = va_dt['location_type'].replace(['Parking Lots (Apt., Commercial Or Non-Commercial)'], 'Parking_Lots')\n",
    "va_dt['location_type'] = va_dt['location_type'].replace(['Apartment (Rooming House, Condo)'], 'Apartment')\n",
    "va_dt['location_type'] = va_dt['location_type'].replace(['Construction Site (Warehouse, Trailer, Shed)'], 'Construction_Site')\n",
    "va_dt['location_type'] = va_dt['location_type'].replace(['Private Property Structure (Pool, Shed, Detached Garage)'], 'Private_Structure')\n",
    "va_dt['location_type'] = va_dt['location_type'].replace(['Ttc Admin Or Support Facility'], 'Admin')\n",
    "va_dt['location_type'] = va_dt['location_type'].replace(['Unknown'], np.nan)\n",
    "'''\n"
   ]
  },
  {
   "cell_type": "code",
   "execution_count": 17,
   "id": "d497ad63",
   "metadata": {},
   "outputs": [
    {
     "data": {
      "text/plain": [
       "Outside        74899\n",
       "Apartment      67468\n",
       "Commercial     56973\n",
       "House          50689\n",
       "Other          16394\n",
       "Transit         7886\n",
       "Educational     7383\n",
       "Name: premises_type, dtype: int64"
      ]
     },
     "execution_count": 17,
     "metadata": {},
     "output_type": "execute_result"
    }
   ],
   "source": [
    "va_dt['premises_type'].value_counts()"
   ]
  },
  {
   "cell_type": "code",
   "execution_count": 18,
   "id": "6e59bf83",
   "metadata": {},
   "outputs": [
    {
     "data": {
      "text/plain": [
       "2019    39912\n",
       "2018    37408\n",
       "2017    35484\n",
       "2020    34866\n",
       "2021    33685\n",
       "2016    33596\n",
       "2015    32910\n",
       "2014    32459\n",
       "2013      594\n",
       "2012      182\n",
       "2011      128\n",
       "2010       96\n",
       "0          95\n",
       "2009       71\n",
       "2008       42\n",
       "2007       35\n",
       "2004       26\n",
       "2005       24\n",
       "2000       22\n",
       "2001       20\n",
       "2003       14\n",
       "2002       12\n",
       "2006       11\n",
       "Name: occurrenceyear, dtype: int64"
      ]
     },
     "execution_count": 18,
     "metadata": {},
     "output_type": "execute_result"
    }
   ],
   "source": [
    "va_dt['occurrenceyear'].value_counts()"
   ]
  },
  {
   "cell_type": "code",
   "execution_count": 19,
   "id": "075657bf",
   "metadata": {},
   "outputs": [],
   "source": [
    "#drop all missing data\n",
    "va_dt.dropna(axis=0,inplace=True)"
   ]
  },
  {
   "cell_type": "code",
   "execution_count": 20,
   "id": "55d76af0",
   "metadata": {},
   "outputs": [
    {
     "data": {
      "text/plain": [
       "\"\\nva_dt['occurrencedate'] =  pd.to_datetime(va_dt['occurrencedate'])\\nva_dt['reporteddate'] =  pd.to_datetime(va_dt['reporteddate'])\\n\""
      ]
     },
     "execution_count": 20,
     "metadata": {},
     "output_type": "execute_result"
    }
   ],
   "source": [
    "'''\n",
    "va_dt['occurrencedate'] =  pd.to_datetime(va_dt['occurrencedate'])\n",
    "va_dt['reporteddate'] =  pd.to_datetime(va_dt['reporteddate'])\n",
    "'''"
   ]
  },
  {
   "cell_type": "code",
   "execution_count": 21,
   "id": "051f42f1",
   "metadata": {},
   "outputs": [
    {
     "name": "stdout",
     "output_type": "stream",
     "text": [
      "<class 'pandas.core.frame.DataFrame'>\n",
      "Int64Index: 281597 entries, 0 to 281691\n",
      "Data columns (total 30 columns):\n",
      " #   Column               Non-Null Count   Dtype  \n",
      "---  ------               --------------   -----  \n",
      " 0   X                    281597 non-null  float64\n",
      " 1   Y                    281597 non-null  float64\n",
      " 2   Index_               281597 non-null  int64  \n",
      " 3   event_unique_id      281597 non-null  object \n",
      " 4   Division             281597 non-null  object \n",
      " 5   occurrencedate       281597 non-null  object \n",
      " 6   reporteddate         281597 non-null  object \n",
      " 7   location_type        281597 non-null  object \n",
      " 8   premises_type        281597 non-null  object \n",
      " 9   ucr_code             281597 non-null  int64  \n",
      " 10  ucr_ext              281597 non-null  int64  \n",
      " 11  offence              281597 non-null  object \n",
      " 12  reportedyear         281597 non-null  int64  \n",
      " 13  reportedmonth        281597 non-null  object \n",
      " 14  reportedday          281597 non-null  int64  \n",
      " 15  reporteddayofyear    281597 non-null  int64  \n",
      " 16  reporteddayofweek    281597 non-null  object \n",
      " 17  reportedhour         281597 non-null  int64  \n",
      " 18  occurrenceyear       281597 non-null  int64  \n",
      " 19  occurrencemonth      281597 non-null  object \n",
      " 20  occurrenceday        281597 non-null  int64  \n",
      " 21  occurrencedayofyear  281597 non-null  int64  \n",
      " 22  occurrencedayofweek  281597 non-null  object \n",
      " 23  occurrencehour       281597 non-null  int64  \n",
      " 24  MCI                  281597 non-null  object \n",
      " 25  Hood_ID              281597 non-null  object \n",
      " 26  Neighbourhood        281597 non-null  object \n",
      " 27  Long                 281597 non-null  float64\n",
      " 28  Lat                  281597 non-null  float64\n",
      " 29  ObjectId             281597 non-null  int64  \n",
      "dtypes: float64(4), int64(12), object(14)\n",
      "memory usage: 66.6+ MB\n"
     ]
    }
   ],
   "source": [
    "va_dt.info()"
   ]
  },
  {
   "cell_type": "code",
   "execution_count": 22,
   "id": "65f33fca",
   "metadata": {},
   "outputs": [
    {
     "data": {
      "text/plain": [
       "October      25196\n",
       "July         25129\n",
       "August       24840\n",
       "September    24371\n",
       "June         24204\n",
       "November     24125\n",
       "May          23864\n",
       "January      22968\n",
       "December     22825\n",
       "March        22179\n",
       "April        21737\n",
       "February     20159\n",
       "Name: occurrencemonth, dtype: int64"
      ]
     },
     "execution_count": 22,
     "metadata": {},
     "output_type": "execute_result"
    }
   ],
   "source": [
    "va_dt['occurrencemonth'].value_counts()"
   ]
  },
  {
   "cell_type": "code",
   "execution_count": 23,
   "id": "057e0a2a",
   "metadata": {},
   "outputs": [],
   "source": [
    "\n",
    "d= {'January':1, 'February':2, 'March':3, 'April':4, 'May':5,'June':6,'July':7,'August':8,'September':9,'October':10,'November':11,'December':12}\n",
    "va_dt['occurrencemonth'] = va_dt['occurrencemonth'].map(d)\n",
    "#va_dt['reportedmonth']=va_dt['reportedmonth'].map(d)\n"
   ]
  },
  {
   "cell_type": "code",
   "execution_count": 24,
   "id": "30c0cf19",
   "metadata": {},
   "outputs": [
    {
     "data": {
      "text/plain": [
       "0          3\n",
       "1         12\n",
       "2          1\n",
       "3         12\n",
       "4          1\n",
       "          ..\n",
       "281687    10\n",
       "281688    10\n",
       "281689    11\n",
       "281690    11\n",
       "281691    11\n",
       "Name: occurrencemonth, Length: 281597, dtype: int64"
      ]
     },
     "execution_count": 24,
     "metadata": {},
     "output_type": "execute_result"
    }
   ],
   "source": [
    "va_dt['occurrencemonth']"
   ]
  },
  {
   "cell_type": "markdown",
   "id": "4751ccc6",
   "metadata": {},
   "source": [
    "# Feature Engineering"
   ]
  },
  {
   "cell_type": "code",
   "execution_count": 25,
   "id": "9609e522",
   "metadata": {},
   "outputs": [],
   "source": [
    "# delete all unuseful feature\n",
    "va_dt.drop(['Hood_ID','Index_','ucr_code','event_unique_id','ObjectId','offence','location_type','occurrencedate','reporteddate'],axis=1,inplace=True)"
   ]
  },
  {
   "cell_type": "code",
   "execution_count": 26,
   "id": "8b835b05",
   "metadata": {},
   "outputs": [],
   "source": [
    "# lat,  Long have high correlation with x,y so we will remove it \n",
    "va_dt.drop(['Lat','Long'],axis=1,inplace=True)"
   ]
  },
  {
   "cell_type": "code",
   "execution_count": 27,
   "id": "c66cc88f",
   "metadata": {},
   "outputs": [],
   "source": [
    "#create dataframe for date\n",
    "df = pd.DataFrame({'year': va_dt['occurrenceyear'],\n",
    "                   'month': va_dt['occurrencemonth'],\n",
    "                   'day': va_dt['occurrenceday']})\n",
    "date=pd.to_datetime(df[[\"year\", \"month\", \"day\"]])"
   ]
  },
  {
   "cell_type": "code",
   "execution_count": 28,
   "id": "218d7ef1",
   "metadata": {},
   "outputs": [],
   "source": [
    "#get all holidays in data \n",
    "holidays = calendar().holidays(start='2003-01-01', end='2022-08-19')\n",
    "#create column for holidays\n",
    "va_dt[\"Holiday\"] = date.astype(\"datetime64\").isin(holidays)"
   ]
  },
  {
   "cell_type": "code",
   "execution_count": 29,
   "id": "f0a10c03",
   "metadata": {},
   "outputs": [],
   "source": [
    "#Create columns for weekend\n",
    "r=date.apply(lambda x: x)\n",
    "e=r.dt.day_name()\n",
    "def weekend(weekday):\n",
    "    return weekday == \"Saturday\" or weekday == \"Sunday\"\n",
    "\n",
    "va_dt[\"Weekend\"] = e.map(weekend)"
   ]
  },
  {
   "cell_type": "code",
   "execution_count": 30,
   "id": "5f182b82",
   "metadata": {},
   "outputs": [
    {
     "name": "stdout",
     "output_type": "stream",
     "text": [
      "<class 'pandas.core.frame.DataFrame'>\n",
      "Int64Index: 281597 entries, 0 to 281691\n",
      "Data columns (total 21 columns):\n",
      " #   Column               Non-Null Count   Dtype  \n",
      "---  ------               --------------   -----  \n",
      " 0   X                    281597 non-null  float64\n",
      " 1   Y                    281597 non-null  float64\n",
      " 2   Division             281597 non-null  object \n",
      " 3   premises_type        281597 non-null  object \n",
      " 4   ucr_ext              281597 non-null  int64  \n",
      " 5   reportedyear         281597 non-null  int64  \n",
      " 6   reportedmonth        281597 non-null  object \n",
      " 7   reportedday          281597 non-null  int64  \n",
      " 8   reporteddayofyear    281597 non-null  int64  \n",
      " 9   reporteddayofweek    281597 non-null  object \n",
      " 10  reportedhour         281597 non-null  int64  \n",
      " 11  occurrenceyear       281597 non-null  int64  \n",
      " 12  occurrencemonth      281597 non-null  int64  \n",
      " 13  occurrenceday        281597 non-null  int64  \n",
      " 14  occurrencedayofyear  281597 non-null  int64  \n",
      " 15  occurrencedayofweek  281597 non-null  object \n",
      " 16  occurrencehour       281597 non-null  int64  \n",
      " 17  MCI                  281597 non-null  object \n",
      " 18  Neighbourhood        281597 non-null  object \n",
      " 19  Holiday              281597 non-null  bool   \n",
      " 20  Weekend              281597 non-null  bool   \n",
      "dtypes: bool(2), float64(2), int64(10), object(7)\n",
      "memory usage: 43.5+ MB\n"
     ]
    }
   ],
   "source": [
    "va_dt.info()"
   ]
  },
  {
   "cell_type": "code",
   "execution_count": 31,
   "id": "a9fd48c1",
   "metadata": {},
   "outputs": [],
   "source": [
    "# drop report data \n",
    "va_dt.drop(['reportedyear','reportedmonth','reportedday','reporteddayofyear','reporteddayofweek','reportedhour','occurrenceyear','occurrencemonth','occurrenceday'],axis=1,inplace=True)"
   ]
  },
  {
   "cell_type": "code",
   "execution_count": 32,
   "id": "32bfad70",
   "metadata": {},
   "outputs": [
    {
     "name": "stdout",
     "output_type": "stream",
     "text": [
      "<class 'pandas.core.frame.DataFrame'>\n",
      "Int64Index: 281597 entries, 0 to 281691\n",
      "Data columns (total 12 columns):\n",
      " #   Column               Non-Null Count   Dtype  \n",
      "---  ------               --------------   -----  \n",
      " 0   X                    281597 non-null  float64\n",
      " 1   Y                    281597 non-null  float64\n",
      " 2   Division             281597 non-null  object \n",
      " 3   premises_type        281597 non-null  object \n",
      " 4   ucr_ext              281597 non-null  int64  \n",
      " 5   occurrencedayofyear  281597 non-null  int64  \n",
      " 6   occurrencedayofweek  281597 non-null  object \n",
      " 7   occurrencehour       281597 non-null  int64  \n",
      " 8   MCI                  281597 non-null  object \n",
      " 9   Neighbourhood        281597 non-null  object \n",
      " 10  Holiday              281597 non-null  bool   \n",
      " 11  Weekend              281597 non-null  bool   \n",
      "dtypes: bool(2), float64(2), int64(3), object(5)\n",
      "memory usage: 24.2+ MB\n"
     ]
    }
   ],
   "source": [
    "va_dt.info()"
   ]
  },
  {
   "cell_type": "markdown",
   "id": "a789cc16",
   "metadata": {},
   "source": [
    "## Encoder"
   ]
  },
  {
   "cell_type": "code",
   "execution_count": 33,
   "id": "67644fc1",
   "metadata": {},
   "outputs": [],
   "source": [
    "le = LabelEncoder()\n",
    "va_dt[\"Holiday\"] = le.fit_transform(va_dt[\"Holiday\"])"
   ]
  },
  {
   "cell_type": "code",
   "execution_count": 34,
   "id": "42bf956b",
   "metadata": {},
   "outputs": [],
   "source": [
    "encoder = OneHotEncoder()\n",
    "encoder_df = pd.DataFrame(encoder.fit_transform(va_dt[['Neighbourhood']]).toarray())\n",
    "final_df = va_dt.join(encoder_df)\n",
    "del final_df[\"Neighbourhood\"]"
   ]
  },
  {
   "cell_type": "code",
   "execution_count": 35,
   "id": "82d9ad7e",
   "metadata": {},
   "outputs": [],
   "source": [
    "final_df[\"MCI\"] = le.fit_transform(final_df[\"MCI\"])\n",
    "final_df['Weekend']=le.fit_transform(final_df[\"Weekend\"])\n",
    "final_df[\"occurrencedayofweek\"] = le.fit_transform(final_df[\"occurrencedayofweek\"])\n",
    "final_df[\"Division\"] = le.fit_transform(final_df[\"Division\"])\n",
    "final_df[\"premises_type\"] = le.fit_transform(final_df[\"premises_type\"])"
   ]
  },
  {
   "cell_type": "code",
   "execution_count": 36,
   "id": "658ef94e",
   "metadata": {},
   "outputs": [
    {
     "data": {
      "text/plain": [
       "X                0\n",
       "Y                0\n",
       "Division         0\n",
       "premises_type    0\n",
       "ucr_ext          0\n",
       "                ..\n",
       "136              0\n",
       "137              0\n",
       "138              0\n",
       "139              0\n",
       "140              0\n",
       "Length: 152, dtype: int64"
      ]
     },
     "execution_count": 36,
     "metadata": {},
     "output_type": "execute_result"
    }
   ],
   "source": [
    "#drop null values\n",
    "final_df.dropna(axis=0,inplace=True)\n",
    "final_df.isnull().sum()"
   ]
  },
  {
   "cell_type": "markdown",
   "id": "4af2a371",
   "metadata": {},
   "source": [
    "# Model "
   ]
  },
  {
   "cell_type": "code",
   "execution_count": 37,
   "id": "2544c7eb",
   "metadata": {},
   "outputs": [],
   "source": [
    "#spilt data\n",
    "x=final_df.drop(\"MCI\", axis=1)\n",
    "y=final_df[\"MCI\"]\n",
    "X_train, X_test, y_train, y_test = train_test_split(x,y,test_size=0.3,random_state=42,stratify=y)"
   ]
  },
  {
   "cell_type": "code",
   "execution_count": 40,
   "id": "5d7ab08a",
   "metadata": {},
   "outputs": [],
   "source": [
    "#pip install imblearn"
   ]
  },
  {
   "cell_type": "code",
   "execution_count": 41,
   "id": "4895a526",
   "metadata": {},
   "outputs": [
    {
     "name": "stderr",
     "output_type": "stream",
     "text": [
      "C:\\Users\\Mohamed\\AppData\\Local\\Programs\\Python\\Python310\\lib\\site-packages\\sklearn\\utils\\validation.py:1858: FutureWarning: Feature names only support names that are all strings. Got feature names with dtypes: ['int', 'str']. An error will be raised in 1.2.\n",
      "  warnings.warn(\n"
     ]
    }
   ],
   "source": [
    "#!pip install imblearn\n",
    "from imblearn.over_sampling import SMOTE\n",
    "oversample = SMOTE()\n",
    "X_oversample, y_oversample = oversample.fit_resample(X_train, y_train)"
   ]
  },
  {
   "cell_type": "markdown",
   "id": "e25b6448",
   "metadata": {},
   "source": [
    "# Random Forest"
   ]
  },
  {
   "cell_type": "code",
   "execution_count": 38,
   "id": "f3d03e5f",
   "metadata": {},
   "outputs": [
    {
     "name": "stderr",
     "output_type": "stream",
     "text": [
      "C:\\Users\\Mohamed\\AppData\\Local\\Programs\\Python\\Python310\\lib\\site-packages\\sklearn\\utils\\validation.py:1858: FutureWarning: Feature names only support names that are all strings. Got feature names with dtypes: ['int', 'str']. An error will be raised in 1.2.\n",
      "  warnings.warn(\n",
      "C:\\Users\\Mohamed\\AppData\\Local\\Programs\\Python\\Python310\\lib\\site-packages\\sklearn\\utils\\validation.py:1858: FutureWarning: Feature names only support names that are all strings. Got feature names with dtypes: ['int', 'str']. An error will be raised in 1.2.\n",
      "  warnings.warn(\n"
     ]
    },
    {
     "name": "stdout",
     "output_type": "stream",
     "text": [
      "Accuracy 0.93146321535565\n",
      "              precision    recall  f1-score   support\n",
      "\n",
      "           0       0.98      1.00      0.99     45497\n",
      "           1       0.88      0.96      0.92     10899\n",
      "           2       0.89      0.98      0.93     16934\n",
      "           3       0.87      0.70      0.78      8344\n",
      "           4       0.62      0.18      0.28      2777\n",
      "\n",
      "    accuracy                           0.93     84451\n",
      "   macro avg       0.85      0.76      0.78     84451\n",
      "weighted avg       0.92      0.93      0.92     84451\n",
      "\n",
      "0.7776225358710438\n"
     ]
    }
   ],
   "source": [
    "#Random Forest\n",
    "forest_model = RandomForestClassifier()\n",
    "forest_model.fit(X_train, y_train)\n",
    "yhat=forest_model.predict(X_test)\n",
    "print(\"Accuracy\",accuracy_score(y_test,yhat))\n",
    "print(classification_report(y_test, yhat))\n",
    "print(f1_score(y_test,yhat,average='macro'))"
   ]
  },
  {
   "cell_type": "code",
   "execution_count": null,
   "id": "439e438a",
   "metadata": {},
   "outputs": [],
   "source": []
  },
  {
   "cell_type": "markdown",
   "id": "bc699272",
   "metadata": {},
   "source": [
    "# random forest with Smote"
   ]
  },
  {
   "cell_type": "code",
   "execution_count": 42,
   "id": "f0af9aca",
   "metadata": {},
   "outputs": [
    {
     "name": "stderr",
     "output_type": "stream",
     "text": [
      "C:\\Users\\Mohamed\\AppData\\Local\\Programs\\Python\\Python310\\lib\\site-packages\\sklearn\\utils\\validation.py:1858: FutureWarning: Feature names only support names that are all strings. Got feature names with dtypes: ['int', 'str']. An error will be raised in 1.2.\n",
      "  warnings.warn(\n",
      "C:\\Users\\Mohamed\\AppData\\Local\\Programs\\Python\\Python310\\lib\\site-packages\\sklearn\\utils\\validation.py:1858: FutureWarning: Feature names only support names that are all strings. Got feature names with dtypes: ['int', 'str']. An error will be raised in 1.2.\n",
      "  warnings.warn(\n"
     ]
    },
    {
     "name": "stdout",
     "output_type": "stream",
     "text": [
      "Accuracy 0.9221205195912423\n",
      "              precision    recall  f1-score   support\n",
      "\n",
      "           0       0.98      0.99      0.98     45497\n",
      "           1       0.89      0.94      0.92     10899\n",
      "           2       0.90      0.93      0.92     16934\n",
      "           3       0.80      0.72      0.75      8344\n",
      "           4       0.42      0.26      0.32      2777\n",
      "\n",
      "    accuracy                           0.92     84451\n",
      "   macro avg       0.80      0.77      0.78     84451\n",
      "weighted avg       0.91      0.92      0.92     84451\n",
      "\n",
      "0.778352666689973\n"
     ]
    }
   ],
   "source": [
    "forest_model = RandomForestClassifier()\n",
    "forest_model.fit(X_oversample, y_oversample )\n",
    "yhat=forest_model.predict(X_test)\n",
    "print(\"Accuracy\",accuracy_score(y_test,yhat))\n",
    "print(classification_report(y_test, yhat))\n",
    "print(f1_score(y_test,yhat,average='macro'))"
   ]
  },
  {
   "cell_type": "markdown",
   "id": "c4f7cc18",
   "metadata": {},
   "source": [
    "# KNN"
   ]
  },
  {
   "cell_type": "code",
   "execution_count": 39,
   "id": "920cb2a7",
   "metadata": {},
   "outputs": [
    {
     "name": "stdout",
     "output_type": "stream",
     "text": [
      "Accuracy 0.7545322139465489\n",
      "              precision    recall  f1-score   support\n",
      "\n",
      "           0       0.95      1.00      0.97     45443\n",
      "           1       0.44      0.50      0.47     10860\n",
      "           2       0.55      0.70      0.62     17062\n",
      "           3       0.41      0.10      0.16      8298\n",
      "           4       0.21      0.02      0.04      2788\n",
      "\n",
      "    accuracy                           0.75     84451\n",
      "   macro avg       0.51      0.46      0.45     84451\n",
      "weighted avg       0.73      0.75      0.73     84451\n",
      "\n"
     ]
    }
   ],
   "source": [
    "#KNN\n",
    "r=normalize(x)\n",
    "X_ttrain, X_ttest, y_ttrain, y_ttest = train_test_split(r,y,test_size=0.3,random_state=1)\n",
    "knn_model = KNeighborsClassifier(n_neighbors=11)\n",
    "knn_model.fit(X_ttrain, y_ttrain)\n",
    "y_hat=knn_model.predict(X_ttest)\n",
    "print(\"Accuracy\",accuracy_score(y_ttest,y_hat))\n",
    "print(classification_report(y_ttest, y_hat))"
   ]
  },
  {
   "cell_type": "code",
   "execution_count": 40,
   "id": "26d94b6a",
   "metadata": {},
   "outputs": [
    {
     "name": "stdout",
     "output_type": "stream",
     "text": [
      "0.4502708359154455\n"
     ]
    }
   ],
   "source": [
    "print(f1_score(y_ttest,y_hat,average='macro'))"
   ]
  },
  {
   "cell_type": "markdown",
   "id": "5cc21f08",
   "metadata": {},
   "source": [
    "# XGboost"
   ]
  },
  {
   "cell_type": "code",
   "execution_count": 41,
   "id": "0a055578",
   "metadata": {},
   "outputs": [
    {
     "name": "stderr",
     "output_type": "stream",
     "text": [
      "C:\\Users\\Mohamed\\AppData\\Local\\Programs\\Python\\Python310\\lib\\site-packages\\xgboost\\sklearn.py:1224: UserWarning: The use of label encoder in XGBClassifier is deprecated and will be removed in a future release. To remove this warning, do the following: 1) Pass option use_label_encoder=False when constructing XGBClassifier object; and 2) Encode your labels (y) as integers starting with 0, i.e. 0, 1, 2, ..., [num_class - 1].\n",
      "  warnings.warn(label_encoder_deprecation_msg, UserWarning)\n"
     ]
    },
    {
     "name": "stdout",
     "output_type": "stream",
     "text": [
      "[15:56:33] WARNING: C:/Users/Administrator/workspace/xgboost-win64_release_1.5.1/src/learner.cc:1115: Starting in XGBoost 1.3.0, the default evaluation metric used with the objective 'multi:softprob' was changed from 'merror' to 'mlogloss'. Explicitly set eval_metric if you'd like to restore the old behavior.\n",
      "Accuracy 0.9312619151934258\n",
      "              precision    recall  f1-score   support\n",
      "\n",
      "           0       0.97      1.00      0.98     45497\n",
      "           1       0.87      0.96      0.92     10899\n",
      "           2       0.91      0.97      0.94     16934\n",
      "           3       0.86      0.68      0.76      8344\n",
      "           4       0.62      0.24      0.34      2777\n",
      "\n",
      "    accuracy                           0.93     84451\n",
      "   macro avg       0.85      0.77      0.79     84451\n",
      "weighted avg       0.92      0.93      0.92     84451\n",
      "\n"
     ]
    }
   ],
   "source": [
    "#XGboost\n",
    "xg = XGBClassifier()\n",
    "xg.fit(X_train, y_train)\n",
    "ypred = xg.predict(X_test)\n",
    "print(\"Accuracy\",accuracy_score(y_test,ypred))\n",
    "print(classification_report(y_test, ypred))"
   ]
  },
  {
   "cell_type": "code",
   "execution_count": null,
   "id": "9a3e62d9",
   "metadata": {},
   "outputs": [],
   "source": []
  },
  {
   "cell_type": "code",
   "execution_count": 42,
   "id": "31e5d0d9",
   "metadata": {},
   "outputs": [
    {
     "name": "stdout",
     "output_type": "stream",
     "text": [
      "0.7881364232203549\n"
     ]
    }
   ],
   "source": [
    "print(f1_score(y_test,ypred,average='macro'))"
   ]
  },
  {
   "cell_type": "markdown",
   "id": "dea73015",
   "metadata": {},
   "source": [
    "# Xgboost with SMOTE"
   ]
  },
  {
   "cell_type": "code",
   "execution_count": 43,
   "id": "3c08d680",
   "metadata": {},
   "outputs": [
    {
     "name": "stderr",
     "output_type": "stream",
     "text": [
      "C:\\Users\\Mohamed\\AppData\\Local\\Programs\\Python\\Python310\\lib\\site-packages\\xgboost\\sklearn.py:1224: UserWarning: The use of label encoder in XGBClassifier is deprecated and will be removed in a future release. To remove this warning, do the following: 1) Pass option use_label_encoder=False when constructing XGBClassifier object; and 2) Encode your labels (y) as integers starting with 0, i.e. 0, 1, 2, ..., [num_class - 1].\n",
      "  warnings.warn(label_encoder_deprecation_msg, UserWarning)\n"
     ]
    },
    {
     "name": "stdout",
     "output_type": "stream",
     "text": [
      "[21:31:30] WARNING: C:/Users/Administrator/workspace/xgboost-win64_release_1.5.1/src/learner.cc:1115: Starting in XGBoost 1.3.0, the default evaluation metric used with the objective 'multi:softprob' was changed from 'merror' to 'mlogloss'. Explicitly set eval_metric if you'd like to restore the old behavior.\n",
      "Accuracy 0.9193615232501687\n",
      "              precision    recall  f1-score   support\n",
      "\n",
      "           0       0.97      1.00      0.98     45497\n",
      "           1       0.88      0.94      0.91     10899\n",
      "           2       0.92      0.93      0.92     16934\n",
      "           3       0.84      0.64      0.73      8344\n",
      "           4       0.36      0.36      0.36      2777\n",
      "\n",
      "    accuracy                           0.92     84451\n",
      "   macro avg       0.80      0.77      0.78     84451\n",
      "weighted avg       0.92      0.92      0.92     84451\n",
      "\n"
     ]
    }
   ],
   "source": [
    "xg = XGBClassifier()\n",
    "xg.fit(X_oversample, y_oversample )\n",
    "ypred = xg.predict(X_test)\n",
    "print(\"Accuracy\",accuracy_score(y_test,ypred))\n",
    "print(classification_report(y_test, ypred))"
   ]
  },
  {
   "cell_type": "code",
   "execution_count": 43,
   "id": "3ca22365",
   "metadata": {},
   "outputs": [
    {
     "name": "stderr",
     "output_type": "stream",
     "text": [
      "C:\\Users\\Mohamed\\AppData\\Local\\Programs\\Python\\Python310\\lib\\site-packages\\sklearn\\utils\\validation.py:1858: FutureWarning: Feature names only support names that are all strings. Got feature names with dtypes: ['int', 'str']. An error will be raised in 1.2.\n",
      "  warnings.warn(\n",
      "C:\\Users\\Mohamed\\AppData\\Local\\Programs\\Python\\Python310\\lib\\site-packages\\sklearn\\utils\\validation.py:1858: FutureWarning: Feature names only support names that are all strings. Got feature names with dtypes: ['int', 'str']. An error will be raised in 1.2.\n",
      "  warnings.warn(\n"
     ]
    },
    {
     "name": "stdout",
     "output_type": "stream",
     "text": [
      "Accuracy 0.7324128784739079\n"
     ]
    },
    {
     "name": "stderr",
     "output_type": "stream",
     "text": [
      "C:\\Users\\Mohamed\\AppData\\Local\\Programs\\Python\\Python310\\lib\\site-packages\\sklearn\\metrics\\_classification.py:1334: UndefinedMetricWarning: Precision and F-score are ill-defined and being set to 0.0 in labels with no predicted samples. Use `zero_division` parameter to control this behavior.\n",
      "  _warn_prf(average, modifier, msg_start, len(result))\n",
      "C:\\Users\\Mohamed\\AppData\\Local\\Programs\\Python\\Python310\\lib\\site-packages\\sklearn\\metrics\\_classification.py:1334: UndefinedMetricWarning: Precision and F-score are ill-defined and being set to 0.0 in labels with no predicted samples. Use `zero_division` parameter to control this behavior.\n",
      "  _warn_prf(average, modifier, msg_start, len(result))\n"
     ]
    },
    {
     "name": "stdout",
     "output_type": "stream",
     "text": [
      "              precision    recall  f1-score   support\n",
      "\n",
      "           0       0.95      0.99      0.97     45497\n",
      "           1       0.00      0.00      0.00     10899\n",
      "           2       0.46      0.99      0.63     16934\n",
      "           3       0.15      0.02      0.03      8344\n",
      "           4       0.00      0.00      0.00      2777\n",
      "\n",
      "    accuracy                           0.73     84451\n",
      "   macro avg       0.31      0.40      0.33     84451\n",
      "weighted avg       0.62      0.73      0.65     84451\n",
      "\n"
     ]
    },
    {
     "name": "stderr",
     "output_type": "stream",
     "text": [
      "C:\\Users\\Mohamed\\AppData\\Local\\Programs\\Python\\Python310\\lib\\site-packages\\sklearn\\metrics\\_classification.py:1334: UndefinedMetricWarning: Precision and F-score are ill-defined and being set to 0.0 in labels with no predicted samples. Use `zero_division` parameter to control this behavior.\n",
      "  _warn_prf(average, modifier, msg_start, len(result))\n"
     ]
    }
   ],
   "source": [
    "#naive_bayes\n",
    "nav = GaussianNB()\n",
    "#Train the model using the training sets\n",
    "nav.fit(X_train, y_train)\n",
    "#Predict the response for test dataset\n",
    "y_pred = nav.predict(X_test)\n",
    "print(\"Accuracy\",accuracy_score(y_test,y_pred))\n",
    "print(classification_report(y_test, y_pred))"
   ]
  },
  {
   "cell_type": "code",
   "execution_count": 44,
   "id": "569d09fc",
   "metadata": {},
   "outputs": [
    {
     "name": "stdout",
     "output_type": "stream",
     "text": [
      "0.32681808752328684\n"
     ]
    }
   ],
   "source": [
    "print(f1_score(y_test,y_pred,average='macro'))"
   ]
  },
  {
   "cell_type": "code",
   "execution_count": null,
   "id": "e262deec",
   "metadata": {},
   "outputs": [],
   "source": [
    "# "
   ]
  },
  {
   "cell_type": "code",
   "execution_count": null,
   "id": "10e42129",
   "metadata": {},
   "outputs": [],
   "source": []
  },
  {
   "cell_type": "code",
   "execution_count": null,
   "id": "b091e7ba",
   "metadata": {},
   "outputs": [],
   "source": []
  },
  {
   "cell_type": "code",
   "execution_count": null,
   "id": "5236d72b",
   "metadata": {},
   "outputs": [],
   "source": []
  },
  {
   "cell_type": "code",
   "execution_count": null,
   "id": "674ad80f",
   "metadata": {},
   "outputs": [],
   "source": []
  }
 ],
 "metadata": {
  "kernelspec": {
   "display_name": "Python 3 (ipykernel)",
   "language": "python",
   "name": "python3"
  },
  "language_info": {
   "codemirror_mode": {
    "name": "ipython",
    "version": 3
   },
   "file_extension": ".py",
   "mimetype": "text/x-python",
   "name": "python",
   "nbconvert_exporter": "python",
   "pygments_lexer": "ipython3",
   "version": "3.10.1"
  }
 },
 "nbformat": 4,
 "nbformat_minor": 5
}

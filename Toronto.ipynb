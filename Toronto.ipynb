{
 "cells": [
  {
   "cell_type": "markdown",
   "id": "2e8a2d1d",
   "metadata": {},
   "source": [
    "# Imports"
   ]
  },
  {
   "cell_type": "code",
   "execution_count": 1,
   "id": "4b218960",
   "metadata": {},
   "outputs": [],
   "source": [
    "import pandas as pd\n",
    "import matplotlib.pyplot as plt \n",
    "import numpy as np \n",
    "import seaborn as sns\n",
    "from pandas.tseries.holiday import USFederalHolidayCalendar as calendar\n",
    "from sklearn.preprocessing import LabelEncoder,OneHotEncoder\n",
    "from sklearn.model_selection import train_test_split,cross_val_score,RandomizedSearchCV\n",
    "from sklearn.ensemble import RandomForestClassifier\n",
    "from sklearn.neighbors import KNeighborsClassifier\n",
    "from sklearn.linear_model import LogisticRegression\n",
    "from sklearn.metrics import f1_score,accuracy_score,confusion_matrix,classification_report\n",
    "from sklearn.preprocessing import normalize\n",
    "from sklearn.naive_bayes import GaussianNB\n",
    "from xgboost import XGBClassifier\n"
   ]
  },
  {
   "cell_type": "markdown",
   "id": "f3e46628",
   "metadata": {},
   "source": [
    "# 1.EDA"
   ]
  },
  {
   "cell_type": "code",
   "execution_count": 2,
   "id": "b0a422f8",
   "metadata": {},
   "outputs": [
    {
     "data": {
      "text/html": [
       "<div>\n",
       "<style scoped>\n",
       "    .dataframe tbody tr th:only-of-type {\n",
       "        vertical-align: middle;\n",
       "    }\n",
       "\n",
       "    .dataframe tbody tr th {\n",
       "        vertical-align: top;\n",
       "    }\n",
       "\n",
       "    .dataframe thead th {\n",
       "        text-align: right;\n",
       "    }\n",
       "</style>\n",
       "<table border=\"1\" class=\"dataframe\">\n",
       "  <thead>\n",
       "    <tr style=\"text-align: right;\">\n",
       "      <th></th>\n",
       "      <th>TYPE</th>\n",
       "      <th>YEAR</th>\n",
       "      <th>MONTH</th>\n",
       "      <th>DAY</th>\n",
       "      <th>HOUR</th>\n",
       "      <th>MINUTE</th>\n",
       "      <th>HUNDRED_BLOCK</th>\n",
       "      <th>NEIGHBOURHOOD</th>\n",
       "      <th>X</th>\n",
       "      <th>Y</th>\n",
       "    </tr>\n",
       "  </thead>\n",
       "  <tbody>\n",
       "    <tr>\n",
       "      <th>0</th>\n",
       "      <td>Theft from Vehicle</td>\n",
       "      <td>2008</td>\n",
       "      <td>12</td>\n",
       "      <td>7</td>\n",
       "      <td>16</td>\n",
       "      <td>0</td>\n",
       "      <td>16XX GRANVILLE ST</td>\n",
       "      <td>Central Business District</td>\n",
       "      <td>490419.584</td>\n",
       "      <td>5.457877e+06</td>\n",
       "    </tr>\n",
       "    <tr>\n",
       "      <th>1</th>\n",
       "      <td>Theft from Vehicle</td>\n",
       "      <td>2009</td>\n",
       "      <td>4</td>\n",
       "      <td>6</td>\n",
       "      <td>2</td>\n",
       "      <td>0</td>\n",
       "      <td>16XX GRANVILLE ST</td>\n",
       "      <td>Central Business District</td>\n",
       "      <td>490419.584</td>\n",
       "      <td>5.457877e+06</td>\n",
       "    </tr>\n",
       "    <tr>\n",
       "      <th>2</th>\n",
       "      <td>Theft from Vehicle</td>\n",
       "      <td>2009</td>\n",
       "      <td>4</td>\n",
       "      <td>21</td>\n",
       "      <td>19</td>\n",
       "      <td>15</td>\n",
       "      <td>16XX GRANVILLE ST</td>\n",
       "      <td>Central Business District</td>\n",
       "      <td>490419.584</td>\n",
       "      <td>5.457877e+06</td>\n",
       "    </tr>\n",
       "    <tr>\n",
       "      <th>3</th>\n",
       "      <td>Theft from Vehicle</td>\n",
       "      <td>2009</td>\n",
       "      <td>4</td>\n",
       "      <td>24</td>\n",
       "      <td>18</td>\n",
       "      <td>30</td>\n",
       "      <td>16XX GRANVILLE ST</td>\n",
       "      <td>Central Business District</td>\n",
       "      <td>490419.584</td>\n",
       "      <td>5.457877e+06</td>\n",
       "    </tr>\n",
       "    <tr>\n",
       "      <th>4</th>\n",
       "      <td>Theft from Vehicle</td>\n",
       "      <td>2009</td>\n",
       "      <td>5</td>\n",
       "      <td>24</td>\n",
       "      <td>13</td>\n",
       "      <td>30</td>\n",
       "      <td>16XX GRANVILLE ST</td>\n",
       "      <td>Central Business District</td>\n",
       "      <td>490419.584</td>\n",
       "      <td>5.457877e+06</td>\n",
       "    </tr>\n",
       "  </tbody>\n",
       "</table>\n",
       "</div>"
      ],
      "text/plain": [
       "                 TYPE  YEAR  MONTH  DAY  HOUR  MINUTE      HUNDRED_BLOCK  \\\n",
       "0  Theft from Vehicle  2008     12    7    16       0  16XX GRANVILLE ST   \n",
       "1  Theft from Vehicle  2009      4    6     2       0  16XX GRANVILLE ST   \n",
       "2  Theft from Vehicle  2009      4   21    19      15  16XX GRANVILLE ST   \n",
       "3  Theft from Vehicle  2009      4   24    18      30  16XX GRANVILLE ST   \n",
       "4  Theft from Vehicle  2009      5   24    13      30  16XX GRANVILLE ST   \n",
       "\n",
       "               NEIGHBOURHOOD           X             Y  \n",
       "0  Central Business District  490419.584  5.457877e+06  \n",
       "1  Central Business District  490419.584  5.457877e+06  \n",
       "2  Central Business District  490419.584  5.457877e+06  \n",
       "3  Central Business District  490419.584  5.457877e+06  \n",
       "4  Central Business District  490419.584  5.457877e+06  "
      ]
     },
     "execution_count": 2,
     "metadata": {},
     "output_type": "execute_result"
    }
   ],
   "source": [
    "#Load data\n",
    "to_dt=pd.read_csv(\"Toronto.csv\")\n",
    "\n",
    "to_dt.head()"
   ]
  },
  {
   "cell_type": "code",
   "execution_count": 3,
   "id": "6f61ba7b",
   "metadata": {},
   "outputs": [
    {
     "data": {
      "text/plain": [
       "(836190, 10)"
      ]
     },
     "execution_count": 3,
     "metadata": {},
     "output_type": "execute_result"
    }
   ],
   "source": [
    "to_dt.shape"
   ]
  },
  {
   "cell_type": "code",
   "execution_count": 4,
   "id": "f95f2ec2",
   "metadata": {},
   "outputs": [
    {
     "data": {
      "text/plain": [
       "Index(['TYPE', 'YEAR', 'MONTH', 'DAY', 'HOUR', 'MINUTE', 'HUNDRED_BLOCK',\n",
       "       'NEIGHBOURHOOD', 'X', 'Y'],\n",
       "      dtype='object')"
      ]
     },
     "execution_count": 4,
     "metadata": {},
     "output_type": "execute_result"
    }
   ],
   "source": [
    "to_dt.columns"
   ]
  },
  {
   "cell_type": "code",
   "execution_count": 5,
   "id": "42ab9fb3",
   "metadata": {},
   "outputs": [
    {
     "name": "stdout",
     "output_type": "stream",
     "text": [
      "<class 'pandas.core.frame.DataFrame'>\n",
      "RangeIndex: 836190 entries, 0 to 836189\n",
      "Data columns (total 10 columns):\n",
      " #   Column         Non-Null Count   Dtype  \n",
      "---  ------         --------------   -----  \n",
      " 0   TYPE           836190 non-null  object \n",
      " 1   YEAR           836190 non-null  int64  \n",
      " 2   MONTH          836190 non-null  int64  \n",
      " 3   DAY            836190 non-null  int64  \n",
      " 4   HOUR           836190 non-null  int64  \n",
      " 5   MINUTE         836190 non-null  int64  \n",
      " 6   HUNDRED_BLOCK  836178 non-null  object \n",
      " 7   NEIGHBOURHOOD  836050 non-null  object \n",
      " 8   X              836118 non-null  float64\n",
      " 9   Y              836118 non-null  float64\n",
      "dtypes: float64(2), int64(5), object(3)\n",
      "memory usage: 63.8+ MB\n"
     ]
    }
   ],
   "source": [
    "to_dt.info()"
   ]
  },
  {
   "cell_type": "code",
   "execution_count": 6,
   "id": "107e5f22",
   "metadata": {},
   "outputs": [
    {
     "data": {
      "text/plain": [
       "Theft from Vehicle                                        234189\n",
       "Other Theft                                               205014\n",
       "Mischief                                                   99838\n",
       "Offence Against a Person                                   72225\n",
       "Break and Enter Residential/Other                          71089\n",
       "Break and Enter Commercial                                 45573\n",
       "Theft of Vehicle                                           43938\n",
       "Theft of Bicycle                                           35720\n",
       "Vehicle Collision or Pedestrian Struck (with Injury)       27969\n",
       "Vehicle Collision or Pedestrian Struck (with Fatality)       334\n",
       "Homicide                                                     301\n",
       "Name: TYPE, dtype: int64"
      ]
     },
     "execution_count": 6,
     "metadata": {},
     "output_type": "execute_result"
    }
   ],
   "source": [
    "to_dt.TYPE.value_counts()"
   ]
  },
  {
   "cell_type": "code",
   "execution_count": 7,
   "id": "1a43da67",
   "metadata": {},
   "outputs": [
    {
     "data": {
      "image/png": "[encoded data removed]",
      "text/plain": [
       "<Figure size 504x432 with 1 Axes>"
      ]
     },
     "metadata": {
      "needs_background": "light"
     },
     "output_type": "display_data"
    }
   ],
   "source": [
    "to_dt['TYPE'].value_counts().sort_values(ascending=True).plot(kind='barh', figsize=(7, 6), rot=0)\n",
    "plt.title(\"Count of Crime Type in Toronto\", y=1.02)\n",
    "plt.ylabel('Crime Type')\n",
    "plt.xlabel('Amount of Crimes')\n",
    "plt.show()"
   ]
  },
  {
   "cell_type": "code",
   "execution_count": 8,
   "id": "864583b3",
   "metadata": {},
   "outputs": [
    {
     "data": {
      "text/html": [
       "<div>\n",
       "<style scoped>\n",
       "    .dataframe tbody tr th:only-of-type {\n",
       "        vertical-align: middle;\n",
       "    }\n",
       "\n",
       "    .dataframe tbody tr th {\n",
       "        vertical-align: top;\n",
       "    }\n",
       "\n",
       "    .dataframe thead th {\n",
       "        text-align: right;\n",
       "    }\n",
       "</style>\n",
       "<table border=\"1\" class=\"dataframe\">\n",
       "  <thead>\n",
       "    <tr style=\"text-align: right;\">\n",
       "      <th></th>\n",
       "      <th>YEAR</th>\n",
       "      <th>MONTH</th>\n",
       "      <th>DAY</th>\n",
       "      <th>HOUR</th>\n",
       "      <th>MINUTE</th>\n",
       "      <th>X</th>\n",
       "      <th>Y</th>\n",
       "    </tr>\n",
       "  </thead>\n",
       "  <tbody>\n",
       "    <tr>\n",
       "      <th>count</th>\n",
       "      <td>836190.000000</td>\n",
       "      <td>836190.000000</td>\n",
       "      <td>836190.000000</td>\n",
       "      <td>836190.00000</td>\n",
       "      <td>836190.000000</td>\n",
       "      <td>836118.000000</td>\n",
       "      <td>8.361180e+05</td>\n",
       "    </tr>\n",
       "    <tr>\n",
       "      <th>mean</th>\n",
       "      <td>2011.714902</td>\n",
       "      <td>6.492490</td>\n",
       "      <td>15.385330</td>\n",
       "      <td>12.34783</td>\n",
       "      <td>15.773429</td>\n",
       "      <td>449507.083416</td>\n",
       "      <td>4.983482e+06</td>\n",
       "    </tr>\n",
       "    <tr>\n",
       "      <th>std</th>\n",
       "      <td>5.845854</td>\n",
       "      <td>3.399089</td>\n",
       "      <td>8.754794</td>\n",
       "      <td>7.45869</td>\n",
       "      <td>18.330313</td>\n",
       "      <td>138558.941402</td>\n",
       "      <td>1.535888e+06</td>\n",
       "    </tr>\n",
       "    <tr>\n",
       "      <th>min</th>\n",
       "      <td>2003.000000</td>\n",
       "      <td>1.000000</td>\n",
       "      <td>1.000000</td>\n",
       "      <td>0.00000</td>\n",
       "      <td>0.000000</td>\n",
       "      <td>0.000000</td>\n",
       "      <td>0.000000e+00</td>\n",
       "    </tr>\n",
       "    <tr>\n",
       "      <th>25%</th>\n",
       "      <td>2006.000000</td>\n",
       "      <td>4.000000</td>\n",
       "      <td>8.000000</td>\n",
       "      <td>7.00000</td>\n",
       "      <td>0.000000</td>\n",
       "      <td>490183.443000</td>\n",
       "      <td>5.454216e+06</td>\n",
       "    </tr>\n",
       "    <tr>\n",
       "      <th>50%</th>\n",
       "      <td>2012.000000</td>\n",
       "      <td>7.000000</td>\n",
       "      <td>15.000000</td>\n",
       "      <td>14.00000</td>\n",
       "      <td>5.000000</td>\n",
       "      <td>491559.696300</td>\n",
       "      <td>5.457156e+06</td>\n",
       "    </tr>\n",
       "    <tr>\n",
       "      <th>75%</th>\n",
       "      <td>2017.000000</td>\n",
       "      <td>9.000000</td>\n",
       "      <td>23.000000</td>\n",
       "      <td>18.00000</td>\n",
       "      <td>30.000000</td>\n",
       "      <td>493386.413400</td>\n",
       "      <td>5.458718e+06</td>\n",
       "    </tr>\n",
       "    <tr>\n",
       "      <th>max</th>\n",
       "      <td>2022.000000</td>\n",
       "      <td>12.000000</td>\n",
       "      <td>31.000000</td>\n",
       "      <td>23.00000</td>\n",
       "      <td>59.000000</td>\n",
       "      <td>511303.000000</td>\n",
       "      <td>5.512579e+06</td>\n",
       "    </tr>\n",
       "  </tbody>\n",
       "</table>\n",
       "</div>"
      ],
      "text/plain": [
       "                YEAR          MONTH            DAY          HOUR  \\\n",
       "count  836190.000000  836190.000000  836190.000000  836190.00000   \n",
       "mean     2011.714902       6.492490      15.385330      12.34783   \n",
       "std         5.845854       3.399089       8.754794       7.45869   \n",
       "min      2003.000000       1.000000       1.000000       0.00000   \n",
       "25%      2006.000000       4.000000       8.000000       7.00000   \n",
       "50%      2012.000000       7.000000      15.000000      14.00000   \n",
       "75%      2017.000000       9.000000      23.000000      18.00000   \n",
       "max      2022.000000      12.000000      31.000000      23.00000   \n",
       "\n",
       "              MINUTE              X             Y  \n",
       "count  836190.000000  836118.000000  8.361180e+05  \n",
       "mean       15.773429  449507.083416  4.983482e+06  \n",
       "std        18.330313  138558.941402  1.535888e+06  \n",
       "min         0.000000       0.000000  0.000000e+00  \n",
       "25%         0.000000  490183.443000  5.454216e+06  \n",
       "50%         5.000000  491559.696300  5.457156e+06  \n",
       "75%        30.000000  493386.413400  5.458718e+06  \n",
       "max        59.000000  511303.000000  5.512579e+06  "
      ]
     },
     "execution_count": 8,
     "metadata": {},
     "output_type": "execute_result"
    }
   ],
   "source": [
    "to_dt.describe()"
   ]
  },
  {
   "cell_type": "code",
   "execution_count": 9,
   "id": "29ffe601",
   "metadata": {},
   "outputs": [
    {
     "data": {
      "text/plain": [
       "array([[<AxesSubplot:title={'center':'YEAR'}>,\n",
       "        <AxesSubplot:title={'center':'MONTH'}>,\n",
       "        <AxesSubplot:title={'center':'DAY'}>],\n",
       "       [<AxesSubplot:title={'center':'HOUR'}>,\n",
       "        <AxesSubplot:title={'center':'MINUTE'}>,\n",
       "        <AxesSubplot:title={'center':'X'}>],\n",
       "       [<AxesSubplot:title={'center':'Y'}>, <AxesSubplot:>,\n",
       "        <AxesSubplot:>]], dtype=object)"
      ]
     },
     "execution_count": 9,
     "metadata": {},
     "output_type": "execute_result"
    },
    {
     "data": {
      "image/png": "[encoded data removed]",
      "text/plain": [
       "<Figure size 1080x1440 with 9 Axes>"
      ]
     },
     "metadata": {
      "needs_background": "light"
     },
     "output_type": "display_data"
    }
   ],
   "source": [
    "to_dt.hist(bins=5, figsize=(15,20))"
   ]
  },
  {
   "cell_type": "code",
   "execution_count": 10,
   "id": "75cad13c",
   "metadata": {},
   "outputs": [
    {
     "data": {
      "text/html": [
       "<div>\n",
       "<style scoped>\n",
       "    .dataframe tbody tr th:only-of-type {\n",
       "        vertical-align: middle;\n",
       "    }\n",
       "\n",
       "    .dataframe tbody tr th {\n",
       "        vertical-align: top;\n",
       "    }\n",
       "\n",
       "    .dataframe thead th {\n",
       "        text-align: right;\n",
       "    }\n",
       "</style>\n",
       "<table border=\"1\" class=\"dataframe\">\n",
       "  <thead>\n",
       "    <tr style=\"text-align: right;\">\n",
       "      <th></th>\n",
       "      <th>YEAR</th>\n",
       "      <th>MONTH</th>\n",
       "      <th>DAY</th>\n",
       "      <th>HOUR</th>\n",
       "      <th>MINUTE</th>\n",
       "      <th>X</th>\n",
       "      <th>Y</th>\n",
       "    </tr>\n",
       "  </thead>\n",
       "  <tbody>\n",
       "    <tr>\n",
       "      <th>YEAR</th>\n",
       "      <td>1.000000</td>\n",
       "      <td>-0.023050</td>\n",
       "      <td>-0.010768</td>\n",
       "      <td>-0.030907</td>\n",
       "      <td>0.053366</td>\n",
       "      <td>-0.016941</td>\n",
       "      <td>-0.017107</td>\n",
       "    </tr>\n",
       "    <tr>\n",
       "      <th>MONTH</th>\n",
       "      <td>-0.023050</td>\n",
       "      <td>1.000000</td>\n",
       "      <td>0.006624</td>\n",
       "      <td>0.003018</td>\n",
       "      <td>-0.005005</td>\n",
       "      <td>0.002857</td>\n",
       "      <td>0.002789</td>\n",
       "    </tr>\n",
       "    <tr>\n",
       "      <th>DAY</th>\n",
       "      <td>-0.010768</td>\n",
       "      <td>0.006624</td>\n",
       "      <td>1.000000</td>\n",
       "      <td>0.004567</td>\n",
       "      <td>0.003358</td>\n",
       "      <td>-0.002910</td>\n",
       "      <td>-0.002953</td>\n",
       "    </tr>\n",
       "    <tr>\n",
       "      <th>HOUR</th>\n",
       "      <td>-0.030907</td>\n",
       "      <td>0.003018</td>\n",
       "      <td>0.004567</td>\n",
       "      <td>1.000000</td>\n",
       "      <td>0.111064</td>\n",
       "      <td>0.510144</td>\n",
       "      <td>0.510165</td>\n",
       "    </tr>\n",
       "    <tr>\n",
       "      <th>MINUTE</th>\n",
       "      <td>0.053366</td>\n",
       "      <td>-0.005005</td>\n",
       "      <td>0.003358</td>\n",
       "      <td>0.111064</td>\n",
       "      <td>1.000000</td>\n",
       "      <td>0.265430</td>\n",
       "      <td>0.265242</td>\n",
       "    </tr>\n",
       "    <tr>\n",
       "      <th>X</th>\n",
       "      <td>-0.016941</td>\n",
       "      <td>0.002857</td>\n",
       "      <td>-0.002910</td>\n",
       "      <td>0.510144</td>\n",
       "      <td>0.265430</td>\n",
       "      <td>1.000000</td>\n",
       "      <td>0.999829</td>\n",
       "    </tr>\n",
       "    <tr>\n",
       "      <th>Y</th>\n",
       "      <td>-0.017107</td>\n",
       "      <td>0.002789</td>\n",
       "      <td>-0.002953</td>\n",
       "      <td>0.510165</td>\n",
       "      <td>0.265242</td>\n",
       "      <td>0.999829</td>\n",
       "      <td>1.000000</td>\n",
       "    </tr>\n",
       "  </tbody>\n",
       "</table>\n",
       "</div>"
      ],
      "text/plain": [
       "            YEAR     MONTH       DAY      HOUR    MINUTE         X         Y\n",
       "YEAR    1.000000 -0.023050 -0.010768 -0.030907  0.053366 -0.016941 -0.017107\n",
       "MONTH  -0.023050  1.000000  0.006624  0.003018 -0.005005  0.002857  0.002789\n",
       "DAY    -0.010768  0.006624  1.000000  0.004567  0.003358 -0.002910 -0.002953\n",
       "HOUR   -0.030907  0.003018  0.004567  1.000000  0.111064  0.510144  0.510165\n",
       "MINUTE  0.053366 -0.005005  0.003358  0.111064  1.000000  0.265430  0.265242\n",
       "X      -0.016941  0.002857 -0.002910  0.510144  0.265430  1.000000  0.999829\n",
       "Y      -0.017107  0.002789 -0.002953  0.510165  0.265242  0.999829  1.000000"
      ]
     },
     "execution_count": 10,
     "metadata": {},
     "output_type": "execute_result"
    }
   ],
   "source": [
    "cor=to_dt.corr()\n",
    "cor"
   ]
  },
  {
   "cell_type": "code",
   "execution_count": 11,
   "id": "b9a68fb6",
   "metadata": {},
   "outputs": [
    {
     "data": {
      "image/png": "[encoded data removed]",
      "text/plain": [
       "<Figure size 432x288 with 2 Axes>"
      ]
     },
     "metadata": {
      "needs_background": "light"
     },
     "output_type": "display_data"
    }
   ],
   "source": [
    "sns.heatmap(cor, annot=True, cmap=plt.cm.Reds)\n",
    "plt.show()"
   ]
  },
  {
   "cell_type": "code",
   "execution_count": 12,
   "id": "afc342b4",
   "metadata": {},
   "outputs": [
    {
     "data": {
      "text/plain": [
       "29832"
      ]
     },
     "execution_count": 12,
     "metadata": {},
     "output_type": "execute_result"
    }
   ],
   "source": [
    "to_dt.duplicated().sum()"
   ]
  },
  {
   "cell_type": "markdown",
   "id": "614f6379",
   "metadata": {},
   "source": [
    "# Data processing"
   ]
  },
  {
   "cell_type": "code",
   "execution_count": 13,
   "id": "d1fde663",
   "metadata": {},
   "outputs": [],
   "source": [
    "# remove duplication \n",
    "to_dt.drop_duplicates(keep=\"first\", inplace=True)"
   ]
  },
  {
   "cell_type": "code",
   "execution_count": 14,
   "id": "4b5edf57",
   "metadata": {},
   "outputs": [
    {
     "data": {
      "text/plain": [
       "TYPE   YEAR   MONTH  DAY    HOUR   MINUTE  HUNDRED_BLOCK  NEIGHBOURHOOD  X      Y    \n",
       "False  False  False  False  False  False   False          False          False  False    806206\n",
       "                                                          True           True   True         72\n",
       "                                                                         False  False        68\n",
       "                                           True           False          False  False        12\n",
       "dtype: int64"
      ]
     },
     "execution_count": 14,
     "metadata": {},
     "output_type": "execute_result"
    }
   ],
   "source": [
    "to_dt.isnull().value_counts()"
   ]
  },
  {
   "cell_type": "code",
   "execution_count": 15,
   "id": "71ac00c9",
   "metadata": {},
   "outputs": [
    {
     "data": {
      "text/plain": [
       "TYPE               0\n",
       "YEAR               0\n",
       "MONTH              0\n",
       "DAY                0\n",
       "HOUR               0\n",
       "MINUTE             0\n",
       "HUNDRED_BLOCK     12\n",
       "NEIGHBOURHOOD    140\n",
       "X                 72\n",
       "Y                 72\n",
       "dtype: int64"
      ]
     },
     "execution_count": 15,
     "metadata": {},
     "output_type": "execute_result"
    }
   ],
   "source": [
    "to_dt.isnull().sum()"
   ]
  },
  {
   "cell_type": "code",
   "execution_count": 16,
   "id": "6306be74",
   "metadata": {},
   "outputs": [
    {
     "data": {
      "text/plain": [
       "140"
      ]
     },
     "execution_count": 16,
     "metadata": {},
     "output_type": "execute_result"
    }
   ],
   "source": [
    "#sum of null value in NEIGHBOURHOOD column\n",
    "to_dt['NEIGHBOURHOOD'].isnull().sum()"
   ]
  },
  {
   "cell_type": "code",
   "execution_count": 17,
   "id": "bec58e72",
   "metadata": {},
   "outputs": [],
   "source": [
    "#drop all missing data\n",
    "to_dt.dropna(axis=0,inplace=True)"
   ]
  },
  {
   "cell_type": "markdown",
   "id": "54bbc952",
   "metadata": {},
   "source": [
    "# Feature Engineering"
   ]
  },
  {
   "cell_type": "code",
   "execution_count": 18,
   "id": "5922f7b8",
   "metadata": {},
   "outputs": [],
   "source": [
    "#create dataframe for date\n",
    "df = pd.DataFrame({'year': to_dt['YEAR'],\n",
    "                   'month': to_dt['MONTH'],\n",
    "                   'day': to_dt['DAY']})\n",
    "date=pd.to_datetime(df[[\"year\", \"month\", \"day\"]])"
   ]
  },
  {
   "cell_type": "code",
   "execution_count": 19,
   "id": "eadf40ea",
   "metadata": {},
   "outputs": [],
   "source": [
    "#get all holidays in data \n",
    "holidays = calendar().holidays(start='2003-01-01', end='2022-08-19')"
   ]
  },
  {
   "cell_type": "code",
   "execution_count": 20,
   "id": "f4265415",
   "metadata": {},
   "outputs": [],
   "source": [
    "#create column for holidays\n",
    "to_dt[\"Holiday\"] = date.astype(\"datetime64\").isin(holidays)"
   ]
  },
  {
   "cell_type": "code",
   "execution_count": 21,
   "id": "63bf1d10",
   "metadata": {},
   "outputs": [
    {
     "data": {
      "text/html": [
       "<div>\n",
       "<style scoped>\n",
       "    .dataframe tbody tr th:only-of-type {\n",
       "        vertical-align: middle;\n",
       "    }\n",
       "\n",
       "    .dataframe tbody tr th {\n",
       "        vertical-align: top;\n",
       "    }\n",
       "\n",
       "    .dataframe thead th {\n",
       "        text-align: right;\n",
       "    }\n",
       "</style>\n",
       "<table border=\"1\" class=\"dataframe\">\n",
       "  <thead>\n",
       "    <tr style=\"text-align: right;\">\n",
       "      <th></th>\n",
       "      <th>TYPE</th>\n",
       "      <th>YEAR</th>\n",
       "      <th>MONTH</th>\n",
       "      <th>DAY</th>\n",
       "      <th>HOUR</th>\n",
       "      <th>MINUTE</th>\n",
       "      <th>HUNDRED_BLOCK</th>\n",
       "      <th>NEIGHBOURHOOD</th>\n",
       "      <th>X</th>\n",
       "      <th>Y</th>\n",
       "      <th>Holiday</th>\n",
       "    </tr>\n",
       "  </thead>\n",
       "  <tbody>\n",
       "    <tr>\n",
       "      <th>34</th>\n",
       "      <td>Theft from Vehicle</td>\n",
       "      <td>2016</td>\n",
       "      <td>9</td>\n",
       "      <td>5</td>\n",
       "      <td>7</td>\n",
       "      <td>50</td>\n",
       "      <td>16XX GRANVILLE ST</td>\n",
       "      <td>Central Business District</td>\n",
       "      <td>490419.5840</td>\n",
       "      <td>5.457877e+06</td>\n",
       "      <td>True</td>\n",
       "    </tr>\n",
       "    <tr>\n",
       "      <th>72</th>\n",
       "      <td>Theft from Vehicle</td>\n",
       "      <td>2014</td>\n",
       "      <td>1</td>\n",
       "      <td>20</td>\n",
       "      <td>5</td>\n",
       "      <td>26</td>\n",
       "      <td>16XX GRANVILLE ST</td>\n",
       "      <td>Central Business District</td>\n",
       "      <td>490427.8293</td>\n",
       "      <td>5.457873e+06</td>\n",
       "      <td>True</td>\n",
       "    </tr>\n",
       "    <tr>\n",
       "      <th>75</th>\n",
       "      <td>Theft from Vehicle</td>\n",
       "      <td>2017</td>\n",
       "      <td>1</td>\n",
       "      <td>2</td>\n",
       "      <td>18</td>\n",
       "      <td>0</td>\n",
       "      <td>16XX GRANVILLE ST</td>\n",
       "      <td>Central Business District</td>\n",
       "      <td>490427.8293</td>\n",
       "      <td>5.457873e+06</td>\n",
       "      <td>True</td>\n",
       "    </tr>\n",
       "    <tr>\n",
       "      <th>118</th>\n",
       "      <td>Theft from Vehicle</td>\n",
       "      <td>2018</td>\n",
       "      <td>9</td>\n",
       "      <td>3</td>\n",
       "      <td>11</td>\n",
       "      <td>0</td>\n",
       "      <td>16XX HARO ST</td>\n",
       "      <td>West End</td>\n",
       "      <td>490242.0135</td>\n",
       "      <td>5.459620e+06</td>\n",
       "      <td>True</td>\n",
       "    </tr>\n",
       "    <tr>\n",
       "      <th>133</th>\n",
       "      <td>Theft from Vehicle</td>\n",
       "      <td>2004</td>\n",
       "      <td>5</td>\n",
       "      <td>31</td>\n",
       "      <td>22</td>\n",
       "      <td>30</td>\n",
       "      <td>16XX HARO ST</td>\n",
       "      <td>West End</td>\n",
       "      <td>490244.6136</td>\n",
       "      <td>5.459631e+06</td>\n",
       "      <td>True</td>\n",
       "    </tr>\n",
       "    <tr>\n",
       "      <th>...</th>\n",
       "      <td>...</td>\n",
       "      <td>...</td>\n",
       "      <td>...</td>\n",
       "      <td>...</td>\n",
       "      <td>...</td>\n",
       "      <td>...</td>\n",
       "      <td>...</td>\n",
       "      <td>...</td>\n",
       "      <td>...</td>\n",
       "      <td>...</td>\n",
       "      <td>...</td>\n",
       "    </tr>\n",
       "    <tr>\n",
       "      <th>836019</th>\n",
       "      <td>Theft from Vehicle</td>\n",
       "      <td>2018</td>\n",
       "      <td>9</td>\n",
       "      <td>3</td>\n",
       "      <td>17</td>\n",
       "      <td>0</td>\n",
       "      <td>16XX E PENDER ST</td>\n",
       "      <td>Grandview-Woodland</td>\n",
       "      <td>494720.1112</td>\n",
       "      <td>5.458615e+06</td>\n",
       "      <td>True</td>\n",
       "    </tr>\n",
       "    <tr>\n",
       "      <th>836054</th>\n",
       "      <td>Theft from Vehicle</td>\n",
       "      <td>2004</td>\n",
       "      <td>12</td>\n",
       "      <td>31</td>\n",
       "      <td>22</td>\n",
       "      <td>0</td>\n",
       "      <td>16XX FRANCES ST</td>\n",
       "      <td>Grandview-Woodland</td>\n",
       "      <td>494721.6096</td>\n",
       "      <td>5.458515e+06</td>\n",
       "      <td>True</td>\n",
       "    </tr>\n",
       "    <tr>\n",
       "      <th>836068</th>\n",
       "      <td>Theft from Vehicle</td>\n",
       "      <td>2020</td>\n",
       "      <td>1</td>\n",
       "      <td>1</td>\n",
       "      <td>19</td>\n",
       "      <td>39</td>\n",
       "      <td>16XX FRANCES ST</td>\n",
       "      <td>Grandview-Woodland</td>\n",
       "      <td>494721.6096</td>\n",
       "      <td>5.458515e+06</td>\n",
       "      <td>True</td>\n",
       "    </tr>\n",
       "    <tr>\n",
       "      <th>836116</th>\n",
       "      <td>Theft from Vehicle</td>\n",
       "      <td>2019</td>\n",
       "      <td>12</td>\n",
       "      <td>25</td>\n",
       "      <td>10</td>\n",
       "      <td>45</td>\n",
       "      <td>16XX FRANKLIN ST</td>\n",
       "      <td>Grandview-Woodland</td>\n",
       "      <td>494725.2877</td>\n",
       "      <td>5.458826e+06</td>\n",
       "      <td>True</td>\n",
       "    </tr>\n",
       "    <tr>\n",
       "      <th>836127</th>\n",
       "      <td>Theft from Vehicle</td>\n",
       "      <td>2016</td>\n",
       "      <td>1</td>\n",
       "      <td>18</td>\n",
       "      <td>0</td>\n",
       "      <td>30</td>\n",
       "      <td>16XX FRANKLIN ST</td>\n",
       "      <td>Grandview-Woodland</td>\n",
       "      <td>494830.9126</td>\n",
       "      <td>5.458824e+06</td>\n",
       "      <td>True</td>\n",
       "    </tr>\n",
       "  </tbody>\n",
       "</table>\n",
       "<p>21406 rows × 11 columns</p>\n",
       "</div>"
      ],
      "text/plain": [
       "                      TYPE  YEAR  MONTH  DAY  HOUR  MINUTE      HUNDRED_BLOCK  \\\n",
       "34      Theft from Vehicle  2016      9    5     7      50  16XX GRANVILLE ST   \n",
       "72      Theft from Vehicle  2014      1   20     5      26  16XX GRANVILLE ST   \n",
       "75      Theft from Vehicle  2017      1    2    18       0  16XX GRANVILLE ST   \n",
       "118     Theft from Vehicle  2018      9    3    11       0       16XX HARO ST   \n",
       "133     Theft from Vehicle  2004      5   31    22      30       16XX HARO ST   \n",
       "...                    ...   ...    ...  ...   ...     ...                ...   \n",
       "836019  Theft from Vehicle  2018      9    3    17       0   16XX E PENDER ST   \n",
       "836054  Theft from Vehicle  2004     12   31    22       0    16XX FRANCES ST   \n",
       "836068  Theft from Vehicle  2020      1    1    19      39    16XX FRANCES ST   \n",
       "836116  Theft from Vehicle  2019     12   25    10      45   16XX FRANKLIN ST   \n",
       "836127  Theft from Vehicle  2016      1   18     0      30   16XX FRANKLIN ST   \n",
       "\n",
       "                    NEIGHBOURHOOD            X             Y  Holiday  \n",
       "34      Central Business District  490419.5840  5.457877e+06     True  \n",
       "72      Central Business District  490427.8293  5.457873e+06     True  \n",
       "75      Central Business District  490427.8293  5.457873e+06     True  \n",
       "118                      West End  490242.0135  5.459620e+06     True  \n",
       "133                      West End  490244.6136  5.459631e+06     True  \n",
       "...                           ...          ...           ...      ...  \n",
       "836019         Grandview-Woodland  494720.1112  5.458615e+06     True  \n",
       "836054         Grandview-Woodland  494721.6096  5.458515e+06     True  \n",
       "836068         Grandview-Woodland  494721.6096  5.458515e+06     True  \n",
       "836116         Grandview-Woodland  494725.2877  5.458826e+06     True  \n",
       "836127         Grandview-Woodland  494830.9126  5.458824e+06     True  \n",
       "\n",
       "[21406 rows x 11 columns]"
      ]
     },
     "execution_count": 21,
     "metadata": {},
     "output_type": "execute_result"
    }
   ],
   "source": [
    "to_dt[to_dt[\"Holiday\"]==True]"
   ]
  },
  {
   "cell_type": "code",
   "execution_count": 22,
   "id": "77e0a547",
   "metadata": {},
   "outputs": [],
   "source": [
    "#Create columns for weekend\n",
    "r=date.apply(lambda x: x)\n",
    "e=r.dt.day_name()\n",
    "def weekend(weekday):\n",
    "    return weekday == \"Saturday\" or weekday == \"Sunday\"\n",
    "\n",
    "to_dt[\"Weekend\"] = e.map(weekend)"
   ]
  },
  {
   "cell_type": "code",
   "execution_count": 23,
   "id": "fb737ca9",
   "metadata": {},
   "outputs": [
    {
     "data": {
      "text/html": [
       "<div>\n",
       "<style scoped>\n",
       "    .dataframe tbody tr th:only-of-type {\n",
       "        vertical-align: middle;\n",
       "    }\n",
       "\n",
       "    .dataframe tbody tr th {\n",
       "        vertical-align: top;\n",
       "    }\n",
       "\n",
       "    .dataframe thead th {\n",
       "        text-align: right;\n",
       "    }\n",
       "</style>\n",
       "<table border=\"1\" class=\"dataframe\">\n",
       "  <thead>\n",
       "    <tr style=\"text-align: right;\">\n",
       "      <th></th>\n",
       "      <th>TYPE</th>\n",
       "      <th>YEAR</th>\n",
       "      <th>MONTH</th>\n",
       "      <th>DAY</th>\n",
       "      <th>HOUR</th>\n",
       "      <th>MINUTE</th>\n",
       "      <th>HUNDRED_BLOCK</th>\n",
       "      <th>NEIGHBOURHOOD</th>\n",
       "      <th>X</th>\n",
       "      <th>Y</th>\n",
       "      <th>Holiday</th>\n",
       "      <th>Weekend</th>\n",
       "    </tr>\n",
       "  </thead>\n",
       "  <tbody>\n",
       "    <tr>\n",
       "      <th>0</th>\n",
       "      <td>Theft from Vehicle</td>\n",
       "      <td>2008</td>\n",
       "      <td>12</td>\n",
       "      <td>7</td>\n",
       "      <td>16</td>\n",
       "      <td>0</td>\n",
       "      <td>16XX GRANVILLE ST</td>\n",
       "      <td>Central Business District</td>\n",
       "      <td>490419.584</td>\n",
       "      <td>5.457877e+06</td>\n",
       "      <td>False</td>\n",
       "      <td>True</td>\n",
       "    </tr>\n",
       "    <tr>\n",
       "      <th>1</th>\n",
       "      <td>Theft from Vehicle</td>\n",
       "      <td>2009</td>\n",
       "      <td>4</td>\n",
       "      <td>6</td>\n",
       "      <td>2</td>\n",
       "      <td>0</td>\n",
       "      <td>16XX GRANVILLE ST</td>\n",
       "      <td>Central Business District</td>\n",
       "      <td>490419.584</td>\n",
       "      <td>5.457877e+06</td>\n",
       "      <td>False</td>\n",
       "      <td>False</td>\n",
       "    </tr>\n",
       "    <tr>\n",
       "      <th>2</th>\n",
       "      <td>Theft from Vehicle</td>\n",
       "      <td>2009</td>\n",
       "      <td>4</td>\n",
       "      <td>21</td>\n",
       "      <td>19</td>\n",
       "      <td>15</td>\n",
       "      <td>16XX GRANVILLE ST</td>\n",
       "      <td>Central Business District</td>\n",
       "      <td>490419.584</td>\n",
       "      <td>5.457877e+06</td>\n",
       "      <td>False</td>\n",
       "      <td>False</td>\n",
       "    </tr>\n",
       "    <tr>\n",
       "      <th>3</th>\n",
       "      <td>Theft from Vehicle</td>\n",
       "      <td>2009</td>\n",
       "      <td>4</td>\n",
       "      <td>24</td>\n",
       "      <td>18</td>\n",
       "      <td>30</td>\n",
       "      <td>16XX GRANVILLE ST</td>\n",
       "      <td>Central Business District</td>\n",
       "      <td>490419.584</td>\n",
       "      <td>5.457877e+06</td>\n",
       "      <td>False</td>\n",
       "      <td>False</td>\n",
       "    </tr>\n",
       "    <tr>\n",
       "      <th>4</th>\n",
       "      <td>Theft from Vehicle</td>\n",
       "      <td>2009</td>\n",
       "      <td>5</td>\n",
       "      <td>24</td>\n",
       "      <td>13</td>\n",
       "      <td>30</td>\n",
       "      <td>16XX GRANVILLE ST</td>\n",
       "      <td>Central Business District</td>\n",
       "      <td>490419.584</td>\n",
       "      <td>5.457877e+06</td>\n",
       "      <td>False</td>\n",
       "      <td>True</td>\n",
       "    </tr>\n",
       "  </tbody>\n",
       "</table>\n",
       "</div>"
      ],
      "text/plain": [
       "                 TYPE  YEAR  MONTH  DAY  HOUR  MINUTE      HUNDRED_BLOCK  \\\n",
       "0  Theft from Vehicle  2008     12    7    16       0  16XX GRANVILLE ST   \n",
       "1  Theft from Vehicle  2009      4    6     2       0  16XX GRANVILLE ST   \n",
       "2  Theft from Vehicle  2009      4   21    19      15  16XX GRANVILLE ST   \n",
       "3  Theft from Vehicle  2009      4   24    18      30  16XX GRANVILLE ST   \n",
       "4  Theft from Vehicle  2009      5   24    13      30  16XX GRANVILLE ST   \n",
       "\n",
       "               NEIGHBOURHOOD           X             Y  Holiday  Weekend  \n",
       "0  Central Business District  490419.584  5.457877e+06    False     True  \n",
       "1  Central Business District  490419.584  5.457877e+06    False    False  \n",
       "2  Central Business District  490419.584  5.457877e+06    False    False  \n",
       "3  Central Business District  490419.584  5.457877e+06    False    False  \n",
       "4  Central Business District  490419.584  5.457877e+06    False     True  "
      ]
     },
     "execution_count": 23,
     "metadata": {},
     "output_type": "execute_result"
    }
   ],
   "source": [
    "to_dt.head()"
   ]
  },
  {
   "cell_type": "code",
   "execution_count": 24,
   "id": "10fe6344",
   "metadata": {},
   "outputs": [
    {
     "data": {
      "text/plain": [
       "TYPE             Theft from VehicleTheft from VehicleTheft from...\n",
       "YEAR                                                     514041024\n",
       "MONTH                                                      1664321\n",
       "DAY                                                        3932875\n",
       "HOUR                                                       3198211\n",
       "MINUTE                                                     4044319\n",
       "HUNDRED_BLOCK    16XX GRANVILLE ST16XX GRANVILLE ST16XX GRANVIL...\n",
       "NEIGHBOURHOOD    Central Business DistrictCentral Business Dist...\n",
       "X                                              118662907816.167206\n",
       "Y                                             1315630883926.547119\n",
       "Holiday                                                      21406\n",
       "Weekend                                                     234123\n",
       "dtype: object"
      ]
     },
     "execution_count": 24,
     "metadata": {},
     "output_type": "execute_result"
    }
   ],
   "source": [
    "to_dt[to_dt['Holiday']==True].sum() + to_dt[to_dt['Weekend']==True].sum()"
   ]
  },
  {
   "cell_type": "code",
   "execution_count": 25,
   "id": "2c2d2090",
   "metadata": {},
   "outputs": [
    {
     "data": {
      "text/plain": [
       "False    784800\n",
       "True      21406\n",
       "Name: Holiday, dtype: int64"
      ]
     },
     "execution_count": 25,
     "metadata": {},
     "output_type": "execute_result"
    }
   ],
   "source": [
    "to_dt['Holiday'].value_counts()"
   ]
  },
  {
   "cell_type": "code",
   "execution_count": 26,
   "id": "792385d4",
   "metadata": {},
   "outputs": [
    {
     "data": {
      "text/plain": [
       "False    572083\n",
       "True     234123\n",
       "Name: Weekend, dtype: int64"
      ]
     },
     "execution_count": 26,
     "metadata": {},
     "output_type": "execute_result"
    }
   ],
   "source": [
    "to_dt['Weekend'].value_counts()"
   ]
  },
  {
   "cell_type": "code",
   "execution_count": 27,
   "id": "282d5bbc",
   "metadata": {},
   "outputs": [
    {
     "data": {
      "text/plain": [
       "OFFSET TO PROTECT PRIVACY    42651\n",
       "7XX GRANVILLE ST              6857\n",
       "X NK_LOC ST                   6178\n",
       "7XX W GEORGIA ST              4777\n",
       "31XX GRANDVIEW HWY            4233\n",
       "                             ...  \n",
       "X STANLEY PARK CSWY CSWY         1\n",
       "XXXX E 4TH AVE                   1\n",
       "10XX E 19TH AVE                  1\n",
       "DAVIE ST / BEACH AVE             1\n",
       "16XX E 47TH AVE                  1\n",
       "Name: HUNDRED_BLOCK, Length: 23144, dtype: int64"
      ]
     },
     "execution_count": 27,
     "metadata": {},
     "output_type": "execute_result"
    }
   ],
   "source": [
    "to_dt['HUNDRED_BLOCK'].value_counts()"
   ]
  },
  {
   "cell_type": "code",
   "execution_count": 28,
   "id": "b2be86c4",
   "metadata": {},
   "outputs": [
    {
     "data": {
      "text/plain": [
       "\"\\nto_dt['point'] = list(zip(to_dt.X, to_dt.Y))\\nto_dt.drop(['X','Y'],axis=1,inplace=True)\\nto_dt.head()\\n\""
      ]
     },
     "execution_count": 28,
     "metadata": {},
     "output_type": "execute_result"
    }
   ],
   "source": [
    "#put latitude and longitude in one column\n",
    "'''\n",
    "to_dt['point'] = list(zip(to_dt.X, to_dt.Y))\n",
    "to_dt.drop(['X','Y'],axis=1,inplace=True)\n",
    "to_dt.head()\n",
    "'''\n"
   ]
  },
  {
   "cell_type": "markdown",
   "id": "0567c464",
   "metadata": {},
   "source": [
    "# Label Encoding"
   ]
  },
  {
   "cell_type": "code",
   "execution_count": 29,
   "id": "9a922306",
   "metadata": {},
   "outputs": [],
   "source": [
    "le = LabelEncoder()\n",
    "encoder = OneHotEncoder()\n",
    "encoder_df = pd.DataFrame(encoder.fit_transform(to_dt[['NEIGHBOURHOOD']]).toarray())\n",
    "final_df = to_dt.join(encoder_df)\n",
    "del final_df[\"NEIGHBOURHOOD\"]\n",
    "final_df[\"TYPE\"] = le.fit_transform(final_df[\"TYPE\"])\n",
    "final_df[\"Holiday\"] = le.fit_transform(final_df[\"Holiday\"])\n",
    "final_df[\"Weekend\"] = le.fit_transform(final_df[\"Weekend\"])\n",
    "final_df['HUNDRED_BLOCK']=le.fit_transform(final_df[\"HUNDRED_BLOCK\"])\n",
    "\n",
    "#to_dt.drop(columns=[\"TYPE\", \"Holiday\", \"Weekend\"],Inplace=True)"
   ]
  },
  {
   "cell_type": "code",
   "execution_count": 30,
   "id": "fb7155b0",
   "metadata": {},
   "outputs": [
    {
     "data": {
      "text/html": [
       "<div>\n",
       "<style scoped>\n",
       "    .dataframe tbody tr th:only-of-type {\n",
       "        vertical-align: middle;\n",
       "    }\n",
       "\n",
       "    .dataframe tbody tr th {\n",
       "        vertical-align: top;\n",
       "    }\n",
       "\n",
       "    .dataframe thead th {\n",
       "        text-align: right;\n",
       "    }\n",
       "</style>\n",
       "<table border=\"1\" class=\"dataframe\">\n",
       "  <thead>\n",
       "    <tr style=\"text-align: right;\">\n",
       "      <th></th>\n",
       "      <th>TYPE</th>\n",
       "      <th>YEAR</th>\n",
       "      <th>MONTH</th>\n",
       "      <th>DAY</th>\n",
       "      <th>HOUR</th>\n",
       "      <th>MINUTE</th>\n",
       "      <th>HUNDRED_BLOCK</th>\n",
       "      <th>X</th>\n",
       "      <th>Y</th>\n",
       "      <th>Holiday</th>\n",
       "      <th>...</th>\n",
       "      <th>14</th>\n",
       "      <th>15</th>\n",
       "      <th>16</th>\n",
       "      <th>17</th>\n",
       "      <th>18</th>\n",
       "      <th>19</th>\n",
       "      <th>20</th>\n",
       "      <th>21</th>\n",
       "      <th>22</th>\n",
       "      <th>23</th>\n",
       "    </tr>\n",
       "  </thead>\n",
       "  <tbody>\n",
       "    <tr>\n",
       "      <th>0</th>\n",
       "      <td>6</td>\n",
       "      <td>2008</td>\n",
       "      <td>12</td>\n",
       "      <td>7</td>\n",
       "      <td>16</td>\n",
       "      <td>0</td>\n",
       "      <td>1982</td>\n",
       "      <td>490419.584</td>\n",
       "      <td>5.457877e+06</td>\n",
       "      <td>0</td>\n",
       "      <td>...</td>\n",
       "      <td>0.0</td>\n",
       "      <td>0.0</td>\n",
       "      <td>0.0</td>\n",
       "      <td>0.0</td>\n",
       "      <td>0.0</td>\n",
       "      <td>0.0</td>\n",
       "      <td>0.0</td>\n",
       "      <td>0.0</td>\n",
       "      <td>0.0</td>\n",
       "      <td>0.0</td>\n",
       "    </tr>\n",
       "    <tr>\n",
       "      <th>1</th>\n",
       "      <td>6</td>\n",
       "      <td>2009</td>\n",
       "      <td>4</td>\n",
       "      <td>6</td>\n",
       "      <td>2</td>\n",
       "      <td>0</td>\n",
       "      <td>1982</td>\n",
       "      <td>490419.584</td>\n",
       "      <td>5.457877e+06</td>\n",
       "      <td>0</td>\n",
       "      <td>...</td>\n",
       "      <td>0.0</td>\n",
       "      <td>0.0</td>\n",
       "      <td>0.0</td>\n",
       "      <td>0.0</td>\n",
       "      <td>0.0</td>\n",
       "      <td>0.0</td>\n",
       "      <td>0.0</td>\n",
       "      <td>0.0</td>\n",
       "      <td>0.0</td>\n",
       "      <td>0.0</td>\n",
       "    </tr>\n",
       "    <tr>\n",
       "      <th>2</th>\n",
       "      <td>6</td>\n",
       "      <td>2009</td>\n",
       "      <td>4</td>\n",
       "      <td>21</td>\n",
       "      <td>19</td>\n",
       "      <td>15</td>\n",
       "      <td>1982</td>\n",
       "      <td>490419.584</td>\n",
       "      <td>5.457877e+06</td>\n",
       "      <td>0</td>\n",
       "      <td>...</td>\n",
       "      <td>0.0</td>\n",
       "      <td>0.0</td>\n",
       "      <td>0.0</td>\n",
       "      <td>0.0</td>\n",
       "      <td>0.0</td>\n",
       "      <td>0.0</td>\n",
       "      <td>0.0</td>\n",
       "      <td>0.0</td>\n",
       "      <td>0.0</td>\n",
       "      <td>0.0</td>\n",
       "    </tr>\n",
       "    <tr>\n",
       "      <th>3</th>\n",
       "      <td>6</td>\n",
       "      <td>2009</td>\n",
       "      <td>4</td>\n",
       "      <td>24</td>\n",
       "      <td>18</td>\n",
       "      <td>30</td>\n",
       "      <td>1982</td>\n",
       "      <td>490419.584</td>\n",
       "      <td>5.457877e+06</td>\n",
       "      <td>0</td>\n",
       "      <td>...</td>\n",
       "      <td>0.0</td>\n",
       "      <td>0.0</td>\n",
       "      <td>0.0</td>\n",
       "      <td>0.0</td>\n",
       "      <td>0.0</td>\n",
       "      <td>0.0</td>\n",
       "      <td>0.0</td>\n",
       "      <td>0.0</td>\n",
       "      <td>0.0</td>\n",
       "      <td>0.0</td>\n",
       "    </tr>\n",
       "    <tr>\n",
       "      <th>4</th>\n",
       "      <td>6</td>\n",
       "      <td>2009</td>\n",
       "      <td>5</td>\n",
       "      <td>24</td>\n",
       "      <td>13</td>\n",
       "      <td>30</td>\n",
       "      <td>1982</td>\n",
       "      <td>490419.584</td>\n",
       "      <td>5.457877e+06</td>\n",
       "      <td>0</td>\n",
       "      <td>...</td>\n",
       "      <td>0.0</td>\n",
       "      <td>0.0</td>\n",
       "      <td>0.0</td>\n",
       "      <td>0.0</td>\n",
       "      <td>0.0</td>\n",
       "      <td>0.0</td>\n",
       "      <td>0.0</td>\n",
       "      <td>0.0</td>\n",
       "      <td>0.0</td>\n",
       "      <td>0.0</td>\n",
       "    </tr>\n",
       "    <tr>\n",
       "      <th>...</th>\n",
       "      <td>...</td>\n",
       "      <td>...</td>\n",
       "      <td>...</td>\n",
       "      <td>...</td>\n",
       "      <td>...</td>\n",
       "      <td>...</td>\n",
       "      <td>...</td>\n",
       "      <td>...</td>\n",
       "      <td>...</td>\n",
       "      <td>...</td>\n",
       "      <td>...</td>\n",
       "      <td>...</td>\n",
       "      <td>...</td>\n",
       "      <td>...</td>\n",
       "      <td>...</td>\n",
       "      <td>...</td>\n",
       "      <td>...</td>\n",
       "      <td>...</td>\n",
       "      <td>...</td>\n",
       "      <td>...</td>\n",
       "      <td>...</td>\n",
       "    </tr>\n",
       "    <tr>\n",
       "      <th>836185</th>\n",
       "      <td>6</td>\n",
       "      <td>2005</td>\n",
       "      <td>10</td>\n",
       "      <td>22</td>\n",
       "      <td>5</td>\n",
       "      <td>45</td>\n",
       "      <td>1982</td>\n",
       "      <td>490419.584</td>\n",
       "      <td>5.457877e+06</td>\n",
       "      <td>0</td>\n",
       "      <td>...</td>\n",
       "      <td>NaN</td>\n",
       "      <td>NaN</td>\n",
       "      <td>NaN</td>\n",
       "      <td>NaN</td>\n",
       "      <td>NaN</td>\n",
       "      <td>NaN</td>\n",
       "      <td>NaN</td>\n",
       "      <td>NaN</td>\n",
       "      <td>NaN</td>\n",
       "      <td>NaN</td>\n",
       "    </tr>\n",
       "    <tr>\n",
       "      <th>836186</th>\n",
       "      <td>6</td>\n",
       "      <td>2005</td>\n",
       "      <td>10</td>\n",
       "      <td>23</td>\n",
       "      <td>22</td>\n",
       "      <td>0</td>\n",
       "      <td>1982</td>\n",
       "      <td>490419.584</td>\n",
       "      <td>5.457877e+06</td>\n",
       "      <td>0</td>\n",
       "      <td>...</td>\n",
       "      <td>NaN</td>\n",
       "      <td>NaN</td>\n",
       "      <td>NaN</td>\n",
       "      <td>NaN</td>\n",
       "      <td>NaN</td>\n",
       "      <td>NaN</td>\n",
       "      <td>NaN</td>\n",
       "      <td>NaN</td>\n",
       "      <td>NaN</td>\n",
       "      <td>NaN</td>\n",
       "    </tr>\n",
       "    <tr>\n",
       "      <th>836187</th>\n",
       "      <td>6</td>\n",
       "      <td>2006</td>\n",
       "      <td>11</td>\n",
       "      <td>30</td>\n",
       "      <td>18</td>\n",
       "      <td>0</td>\n",
       "      <td>1982</td>\n",
       "      <td>490419.584</td>\n",
       "      <td>5.457877e+06</td>\n",
       "      <td>0</td>\n",
       "      <td>...</td>\n",
       "      <td>NaN</td>\n",
       "      <td>NaN</td>\n",
       "      <td>NaN</td>\n",
       "      <td>NaN</td>\n",
       "      <td>NaN</td>\n",
       "      <td>NaN</td>\n",
       "      <td>NaN</td>\n",
       "      <td>NaN</td>\n",
       "      <td>NaN</td>\n",
       "      <td>NaN</td>\n",
       "    </tr>\n",
       "    <tr>\n",
       "      <th>836188</th>\n",
       "      <td>6</td>\n",
       "      <td>2006</td>\n",
       "      <td>12</td>\n",
       "      <td>31</td>\n",
       "      <td>11</td>\n",
       "      <td>0</td>\n",
       "      <td>1982</td>\n",
       "      <td>490419.584</td>\n",
       "      <td>5.457877e+06</td>\n",
       "      <td>0</td>\n",
       "      <td>...</td>\n",
       "      <td>NaN</td>\n",
       "      <td>NaN</td>\n",
       "      <td>NaN</td>\n",
       "      <td>NaN</td>\n",
       "      <td>NaN</td>\n",
       "      <td>NaN</td>\n",
       "      <td>NaN</td>\n",
       "      <td>NaN</td>\n",
       "      <td>NaN</td>\n",
       "      <td>NaN</td>\n",
       "    </tr>\n",
       "    <tr>\n",
       "      <th>836189</th>\n",
       "      <td>6</td>\n",
       "      <td>2008</td>\n",
       "      <td>2</td>\n",
       "      <td>16</td>\n",
       "      <td>19</td>\n",
       "      <td>15</td>\n",
       "      <td>1982</td>\n",
       "      <td>490419.584</td>\n",
       "      <td>5.457877e+06</td>\n",
       "      <td>0</td>\n",
       "      <td>...</td>\n",
       "      <td>NaN</td>\n",
       "      <td>NaN</td>\n",
       "      <td>NaN</td>\n",
       "      <td>NaN</td>\n",
       "      <td>NaN</td>\n",
       "      <td>NaN</td>\n",
       "      <td>NaN</td>\n",
       "      <td>NaN</td>\n",
       "      <td>NaN</td>\n",
       "      <td>NaN</td>\n",
       "    </tr>\n",
       "  </tbody>\n",
       "</table>\n",
       "<p>806206 rows × 35 columns</p>\n",
       "</div>"
      ],
      "text/plain": [
       "        TYPE  YEAR  MONTH  DAY  HOUR  MINUTE  HUNDRED_BLOCK           X  \\\n",
       "0          6  2008     12    7    16       0           1982  490419.584   \n",
       "1          6  2009      4    6     2       0           1982  490419.584   \n",
       "2          6  2009      4   21    19      15           1982  490419.584   \n",
       "3          6  2009      4   24    18      30           1982  490419.584   \n",
       "4          6  2009      5   24    13      30           1982  490419.584   \n",
       "...      ...   ...    ...  ...   ...     ...            ...         ...   \n",
       "836185     6  2005     10   22     5      45           1982  490419.584   \n",
       "836186     6  2005     10   23    22       0           1982  490419.584   \n",
       "836187     6  2006     11   30    18       0           1982  490419.584   \n",
       "836188     6  2006     12   31    11       0           1982  490419.584   \n",
       "836189     6  2008      2   16    19      15           1982  490419.584   \n",
       "\n",
       "                   Y  Holiday  ...   14   15   16   17   18   19   20   21  \\\n",
       "0       5.457877e+06        0  ...  0.0  0.0  0.0  0.0  0.0  0.0  0.0  0.0   \n",
       "1       5.457877e+06        0  ...  0.0  0.0  0.0  0.0  0.0  0.0  0.0  0.0   \n",
       "2       5.457877e+06        0  ...  0.0  0.0  0.0  0.0  0.0  0.0  0.0  0.0   \n",
       "3       5.457877e+06        0  ...  0.0  0.0  0.0  0.0  0.0  0.0  0.0  0.0   \n",
       "4       5.457877e+06        0  ...  0.0  0.0  0.0  0.0  0.0  0.0  0.0  0.0   \n",
       "...              ...      ...  ...  ...  ...  ...  ...  ...  ...  ...  ...   \n",
       "836185  5.457877e+06        0  ...  NaN  NaN  NaN  NaN  NaN  NaN  NaN  NaN   \n",
       "836186  5.457877e+06        0  ...  NaN  NaN  NaN  NaN  NaN  NaN  NaN  NaN   \n",
       "836187  5.457877e+06        0  ...  NaN  NaN  NaN  NaN  NaN  NaN  NaN  NaN   \n",
       "836188  5.457877e+06        0  ...  NaN  NaN  NaN  NaN  NaN  NaN  NaN  NaN   \n",
       "836189  5.457877e+06        0  ...  NaN  NaN  NaN  NaN  NaN  NaN  NaN  NaN   \n",
       "\n",
       "         22   23  \n",
       "0       0.0  0.0  \n",
       "1       0.0  0.0  \n",
       "2       0.0  0.0  \n",
       "3       0.0  0.0  \n",
       "4       0.0  0.0  \n",
       "...     ...  ...  \n",
       "836185  NaN  NaN  \n",
       "836186  NaN  NaN  \n",
       "836187  NaN  NaN  \n",
       "836188  NaN  NaN  \n",
       "836189  NaN  NaN  \n",
       "\n",
       "[806206 rows x 35 columns]"
      ]
     },
     "execution_count": 30,
     "metadata": {},
     "output_type": "execute_result"
    }
   ],
   "source": [
    "final_df"
   ]
  },
  {
   "cell_type": "code",
   "execution_count": 31,
   "id": "1a340f41",
   "metadata": {},
   "outputs": [
    {
     "data": {
      "text/plain": [
       "TYPE             0\n",
       "YEAR             0\n",
       "MONTH            0\n",
       "DAY              0\n",
       "HOUR             0\n",
       "MINUTE           0\n",
       "HUNDRED_BLOCK    0\n",
       "X                0\n",
       "Y                0\n",
       "Holiday          0\n",
       "Weekend          0\n",
       "0                0\n",
       "1                0\n",
       "2                0\n",
       "3                0\n",
       "4                0\n",
       "5                0\n",
       "6                0\n",
       "7                0\n",
       "8                0\n",
       "9                0\n",
       "10               0\n",
       "11               0\n",
       "12               0\n",
       "13               0\n",
       "14               0\n",
       "15               0\n",
       "16               0\n",
       "17               0\n",
       "18               0\n",
       "19               0\n",
       "20               0\n",
       "21               0\n",
       "22               0\n",
       "23               0\n",
       "dtype: int64"
      ]
     },
     "execution_count": 31,
     "metadata": {},
     "output_type": "execute_result"
    }
   ],
   "source": [
    "#drop null values\n",
    "final_df.dropna(axis=0,inplace=True)\n",
    "final_df.isnull().sum()"
   ]
  },
  {
   "cell_type": "markdown",
   "id": "b1526884",
   "metadata": {},
   "source": [
    "# Model"
   ]
  },
  {
   "cell_type": "markdown",
   "id": "8a3bf2a0",
   "metadata": {},
   "source": [
    "### Prepare data"
   ]
  },
  {
   "cell_type": "code",
   "execution_count": 32,
   "id": "543b8a6e",
   "metadata": {},
   "outputs": [],
   "source": [
    "x=final_df.drop(\"TYPE\", axis=1)\n",
    "y=final_df[\"TYPE\"]\n",
    "X_train, X_test, y_train, y_test = train_test_split(x,y,test_size=0.3,random_state=42)"
   ]
  },
  {
   "cell_type": "markdown",
   "id": "1702bf31",
   "metadata": {},
   "source": [
    "# Smote"
   ]
  },
  {
   "cell_type": "code",
   "execution_count": 33,
   "id": "50e77e5c",
   "metadata": {},
   "outputs": [
    {
     "name": "stdout",
     "output_type": "stream",
     "text": [
      "Requirement already satisfied: imblearn in c:\\users\\mohamed\\appdata\\local\\programs\\python\\python310\\lib\\site-packages (0.0)\n",
      "Requirement already satisfied: imbalanced-learn in c:\\users\\mohamed\\appdata\\local\\programs\\python\\python310\\lib\\site-packages (from imblearn) (0.9.0)\n",
      "Requirement already satisfied: joblib>=0.11 in c:\\users\\mohamed\\appdata\\local\\programs\\python\\python310\\lib\\site-packages (from imbalanced-learn->imblearn) (1.1.0)\n",
      "Requirement already satisfied: threadpoolctl>=2.0.0 in c:\\users\\mohamed\\appdata\\local\\programs\\python\\python310\\lib\\site-packages (from imbalanced-learn->imblearn) (3.0.0)\n",
      "Requirement already satisfied: numpy>=1.14.6 in c:\\users\\mohamed\\appdata\\roaming\\python\\python310\\site-packages (from imbalanced-learn->imblearn) (1.22.0)\n",
      "Requirement already satisfied: scipy>=1.1.0 in c:\\users\\mohamed\\appdata\\local\\programs\\python\\python310\\lib\\site-packages (from imbalanced-learn->imblearn) (1.7.3)\n",
      "Requirement already satisfied: scikit-learn>=1.0.1 in c:\\users\\mohamed\\appdata\\local\\programs\\python\\python310\\lib\\site-packages (from imbalanced-learn->imblearn) (1.1.2)\n",
      "\n",
      "[notice] A new release of pip available: 22.2 -> 22.3\n",
      "[notice] To update, run: python.exe -m pip install --upgrade pip\n"
     ]
    }
   ],
   "source": [
    "!pip install imblearn"
   ]
  },
  {
   "cell_type": "code",
   "execution_count": 35,
   "id": "2af2f3fc",
   "metadata": {},
   "outputs": [
    {
     "name": "stderr",
     "output_type": "stream",
     "text": [
      "C:\\Users\\Mohamed\\AppData\\Local\\Programs\\Python\\Python310\\lib\\site-packages\\sklearn\\utils\\validation.py:1858: FutureWarning: Feature names only support names that are all strings. Got feature names with dtypes: ['int', 'str']. An error will be raised in 1.2.\n",
      "  warnings.warn(\n"
     ]
    }
   ],
   "source": [
    "#!pip install imblearn\n",
    "from imblearn.over_sampling import SMOTE\n",
    "oversample = SMOTE()\n",
    "X_oversample, y_oversample = oversample.fit_resample(X_train, y_train)"
   ]
  },
  {
   "cell_type": "markdown",
   "id": "ea7777f6",
   "metadata": {},
   "source": [
    "## KNN"
   ]
  },
  {
   "cell_type": "code",
   "execution_count": 33,
   "id": "8b38329b",
   "metadata": {},
   "outputs": [],
   "source": [
    "r=normalize(x)\n",
    "\n",
    "X_ttrain, X_ttest, y_ttrain, y_ttest = train_test_split(r,y,test_size=0.3,random_state=1)"
   ]
  },
  {
   "cell_type": "code",
   "execution_count": 34,
   "id": "8a969165",
   "metadata": {},
   "outputs": [],
   "source": [
    "knn_model = KNeighborsClassifier(n_neighbors=11)\n",
    "knn_model.fit(X_ttrain, y_ttrain)\n",
    "y_hat=knn_model.predict(X_ttest)"
   ]
  },
  {
   "cell_type": "code",
   "execution_count": 35,
   "id": "b4bd5362",
   "metadata": {},
   "outputs": [
    {
     "data": {
      "text/plain": [
       "0.34749748148312315"
      ]
     },
     "execution_count": 35,
     "metadata": {},
     "output_type": "execute_result"
    }
   ],
   "source": [
    "f1_score(y_ttest,y_hat,average='macro')"
   ]
  },
  {
   "cell_type": "code",
   "execution_count": 36,
   "id": "30bdad2b",
   "metadata": {},
   "outputs": [
    {
     "data": {
      "text/plain": [
       "0.4977605242477466"
      ]
     },
     "execution_count": 36,
     "metadata": {},
     "output_type": "execute_result"
    }
   ],
   "source": [
    "accuracy_score(y_ttest,y_hat)"
   ]
  },
  {
   "cell_type": "code",
   "execution_count": 37,
   "id": "00cd06c8",
   "metadata": {},
   "outputs": [
    {
     "data": {
      "text/plain": [
       "array([0.44738413, 0.43834463, 0.46177432, 0.4766927 , 0.48381265,\n",
       "       0.48787076, 0.49126325, 0.49336316, 0.49597839, 0.49726668,\n",
       "       0.49776052, 0.49846479, 0.49942671, 0.49997638, 0.50038005,\n",
       "       0.50054323, 0.50125179, 0.50117878, 0.50136344, 0.50123032])"
      ]
     },
     "execution_count": 37,
     "metadata": {},
     "output_type": "execute_result"
    }
   ],
   "source": [
    "# calculating the accuracy of models with different values of k\n",
    "mean_acc = np.zeros(20)\n",
    "for i in range(1,21):\n",
    "    #Train Model and Predict  \n",
    "    knn = KNeighborsClassifier(n_neighbors = i).fit(X_ttrain,y_ttrain)\n",
    "    yhat= knn.predict(X_ttest)\n",
    "    mean_acc[i-1] = accuracy_score(y_ttest, yhat)\n",
    "\n",
    "mean_acc"
   ]
  },
  {
   "cell_type": "code",
   "execution_count": 38,
   "id": "fef4082c",
   "metadata": {},
   "outputs": [
    {
     "data": {
      "image/png": "[encoded data removed]",
      "text/plain": [
       "<Figure size 720x432 with 1 Axes>"
      ]
     },
     "metadata": {
      "needs_background": "light"
     },
     "output_type": "display_data"
    }
   ],
   "source": [
    "loc = np.arange(1,21,step=1.0)\n",
    "plt.figure(figsize = (10, 6))\n",
    "plt.plot(range(1,21), mean_acc)\n",
    "plt.xticks(loc)\n",
    "plt.xlabel('Number of Neighbors ')\n",
    "plt.ylabel('Accuracy')\n",
    "plt.show()"
   ]
  },
  {
   "cell_type": "code",
   "execution_count": null,
   "id": "1b6af8dd",
   "metadata": {},
   "outputs": [],
   "source": [
    "#Hyperparameter Tuning\n",
    "grid_params = { 'n_neighbors' : [10,13],\n",
    "               'weights' : ['uniform','distance'],\n",
    "               'metric' : ['minkowski','euclidean','manhattan']}\n",
    "gs =  RandomizedSearchCV(KNeighborsClassifier(), grid_params, verbose = 1, cv=3, n_jobs = -1)\n",
    "# fit the model on our train set\n",
    "g_res = gs.fit(X_ttrain, y_ttrain)\n",
    "\n",
    "# find the best score\n",
    "print(g_res.best_score_)\n",
    "# get the hyperparameters with the best score\n",
    "print(g_res.best_params_)"
   ]
  },
  {
   "cell_type": "code",
   "execution_count": null,
   "id": "717c9dbe",
   "metadata": {},
   "outputs": [],
   "source": [
    "# use the best hyperparameters\n",
    "knn = KNeighborsClassifier(n_neighbors = 15, weights ='distance',algorithm = 'brute',metric = 'manhattan')\n",
    "knn.fit(X_ttrain, y_ttrain)\n",
    "# get a prediction\n",
    "y_hat = knn.predict(X_ttrain)\n",
    "y_knn = knn.predict(X_ttest)"
   ]
  },
  {
   "cell_type": "code",
   "execution_count": null,
   "id": "ac66072a",
   "metadata": {},
   "outputs": [],
   "source": [
    "print('Training set accuracy: ', accuracy_score(y_ttrain, y_hat))\n",
    "print('Test set accuracy: ',accuracy_score(y_ttest, y_knn))\n",
    "print('Training set f1_score: ', f1_score(y_ttrain, y_hat))\n",
    "print('Test set f1_score: ',f1_score(y_ttest, y_knn))\n",
    "print(confusion_matrix(y_ttest, y_knn))\n",
    "print(classification_report(y_ttest, y_knn))\n"
   ]
  },
  {
   "cell_type": "code",
   "execution_count": null,
   "id": "121efaf6",
   "metadata": {},
   "outputs": [],
   "source": [
    "scores = cross_val_score(knn, x, y, cv =3)\n",
    "print('Model accuracy: ',np.mean(scores))"
   ]
  },
  {
   "cell_type": "markdown",
   "id": "28f823c0",
   "metadata": {},
   "source": [
    "# DecisionTreeClassifier\n"
   ]
  },
  {
   "cell_type": "code",
   "execution_count": 79,
   "id": "71e859e6",
   "metadata": {},
   "outputs": [
    {
     "name": "stderr",
     "output_type": "stream",
     "text": [
      "C:\\Users\\Mohamed\\AppData\\Local\\Programs\\Python\\Python310\\lib\\site-packages\\sklearn\\utils\\validation.py:1858: FutureWarning: Feature names only support names that are all strings. Got feature names with dtypes: ['int', 'str']. An error will be raised in 1.2.\n",
      "  warnings.warn(\n",
      "C:\\Users\\Mohamed\\AppData\\Local\\Programs\\Python\\Python310\\lib\\site-packages\\sklearn\\utils\\validation.py:1858: FutureWarning: Feature names only support names that are all strings. Got feature names with dtypes: ['int', 'str']. An error will be raised in 1.2.\n",
      "  warnings.warn(\n",
      "C:\\Users\\Mohamed\\AppData\\Local\\Programs\\Python\\Python310\\lib\\site-packages\\sklearn\\utils\\validation.py:1858: FutureWarning: Feature names only support names that are all strings. Got feature names with dtypes: ['int', 'str']. An error will be raised in 1.2.\n",
      "  warnings.warn(\n"
     ]
    },
    {
     "name": "stdout",
     "output_type": "stream",
     "text": [
      "Training set accuracy:  0.9950768834371635\n",
      "Test set accuracy:  0.6152696603640705\n",
      "Training set f1_score:  0.9829556772371482\n",
      "Test set f1_score:  0.4446150116742594\n",
      "[[ 5197  1339     0  3071     0  1411  1422   474   511    11   257]\n",
      " [ 1409  9468     0  4436     0  1249  2573   579  1305     6   396]\n",
      " [    0     0     1     0    87     0     0     0     0     0     0]\n",
      " [ 3110  4257     0 12891     0  2497  3830   911  1455    26   872]\n",
      " [    0     0   130     0 12593     0     0     0     0     0     0]\n",
      " [ 1505  1312     0  2708     0 52128  2230   713   520    18   363]\n",
      " [ 1600  2635     0  4125     0  2143 39747  4550  5849    11   471]\n",
      " [  503   555     0   850     0   645  4230  2895  1087     2    86]\n",
      " [  537  1276     0  1404     0   502  5316  1030  2853     6   206]\n",
      " [    8     8     0     8     0    14     4     0     3     0    40]\n",
      " [  268   396     0   872     0   419   512   120   252    55  5503]]\n",
      "              precision    recall  f1-score   support\n",
      "\n",
      "           0       0.37      0.38      0.37     13693\n",
      "           1       0.45      0.44      0.44     21421\n",
      "           2       0.01      0.01      0.01        88\n",
      "           3       0.42      0.43      0.43     29849\n",
      "           4       0.99      0.99      0.99     12723\n",
      "           5       0.85      0.85      0.85     61497\n",
      "           6       0.66      0.65      0.66     61131\n",
      "           7       0.26      0.27      0.26     10853\n",
      "           8       0.21      0.22      0.21     13130\n",
      "           9       0.00      0.00      0.00        85\n",
      "          10       0.67      0.66      0.66      8397\n",
      "\n",
      "    accuracy                           0.62    232867\n",
      "   macro avg       0.44      0.44      0.44    232867\n",
      "weighted avg       0.62      0.62      0.62    232867\n",
      "\n"
     ]
    }
   ],
   "source": [
    "from sklearn.tree import DecisionTreeClassifier\n",
    "randmf = DecisionTreeClassifier() \n",
    "randmf.fit( X_train, y_train) \n",
    "# get a prediction\n",
    "y_hat = randmf.predict(X_train)\n",
    "y_randmf = randmf.predict(X_test)\n",
    "print('Training set accuracy: ', accuracy_score(y_train, y_hat))\n",
    "print('Test set accuracy: ',accuracy_score(y_test, y_randmf))\n",
    "print('Training set f1_score: ', f1_score(y_train, y_hat,average='macro'))\n",
    "print('Test set f1_score: ',f1_score(y_test, y_randmf,average='macro'))\n",
    "print(confusion_matrix(y_test, y_randmf))\n",
    "print(classification_report(y_test, y_randmf))"
   ]
  },
  {
   "cell_type": "markdown",
   "id": "7607af09",
   "metadata": {},
   "source": [
    "## RandomForestClassifier"
   ]
  },
  {
   "cell_type": "code",
   "execution_count": 40,
   "id": "afd47048",
   "metadata": {},
   "outputs": [],
   "source": [
    "forest_model = RandomForestClassifier(n_estimators=60,max_depth=32,random_state=1)"
   ]
  },
  {
   "cell_type": "code",
   "execution_count": 41,
   "id": "b16f5c07",
   "metadata": {},
   "outputs": [
    {
     "name": "stderr",
     "output_type": "stream",
     "text": [
      "C:\\Users\\Mohamed\\AppData\\Local\\Programs\\Python\\Python310\\lib\\site-packages\\sklearn\\utils\\validation.py:1858: FutureWarning: Feature names only support names that are all strings. Got feature names with dtypes: ['int', 'str']. An error will be raised in 1.2.\n",
      "  warnings.warn(\n",
      "C:\\Users\\Mohamed\\AppData\\Local\\Programs\\Python\\Python310\\lib\\site-packages\\sklearn\\utils\\validation.py:1858: FutureWarning: Feature names only support names that are all strings. Got feature names with dtypes: ['int', 'str']. An error will be raised in 1.2.\n",
      "  warnings.warn(\n"
     ]
    }
   ],
   "source": [
    "forest_model.fit(X_train, y_train)\n",
    "yhat=forest_model.predict(X_test)"
   ]
  },
  {
   "cell_type": "code",
   "execution_count": 42,
   "id": "37bb8ced",
   "metadata": {},
   "outputs": [
    {
     "data": {
      "text/plain": [
       "0.4661996624914607"
      ]
     },
     "execution_count": 42,
     "metadata": {},
     "output_type": "execute_result"
    }
   ],
   "source": [
    "f1_score(y_test,yhat,average='macro')"
   ]
  },
  {
   "cell_type": "code",
   "execution_count": 43,
   "id": "aa6beeed",
   "metadata": {},
   "outputs": [
    {
     "data": {
      "text/plain": [
       "0.6877359179274006"
      ]
     },
     "execution_count": 43,
     "metadata": {},
     "output_type": "execute_result"
    }
   ],
   "source": [
    "accuracy_score(y_test,yhat)"
   ]
  },
  {
   "cell_type": "code",
   "execution_count": 49,
   "id": "4bc2d4fc",
   "metadata": {},
   "outputs": [
    {
     "name": "stderr",
     "output_type": "stream",
     "text": [
      "C:\\Users\\Mohamed\\AppData\\Local\\Programs\\Python\\Python310\\lib\\site-packages\\sklearn\\model_selection\\_search.py:306: UserWarning: The total space of parameters 6 is smaller than n_iter=10. Running 6 iterations. For exhaustive searches, use GridSearchCV.\n",
      "  warnings.warn(\n"
     ]
    },
    {
     "name": "stdout",
     "output_type": "stream",
     "text": [
      "Fitting 3 folds for each of 6 candidates, totalling 18 fits\n"
     ]
    },
    {
     "name": "stderr",
     "output_type": "stream",
     "text": [
      "C:\\Users\\Mohamed\\AppData\\Local\\Programs\\Python\\Python310\\lib\\site-packages\\sklearn\\model_selection\\_validation.py:378: FitFailedWarning: \n",
      "16 fits failed out of a total of 18.\n",
      "The score on these train-test partitions for these parameters will be set to nan.\n",
      "If these failures are not expected, you can try to debug them by setting error_score='raise'.\n",
      "\n",
      "Below are more details about the failures:\n",
      "--------------------------------------------------------------------------------\n",
      "3 fits failed with the following error:\n",
      "Traceback (most recent call last):\n",
      "  File \"C:\\Users\\Mohamed\\AppData\\Local\\Programs\\Python\\Python310\\lib\\site-packages\\sklearn\\model_selection\\_validation.py\", line 686, in _fit_and_score\n",
      "    estimator.fit(X_train, y_train, **fit_params)\n",
      "  File \"C:\\Users\\Mohamed\\AppData\\Local\\Programs\\Python\\Python310\\lib\\site-packages\\sklearn\\ensemble\\_forest.py\", line 476, in fit\n",
      "    trees = Parallel(\n",
      "  File \"C:\\Users\\Mohamed\\AppData\\Local\\Programs\\Python\\Python310\\lib\\site-packages\\joblib\\parallel.py\", line 1046, in __call__\n",
      "    while self.dispatch_one_batch(iterator):\n",
      "  File \"C:\\Users\\Mohamed\\AppData\\Local\\Programs\\Python\\Python310\\lib\\site-packages\\joblib\\parallel.py\", line 861, in dispatch_one_batch\n",
      "    self._dispatch(tasks)\n",
      "  File \"C:\\Users\\Mohamed\\AppData\\Local\\Programs\\Python\\Python310\\lib\\site-packages\\joblib\\parallel.py\", line 779, in _dispatch\n",
      "    job = self._backend.apply_async(batch, callback=cb)\n",
      "  File \"C:\\Users\\Mohamed\\AppData\\Local\\Programs\\Python\\Python310\\lib\\site-packages\\joblib\\_parallel_backends.py\", line 208, in apply_async\n",
      "    result = ImmediateResult(func)\n",
      "  File \"C:\\Users\\Mohamed\\AppData\\Local\\Programs\\Python\\Python310\\lib\\site-packages\\joblib\\_parallel_backends.py\", line 572, in __init__\n",
      "    self.results = batch()\n",
      "  File \"C:\\Users\\Mohamed\\AppData\\Local\\Programs\\Python\\Python310\\lib\\site-packages\\joblib\\parallel.py\", line 262, in __call__\n",
      "    return [func(*args, **kwargs)\n",
      "  File \"C:\\Users\\Mohamed\\AppData\\Local\\Programs\\Python\\Python310\\lib\\site-packages\\joblib\\parallel.py\", line 262, in <listcomp>\n",
      "    return [func(*args, **kwargs)\n",
      "  File \"C:\\Users\\Mohamed\\AppData\\Local\\Programs\\Python\\Python310\\lib\\site-packages\\sklearn\\utils\\fixes.py\", line 117, in __call__\n",
      "    return self.function(*args, **kwargs)\n",
      "  File \"C:\\Users\\Mohamed\\AppData\\Local\\Programs\\Python\\Python310\\lib\\site-packages\\sklearn\\ensemble\\_forest.py\", line 189, in _parallel_build_trees\n",
      "    tree.fit(X, y, sample_weight=curr_sample_weight, check_input=False)\n",
      "  File \"C:\\Users\\Mohamed\\AppData\\Local\\Programs\\Python\\Python310\\lib\\site-packages\\sklearn\\tree\\_classes.py\", line 969, in fit\n",
      "    super().fit(\n",
      "  File \"C:\\Users\\Mohamed\\AppData\\Local\\Programs\\Python\\Python310\\lib\\site-packages\\sklearn\\tree\\_classes.py\", line 458, in fit\n",
      "    builder.build(self.tree_, X, y, sample_weight)\n",
      "  File \"sklearn\\tree\\_tree.pyx\", line 148, in sklearn.tree._tree.DepthFirstTreeBuilder.build\n",
      "  File \"sklearn\\tree\\_tree.pyx\", line 248, in sklearn.tree._tree.DepthFirstTreeBuilder.build\n",
      "  File \"sklearn\\tree\\_tree.pyx\", line 763, in sklearn.tree._tree.Tree._add_node\n",
      "  File \"sklearn\\tree\\_tree.pyx\", line 734, in sklearn.tree._tree.Tree._resize_c\n",
      "  File \"sklearn\\tree\\_utils.pyx\", line 36, in sklearn.tree._utils.safe_realloc\n",
      "MemoryError: could not allocate 14680064 bytes\n",
      "\n",
      "--------------------------------------------------------------------------------\n",
      "4 fits failed with the following error:\n",
      "Traceback (most recent call last):\n",
      "  File \"C:\\Users\\Mohamed\\AppData\\Local\\Programs\\Python\\Python310\\lib\\site-packages\\sklearn\\model_selection\\_validation.py\", line 686, in _fit_and_score\n",
      "    estimator.fit(X_train, y_train, **fit_params)\n",
      "  File \"C:\\Users\\Mohamed\\AppData\\Local\\Programs\\Python\\Python310\\lib\\site-packages\\sklearn\\ensemble\\_forest.py\", line 476, in fit\n",
      "    trees = Parallel(\n",
      "  File \"C:\\Users\\Mohamed\\AppData\\Local\\Programs\\Python\\Python310\\lib\\site-packages\\joblib\\parallel.py\", line 1046, in __call__\n",
      "    while self.dispatch_one_batch(iterator):\n",
      "  File \"C:\\Users\\Mohamed\\AppData\\Local\\Programs\\Python\\Python310\\lib\\site-packages\\joblib\\parallel.py\", line 861, in dispatch_one_batch\n",
      "    self._dispatch(tasks)\n",
      "  File \"C:\\Users\\Mohamed\\AppData\\Local\\Programs\\Python\\Python310\\lib\\site-packages\\joblib\\parallel.py\", line 779, in _dispatch\n",
      "    job = self._backend.apply_async(batch, callback=cb)\n",
      "  File \"C:\\Users\\Mohamed\\AppData\\Local\\Programs\\Python\\Python310\\lib\\site-packages\\joblib\\_parallel_backends.py\", line 208, in apply_async\n",
      "    result = ImmediateResult(func)\n",
      "  File \"C:\\Users\\Mohamed\\AppData\\Local\\Programs\\Python\\Python310\\lib\\site-packages\\joblib\\_parallel_backends.py\", line 572, in __init__\n",
      "    self.results = batch()\n",
      "  File \"C:\\Users\\Mohamed\\AppData\\Local\\Programs\\Python\\Python310\\lib\\site-packages\\joblib\\parallel.py\", line 262, in __call__\n",
      "    return [func(*args, **kwargs)\n",
      "  File \"C:\\Users\\Mohamed\\AppData\\Local\\Programs\\Python\\Python310\\lib\\site-packages\\joblib\\parallel.py\", line 262, in <listcomp>\n",
      "    return [func(*args, **kwargs)\n",
      "  File \"C:\\Users\\Mohamed\\AppData\\Local\\Programs\\Python\\Python310\\lib\\site-packages\\sklearn\\utils\\fixes.py\", line 117, in __call__\n",
      "    return self.function(*args, **kwargs)\n",
      "  File \"C:\\Users\\Mohamed\\AppData\\Local\\Programs\\Python\\Python310\\lib\\site-packages\\sklearn\\ensemble\\_forest.py\", line 189, in _parallel_build_trees\n",
      "    tree.fit(X, y, sample_weight=curr_sample_weight, check_input=False)\n",
      "  File \"C:\\Users\\Mohamed\\AppData\\Local\\Programs\\Python\\Python310\\lib\\site-packages\\sklearn\\tree\\_classes.py\", line 969, in fit\n",
      "    super().fit(\n",
      "  File \"C:\\Users\\Mohamed\\AppData\\Local\\Programs\\Python\\Python310\\lib\\site-packages\\sklearn\\tree\\_classes.py\", line 458, in fit\n",
      "    builder.build(self.tree_, X, y, sample_weight)\n",
      "  File \"sklearn\\tree\\_tree.pyx\", line 148, in sklearn.tree._tree.DepthFirstTreeBuilder.build\n",
      "  File \"sklearn\\tree\\_tree.pyx\", line 248, in sklearn.tree._tree.DepthFirstTreeBuilder.build\n",
      "  File \"sklearn\\tree\\_tree.pyx\", line 763, in sklearn.tree._tree.Tree._add_node\n",
      "  File \"sklearn\\tree\\_tree.pyx\", line 735, in sklearn.tree._tree.Tree._resize_c\n",
      "  File \"sklearn\\tree\\_utils.pyx\", line 36, in sklearn.tree._utils.safe_realloc\n",
      "MemoryError: could not allocate 23068672 bytes\n",
      "\n",
      "--------------------------------------------------------------------------------\n",
      "2 fits failed with the following error:\n",
      "Traceback (most recent call last):\n",
      "  File \"C:\\Users\\Mohamed\\AppData\\Local\\Programs\\Python\\Python310\\lib\\site-packages\\sklearn\\model_selection\\_validation.py\", line 686, in _fit_and_score\n",
      "    estimator.fit(X_train, y_train, **fit_params)\n",
      "  File \"C:\\Users\\Mohamed\\AppData\\Local\\Programs\\Python\\Python310\\lib\\site-packages\\sklearn\\ensemble\\_forest.py\", line 476, in fit\n",
      "    trees = Parallel(\n",
      "  File \"C:\\Users\\Mohamed\\AppData\\Local\\Programs\\Python\\Python310\\lib\\site-packages\\joblib\\parallel.py\", line 1046, in __call__\n",
      "    while self.dispatch_one_batch(iterator):\n",
      "  File \"C:\\Users\\Mohamed\\AppData\\Local\\Programs\\Python\\Python310\\lib\\site-packages\\joblib\\parallel.py\", line 861, in dispatch_one_batch\n",
      "    self._dispatch(tasks)\n",
      "  File \"C:\\Users\\Mohamed\\AppData\\Local\\Programs\\Python\\Python310\\lib\\site-packages\\joblib\\parallel.py\", line 779, in _dispatch\n",
      "    job = self._backend.apply_async(batch, callback=cb)\n",
      "  File \"C:\\Users\\Mohamed\\AppData\\Local\\Programs\\Python\\Python310\\lib\\site-packages\\joblib\\_parallel_backends.py\", line 208, in apply_async\n",
      "    result = ImmediateResult(func)\n",
      "  File \"C:\\Users\\Mohamed\\AppData\\Local\\Programs\\Python\\Python310\\lib\\site-packages\\joblib\\_parallel_backends.py\", line 572, in __init__\n",
      "    self.results = batch()\n",
      "  File \"C:\\Users\\Mohamed\\AppData\\Local\\Programs\\Python\\Python310\\lib\\site-packages\\joblib\\parallel.py\", line 262, in __call__\n",
      "    return [func(*args, **kwargs)\n",
      "  File \"C:\\Users\\Mohamed\\AppData\\Local\\Programs\\Python\\Python310\\lib\\site-packages\\joblib\\parallel.py\", line 262, in <listcomp>\n",
      "    return [func(*args, **kwargs)\n",
      "  File \"C:\\Users\\Mohamed\\AppData\\Local\\Programs\\Python\\Python310\\lib\\site-packages\\sklearn\\utils\\fixes.py\", line 117, in __call__\n",
      "    return self.function(*args, **kwargs)\n",
      "  File \"C:\\Users\\Mohamed\\AppData\\Local\\Programs\\Python\\Python310\\lib\\site-packages\\sklearn\\ensemble\\_forest.py\", line 189, in _parallel_build_trees\n",
      "    tree.fit(X, y, sample_weight=curr_sample_weight, check_input=False)\n",
      "  File \"C:\\Users\\Mohamed\\AppData\\Local\\Programs\\Python\\Python310\\lib\\site-packages\\sklearn\\tree\\_classes.py\", line 969, in fit\n",
      "    super().fit(\n",
      "  File \"C:\\Users\\Mohamed\\AppData\\Local\\Programs\\Python\\Python310\\lib\\site-packages\\sklearn\\tree\\_classes.py\", line 458, in fit\n",
      "    builder.build(self.tree_, X, y, sample_weight)\n",
      "  File \"sklearn\\tree\\_tree.pyx\", line 148, in sklearn.tree._tree.DepthFirstTreeBuilder.build\n",
      "  File \"sklearn\\tree\\_tree.pyx\", line 248, in sklearn.tree._tree.DepthFirstTreeBuilder.build\n",
      "  File \"sklearn\\tree\\_tree.pyx\", line 763, in sklearn.tree._tree.Tree._add_node\n",
      "  File \"sklearn\\tree\\_tree.pyx\", line 735, in sklearn.tree._tree.Tree._resize_c\n",
      "  File \"sklearn\\tree\\_utils.pyx\", line 36, in sklearn.tree._utils.safe_realloc\n",
      "MemoryError: could not allocate 11534336 bytes\n",
      "\n",
      "--------------------------------------------------------------------------------\n",
      "1 fits failed with the following error:\n",
      "Traceback (most recent call last):\n",
      "  File \"C:\\Users\\Mohamed\\AppData\\Local\\Programs\\Python\\Python310\\lib\\site-packages\\sklearn\\model_selection\\_validation.py\", line 686, in _fit_and_score\n",
      "    estimator.fit(X_train, y_train, **fit_params)\n",
      "  File \"C:\\Users\\Mohamed\\AppData\\Local\\Programs\\Python\\Python310\\lib\\site-packages\\sklearn\\ensemble\\_forest.py\", line 476, in fit\n",
      "    trees = Parallel(\n",
      "  File \"C:\\Users\\Mohamed\\AppData\\Local\\Programs\\Python\\Python310\\lib\\site-packages\\joblib\\parallel.py\", line 1046, in __call__\n",
      "    while self.dispatch_one_batch(iterator):\n",
      "  File \"C:\\Users\\Mohamed\\AppData\\Local\\Programs\\Python\\Python310\\lib\\site-packages\\joblib\\parallel.py\", line 861, in dispatch_one_batch\n",
      "    self._dispatch(tasks)\n",
      "  File \"C:\\Users\\Mohamed\\AppData\\Local\\Programs\\Python\\Python310\\lib\\site-packages\\joblib\\parallel.py\", line 779, in _dispatch\n",
      "    job = self._backend.apply_async(batch, callback=cb)\n",
      "  File \"C:\\Users\\Mohamed\\AppData\\Local\\Programs\\Python\\Python310\\lib\\site-packages\\joblib\\_parallel_backends.py\", line 208, in apply_async\n",
      "    result = ImmediateResult(func)\n",
      "  File \"C:\\Users\\Mohamed\\AppData\\Local\\Programs\\Python\\Python310\\lib\\site-packages\\joblib\\_parallel_backends.py\", line 572, in __init__\n",
      "    self.results = batch()\n",
      "  File \"C:\\Users\\Mohamed\\AppData\\Local\\Programs\\Python\\Python310\\lib\\site-packages\\joblib\\parallel.py\", line 262, in __call__\n",
      "    return [func(*args, **kwargs)\n",
      "  File \"C:\\Users\\Mohamed\\AppData\\Local\\Programs\\Python\\Python310\\lib\\site-packages\\joblib\\parallel.py\", line 262, in <listcomp>\n",
      "    return [func(*args, **kwargs)\n",
      "  File \"C:\\Users\\Mohamed\\AppData\\Local\\Programs\\Python\\Python310\\lib\\site-packages\\sklearn\\utils\\fixes.py\", line 117, in __call__\n",
      "    return self.function(*args, **kwargs)\n",
      "  File \"C:\\Users\\Mohamed\\AppData\\Local\\Programs\\Python\\Python310\\lib\\site-packages\\sklearn\\ensemble\\_forest.py\", line 189, in _parallel_build_trees\n",
      "    tree.fit(X, y, sample_weight=curr_sample_weight, check_input=False)\n",
      "  File \"C:\\Users\\Mohamed\\AppData\\Local\\Programs\\Python\\Python310\\lib\\site-packages\\sklearn\\tree\\_classes.py\", line 969, in fit\n",
      "    super().fit(\n",
      "  File \"C:\\Users\\Mohamed\\AppData\\Local\\Programs\\Python\\Python310\\lib\\site-packages\\sklearn\\tree\\_classes.py\", line 221, in fit\n",
      "    classes_k, y_encoded[:, k] = np.unique(y[:, k], return_inverse=True)\n",
      "  File \"<__array_function__ internals>\", line 180, in unique\n",
      "  File \"C:\\Users\\Mohamed\\AppData\\Roaming\\Python\\Python310\\site-packages\\numpy\\lib\\arraysetops.py\", line 272, in unique\n",
      "    ret = _unique1d(ar, return_index, return_inverse, return_counts)\n",
      "  File \"C:\\Users\\Mohamed\\AppData\\Roaming\\Python\\Python310\\site-packages\\numpy\\lib\\arraysetops.py\", line 331, in _unique1d\n",
      "    aux = ar[perm]\n",
      "numpy.core._exceptions._ArrayMemoryError: Unable to allocate 2.76 MiB for an array with shape (362237,) and data type float64\n",
      "\n",
      "--------------------------------------------------------------------------------\n",
      "1 fits failed with the following error:\n",
      "Traceback (most recent call last):\n",
      "  File \"C:\\Users\\Mohamed\\AppData\\Local\\Programs\\Python\\Python310\\lib\\site-packages\\sklearn\\model_selection\\_validation.py\", line 686, in _fit_and_score\n",
      "    estimator.fit(X_train, y_train, **fit_params)\n",
      "  File \"C:\\Users\\Mohamed\\AppData\\Local\\Programs\\Python\\Python310\\lib\\site-packages\\sklearn\\ensemble\\_forest.py\", line 476, in fit\n",
      "    trees = Parallel(\n",
      "  File \"C:\\Users\\Mohamed\\AppData\\Local\\Programs\\Python\\Python310\\lib\\site-packages\\joblib\\parallel.py\", line 1046, in __call__\n",
      "    while self.dispatch_one_batch(iterator):\n",
      "  File \"C:\\Users\\Mohamed\\AppData\\Local\\Programs\\Python\\Python310\\lib\\site-packages\\joblib\\parallel.py\", line 861, in dispatch_one_batch\n",
      "    self._dispatch(tasks)\n",
      "  File \"C:\\Users\\Mohamed\\AppData\\Local\\Programs\\Python\\Python310\\lib\\site-packages\\joblib\\parallel.py\", line 779, in _dispatch\n",
      "    job = self._backend.apply_async(batch, callback=cb)\n",
      "  File \"C:\\Users\\Mohamed\\AppData\\Local\\Programs\\Python\\Python310\\lib\\site-packages\\joblib\\_parallel_backends.py\", line 208, in apply_async\n",
      "    result = ImmediateResult(func)\n",
      "  File \"C:\\Users\\Mohamed\\AppData\\Local\\Programs\\Python\\Python310\\lib\\site-packages\\joblib\\_parallel_backends.py\", line 572, in __init__\n",
      "    self.results = batch()\n",
      "  File \"C:\\Users\\Mohamed\\AppData\\Local\\Programs\\Python\\Python310\\lib\\site-packages\\joblib\\parallel.py\", line 262, in __call__\n",
      "    return [func(*args, **kwargs)\n",
      "  File \"C:\\Users\\Mohamed\\AppData\\Local\\Programs\\Python\\Python310\\lib\\site-packages\\joblib\\parallel.py\", line 262, in <listcomp>\n",
      "    return [func(*args, **kwargs)\n",
      "  File \"C:\\Users\\Mohamed\\AppData\\Local\\Programs\\Python\\Python310\\lib\\site-packages\\sklearn\\utils\\fixes.py\", line 117, in __call__\n",
      "    return self.function(*args, **kwargs)\n",
      "  File \"C:\\Users\\Mohamed\\AppData\\Local\\Programs\\Python\\Python310\\lib\\site-packages\\sklearn\\ensemble\\_forest.py\", line 189, in _parallel_build_trees\n",
      "    tree.fit(X, y, sample_weight=curr_sample_weight, check_input=False)\n",
      "  File \"C:\\Users\\Mohamed\\AppData\\Local\\Programs\\Python\\Python310\\lib\\site-packages\\sklearn\\tree\\_classes.py\", line 969, in fit\n",
      "    super().fit(\n",
      "  File \"C:\\Users\\Mohamed\\AppData\\Local\\Programs\\Python\\Python310\\lib\\site-packages\\sklearn\\tree\\_classes.py\", line 458, in fit\n",
      "    builder.build(self.tree_, X, y, sample_weight)\n",
      "  File \"sklearn\\tree\\_tree.pyx\", line 148, in sklearn.tree._tree.DepthFirstTreeBuilder.build\n",
      "  File \"sklearn\\tree\\_tree.pyx\", line 248, in sklearn.tree._tree.DepthFirstTreeBuilder.build\n",
      "  File \"sklearn\\tree\\_tree.pyx\", line 763, in sklearn.tree._tree.Tree._add_node\n",
      "  File \"sklearn\\tree\\_tree.pyx\", line 734, in sklearn.tree._tree.Tree._resize_c\n",
      "  File \"sklearn\\tree\\_utils.pyx\", line 36, in sklearn.tree._utils.safe_realloc\n",
      "MemoryError: could not allocate 1835008 bytes\n",
      "\n",
      "--------------------------------------------------------------------------------\n",
      "3 fits failed with the following error:\n",
      "Traceback (most recent call last):\n",
      "  File \"C:\\Users\\Mohamed\\AppData\\Local\\Programs\\Python\\Python310\\lib\\site-packages\\sklearn\\model_selection\\_validation.py\", line 686, in _fit_and_score\n",
      "    estimator.fit(X_train, y_train, **fit_params)\n",
      "  File \"C:\\Users\\Mohamed\\AppData\\Local\\Programs\\Python\\Python310\\lib\\site-packages\\sklearn\\ensemble\\_forest.py\", line 476, in fit\n",
      "    trees = Parallel(\n",
      "  File \"C:\\Users\\Mohamed\\AppData\\Local\\Programs\\Python\\Python310\\lib\\site-packages\\joblib\\parallel.py\", line 1046, in __call__\n",
      "    while self.dispatch_one_batch(iterator):\n",
      "  File \"C:\\Users\\Mohamed\\AppData\\Local\\Programs\\Python\\Python310\\lib\\site-packages\\joblib\\parallel.py\", line 861, in dispatch_one_batch\n",
      "    self._dispatch(tasks)\n",
      "  File \"C:\\Users\\Mohamed\\AppData\\Local\\Programs\\Python\\Python310\\lib\\site-packages\\joblib\\parallel.py\", line 779, in _dispatch\n",
      "    job = self._backend.apply_async(batch, callback=cb)\n",
      "  File \"C:\\Users\\Mohamed\\AppData\\Local\\Programs\\Python\\Python310\\lib\\site-packages\\joblib\\_parallel_backends.py\", line 208, in apply_async\n",
      "    result = ImmediateResult(func)\n",
      "  File \"C:\\Users\\Mohamed\\AppData\\Local\\Programs\\Python\\Python310\\lib\\site-packages\\joblib\\_parallel_backends.py\", line 572, in __init__\n",
      "    self.results = batch()\n",
      "  File \"C:\\Users\\Mohamed\\AppData\\Local\\Programs\\Python\\Python310\\lib\\site-packages\\joblib\\parallel.py\", line 262, in __call__\n",
      "    return [func(*args, **kwargs)\n",
      "  File \"C:\\Users\\Mohamed\\AppData\\Local\\Programs\\Python\\Python310\\lib\\site-packages\\joblib\\parallel.py\", line 262, in <listcomp>\n",
      "    return [func(*args, **kwargs)\n",
      "  File \"C:\\Users\\Mohamed\\AppData\\Local\\Programs\\Python\\Python310\\lib\\site-packages\\sklearn\\utils\\fixes.py\", line 117, in __call__\n",
      "    return self.function(*args, **kwargs)\n",
      "  File \"C:\\Users\\Mohamed\\AppData\\Local\\Programs\\Python\\Python310\\lib\\site-packages\\sklearn\\ensemble\\_forest.py\", line 189, in _parallel_build_trees\n",
      "    tree.fit(X, y, sample_weight=curr_sample_weight, check_input=False)\n",
      "  File \"C:\\Users\\Mohamed\\AppData\\Local\\Programs\\Python\\Python310\\lib\\site-packages\\sklearn\\tree\\_classes.py\", line 969, in fit\n",
      "    super().fit(\n",
      "  File \"C:\\Users\\Mohamed\\AppData\\Local\\Programs\\Python\\Python310\\lib\\site-packages\\sklearn\\tree\\_classes.py\", line 458, in fit\n",
      "    builder.build(self.tree_, X, y, sample_weight)\n",
      "  File \"sklearn\\tree\\_tree.pyx\", line 148, in sklearn.tree._tree.DepthFirstTreeBuilder.build\n",
      "  File \"sklearn\\tree\\_tree.pyx\", line 248, in sklearn.tree._tree.DepthFirstTreeBuilder.build\n",
      "  File \"sklearn\\tree\\_tree.pyx\", line 763, in sklearn.tree._tree.Tree._add_node\n",
      "  File \"sklearn\\tree\\_tree.pyx\", line 734, in sklearn.tree._tree.Tree._resize_c\n",
      "  File \"sklearn\\tree\\_utils.pyx\", line 36, in sklearn.tree._utils.safe_realloc\n",
      "MemoryError: could not allocate 7340032 bytes\n",
      "\n",
      "--------------------------------------------------------------------------------\n",
      "1 fits failed with the following error:\n",
      "Traceback (most recent call last):\n",
      "  File \"C:\\Users\\Mohamed\\AppData\\Local\\Programs\\Python\\Python310\\lib\\site-packages\\sklearn\\model_selection\\_validation.py\", line 686, in _fit_and_score\n",
      "    estimator.fit(X_train, y_train, **fit_params)\n",
      "  File \"C:\\Users\\Mohamed\\AppData\\Local\\Programs\\Python\\Python310\\lib\\site-packages\\sklearn\\ensemble\\_forest.py\", line 476, in fit\n",
      "    trees = Parallel(\n",
      "  File \"C:\\Users\\Mohamed\\AppData\\Local\\Programs\\Python\\Python310\\lib\\site-packages\\joblib\\parallel.py\", line 1046, in __call__\n",
      "    while self.dispatch_one_batch(iterator):\n",
      "  File \"C:\\Users\\Mohamed\\AppData\\Local\\Programs\\Python\\Python310\\lib\\site-packages\\joblib\\parallel.py\", line 861, in dispatch_one_batch\n",
      "    self._dispatch(tasks)\n",
      "  File \"C:\\Users\\Mohamed\\AppData\\Local\\Programs\\Python\\Python310\\lib\\site-packages\\joblib\\parallel.py\", line 779, in _dispatch\n",
      "    job = self._backend.apply_async(batch, callback=cb)\n",
      "  File \"C:\\Users\\Mohamed\\AppData\\Local\\Programs\\Python\\Python310\\lib\\site-packages\\joblib\\_parallel_backends.py\", line 208, in apply_async\n",
      "    result = ImmediateResult(func)\n",
      "  File \"C:\\Users\\Mohamed\\AppData\\Local\\Programs\\Python\\Python310\\lib\\site-packages\\joblib\\_parallel_backends.py\", line 572, in __init__\n",
      "    self.results = batch()\n",
      "  File \"C:\\Users\\Mohamed\\AppData\\Local\\Programs\\Python\\Python310\\lib\\site-packages\\joblib\\parallel.py\", line 262, in __call__\n",
      "    return [func(*args, **kwargs)\n",
      "  File \"C:\\Users\\Mohamed\\AppData\\Local\\Programs\\Python\\Python310\\lib\\site-packages\\joblib\\parallel.py\", line 262, in <listcomp>\n",
      "    return [func(*args, **kwargs)\n",
      "  File \"C:\\Users\\Mohamed\\AppData\\Local\\Programs\\Python\\Python310\\lib\\site-packages\\sklearn\\utils\\fixes.py\", line 117, in __call__\n",
      "    return self.function(*args, **kwargs)\n",
      "  File \"C:\\Users\\Mohamed\\AppData\\Local\\Programs\\Python\\Python310\\lib\\site-packages\\sklearn\\ensemble\\_forest.py\", line 189, in _parallel_build_trees\n",
      "    tree.fit(X, y, sample_weight=curr_sample_weight, check_input=False)\n",
      "  File \"C:\\Users\\Mohamed\\AppData\\Local\\Programs\\Python\\Python310\\lib\\site-packages\\sklearn\\tree\\_classes.py\", line 969, in fit\n",
      "    super().fit(\n",
      "  File \"C:\\Users\\Mohamed\\AppData\\Local\\Programs\\Python\\Python310\\lib\\site-packages\\sklearn\\tree\\_classes.py\", line 221, in fit\n",
      "    classes_k, y_encoded[:, k] = np.unique(y[:, k], return_inverse=True)\n",
      "  File \"<__array_function__ internals>\", line 180, in unique\n",
      "  File \"C:\\Users\\Mohamed\\AppData\\Roaming\\Python\\Python310\\site-packages\\numpy\\lib\\arraysetops.py\", line 272, in unique\n",
      "    ret = _unique1d(ar, return_index, return_inverse, return_counts)\n",
      "  File \"C:\\Users\\Mohamed\\AppData\\Roaming\\Python\\Python310\\site-packages\\numpy\\lib\\arraysetops.py\", line 354, in _unique1d\n",
      "    imask = np.cumsum(mask) - 1\n",
      "  File \"<__array_function__ internals>\", line 180, in cumsum\n",
      "  File \"C:\\Users\\Mohamed\\AppData\\Roaming\\Python\\Python310\\site-packages\\numpy\\core\\fromnumeric.py\", line 2569, in cumsum\n",
      "    return _wrapfunc(a, 'cumsum', axis=axis, dtype=dtype, out=out)\n",
      "  File \"C:\\Users\\Mohamed\\AppData\\Roaming\\Python\\Python310\\site-packages\\numpy\\core\\fromnumeric.py\", line 57, in _wrapfunc\n",
      "    return bound(*args, **kwds)\n",
      "numpy.core._exceptions._ArrayMemoryError: Unable to allocate 1.38 MiB for an array with shape (362236,) and data type int32\n",
      "\n",
      "--------------------------------------------------------------------------------\n",
      "1 fits failed with the following error:\n",
      "Traceback (most recent call last):\n",
      "  File \"C:\\Users\\Mohamed\\AppData\\Local\\Programs\\Python\\Python310\\lib\\site-packages\\sklearn\\model_selection\\_validation.py\", line 686, in _fit_and_score\n",
      "    estimator.fit(X_train, y_train, **fit_params)\n",
      "  File \"C:\\Users\\Mohamed\\AppData\\Local\\Programs\\Python\\Python310\\lib\\site-packages\\sklearn\\ensemble\\_forest.py\", line 476, in fit\n",
      "    trees = Parallel(\n",
      "  File \"C:\\Users\\Mohamed\\AppData\\Local\\Programs\\Python\\Python310\\lib\\site-packages\\joblib\\parallel.py\", line 1046, in __call__\n",
      "    while self.dispatch_one_batch(iterator):\n",
      "  File \"C:\\Users\\Mohamed\\AppData\\Local\\Programs\\Python\\Python310\\lib\\site-packages\\joblib\\parallel.py\", line 861, in dispatch_one_batch\n",
      "    self._dispatch(tasks)\n",
      "  File \"C:\\Users\\Mohamed\\AppData\\Local\\Programs\\Python\\Python310\\lib\\site-packages\\joblib\\parallel.py\", line 779, in _dispatch\n",
      "    job = self._backend.apply_async(batch, callback=cb)\n",
      "  File \"C:\\Users\\Mohamed\\AppData\\Local\\Programs\\Python\\Python310\\lib\\site-packages\\joblib\\_parallel_backends.py\", line 208, in apply_async\n",
      "    result = ImmediateResult(func)\n",
      "  File \"C:\\Users\\Mohamed\\AppData\\Local\\Programs\\Python\\Python310\\lib\\site-packages\\joblib\\_parallel_backends.py\", line 572, in __init__\n",
      "    self.results = batch()\n",
      "  File \"C:\\Users\\Mohamed\\AppData\\Local\\Programs\\Python\\Python310\\lib\\site-packages\\joblib\\parallel.py\", line 262, in __call__\n",
      "    return [func(*args, **kwargs)\n",
      "  File \"C:\\Users\\Mohamed\\AppData\\Local\\Programs\\Python\\Python310\\lib\\site-packages\\joblib\\parallel.py\", line 262, in <listcomp>\n",
      "    return [func(*args, **kwargs)\n",
      "  File \"C:\\Users\\Mohamed\\AppData\\Local\\Programs\\Python\\Python310\\lib\\site-packages\\sklearn\\utils\\fixes.py\", line 117, in __call__\n",
      "    return self.function(*args, **kwargs)\n",
      "  File \"C:\\Users\\Mohamed\\AppData\\Local\\Programs\\Python\\Python310\\lib\\site-packages\\sklearn\\ensemble\\_forest.py\", line 189, in _parallel_build_trees\n",
      "    tree.fit(X, y, sample_weight=curr_sample_weight, check_input=False)\n",
      "  File \"C:\\Users\\Mohamed\\AppData\\Local\\Programs\\Python\\Python310\\lib\\site-packages\\sklearn\\tree\\_classes.py\", line 969, in fit\n",
      "    super().fit(\n",
      "  File \"C:\\Users\\Mohamed\\AppData\\Local\\Programs\\Python\\Python310\\lib\\site-packages\\sklearn\\tree\\_classes.py\", line 458, in fit\n",
      "    builder.build(self.tree_, X, y, sample_weight)\n",
      "  File \"sklearn\\tree\\_tree.pyx\", line 148, in sklearn.tree._tree.DepthFirstTreeBuilder.build\n",
      "  File \"sklearn\\tree\\_tree.pyx\", line 248, in sklearn.tree._tree.DepthFirstTreeBuilder.build\n",
      "  File \"sklearn\\tree\\_tree.pyx\", line 763, in sklearn.tree._tree.Tree._add_node\n",
      "  File \"sklearn\\tree\\_tree.pyx\", line 734, in sklearn.tree._tree.Tree._resize_c\n",
      "  File \"sklearn\\tree\\_utils.pyx\", line 36, in sklearn.tree._utils.safe_realloc\n",
      "MemoryError: could not allocate 3670016 bytes\n",
      "\n",
      "  warnings.warn(some_fits_failed_message, FitFailedWarning)\n",
      "C:\\Users\\Mohamed\\AppData\\Local\\Programs\\Python\\Python310\\lib\\site-packages\\sklearn\\model_selection\\_search.py:953: UserWarning: One or more of the test scores are non-finite: [nan nan nan nan nan nan]\n",
      "  warnings.warn(\n",
      "C:\\Users\\Mohamed\\AppData\\Local\\Programs\\Python\\Python310\\lib\\site-packages\\sklearn\\utils\\validation.py:1858: FutureWarning: Feature names only support names that are all strings. Got feature names with dtypes: ['int', 'str']. An error will be raised in 1.2.\n",
      "  warnings.warn(\n"
     ]
    },
    {
     "name": "stderr",
     "output_type": "stream",
     "text": [
      "C:\\Users\\Mohamed\\AppData\\Local\\Programs\\Python\\Python310\\lib\\site-packages\\sklearn\\ensemble\\_forest.py:427: FutureWarning: `max_features='auto'` has been deprecated in 1.1 and will be removed in 1.3. To keep the past behaviour, explicitly set `max_features='sqrt'` or remove this parameter as it is also the default value for RandomForestClassifiers and ExtraTreesClassifiers.\n",
      "  warn(\n"
     ]
    },
    {
     "name": "stdout",
     "output_type": "stream",
     "text": [
      "Best Parameters:  {'n_estimators': 200, 'max_features': 'auto'}  \n",
      "\n"
     ]
    }
   ],
   "source": [
    "random_grid = { \n",
    "    'n_estimators': [200,1000],\n",
    "    'max_features': ['auto', 'sqrt', 'log2']\n",
    "    \n",
    "    \n",
    "}\n",
    "rf=RandomForestClassifier()\n",
    "#Hyperparameter Tuning\n",
    "rf_random = RandomizedSearchCV(estimator = rf,param_distributions = random_grid,\n",
    "                cv = 3, verbose=2, random_state=35, n_jobs = -1)\n",
    "rf_random.fit(X_train, y_train)\n",
    "# print the best parameters\n",
    "print ('Best Parameters: ', rf_random.best_params_, ' \\n')\n"
   ]
  },
  {
   "cell_type": "code",
   "execution_count": 52,
   "id": "ac20fa35",
   "metadata": {},
   "outputs": [
    {
     "name": "stderr",
     "output_type": "stream",
     "text": [
      "C:\\Users\\Mohamed\\AppData\\Local\\Programs\\Python\\Python310\\lib\\site-packages\\sklearn\\utils\\validation.py:1858: FutureWarning: Feature names only support names that are all strings. Got feature names with dtypes: ['int', 'str']. An error will be raised in 1.2.\n",
      "  warnings.warn(\n",
      "C:\\Users\\Mohamed\\AppData\\Local\\Programs\\Python\\Python310\\lib\\site-packages\\sklearn\\ensemble\\_forest.py:427: FutureWarning: `max_features='auto'` has been deprecated in 1.1 and will be removed in 1.3. To keep the past behaviour, explicitly set `max_features='sqrt'` or remove this parameter as it is also the default value for RandomForestClassifiers and ExtraTreesClassifiers.\n",
      "  warn(\n",
      "C:\\Users\\Mohamed\\AppData\\Local\\Programs\\Python\\Python310\\lib\\site-packages\\sklearn\\utils\\validation.py:1858: FutureWarning: Feature names only support names that are all strings. Got feature names with dtypes: ['int', 'str']. An error will be raised in 1.2.\n",
      "  warnings.warn(\n",
      "C:\\Users\\Mohamed\\AppData\\Local\\Programs\\Python\\Python310\\lib\\site-packages\\sklearn\\utils\\validation.py:1858: FutureWarning: Feature names only support names that are all strings. Got feature names with dtypes: ['int', 'str']. An error will be raised in 1.2.\n",
      "  warnings.warn(\n"
     ]
    }
   ],
   "source": [
    "#Using the best parameters\n",
    "randmf = RandomForestClassifier(n_estimators= 200, max_features= 'auto') \n",
    "randmf.fit( X_train, y_train) \n",
    "# get a prediction\n",
    "y_hat = randmf.predict(X_train)\n",
    "y_randmf = randmf.predict(X_test)\n"
   ]
  },
  {
   "cell_type": "code",
   "execution_count": null,
   "id": "0d787d3b",
   "metadata": {},
   "outputs": [],
   "source": []
  },
  {
   "cell_type": "code",
   "execution_count": 54,
   "id": "34bb0fa9",
   "metadata": {},
   "outputs": [
    {
     "name": "stdout",
     "output_type": "stream",
     "text": [
      "Training set accuracy:  0.9950768834371635\n",
      "Test set accuracy:  0.6985575457235246\n",
      "Training set f1_score:  0.9801339487539658\n",
      "Test set f1_score:  0.47820439061412506\n",
      "[[ 4548   994     0  3114     0  2441  2221   210   125     0    40]\n",
      " [  617 11397     0  3477     0  1877  3536   193   306     0    18]\n",
      " [    0     0     0     0    88     0     0     0     0     0     0]\n",
      " [ 1531  4120     0 12883     0  4347  5790   222   293     0   663]\n",
      " [    0     0    27     0 12696     0     0     0     0     0     0]\n",
      " [  338   461     0  1111     0 56061  3186   144    65     0   131]\n",
      " [  328   661     0  1018     0  1429 56080   512   791     0   312]\n",
      " [  170   226     0   437     0   715  6827  2076   342     0    60]\n",
      " [  153   978     0   969     0   527  8415   334  1581     0   173]\n",
      " [    3     8     0    11     0    17     6     0     0     0    40]\n",
      " [   95   434     0   770     0  1028   663    25    31     2  5349]]\n",
      "              precision    recall  f1-score   support\n",
      "\n",
      "           0       0.58      0.33      0.42     13693\n",
      "           1       0.59      0.53      0.56     21421\n",
      "           2       0.00      0.00      0.00        88\n",
      "           3       0.54      0.43      0.48     29849\n",
      "           4       0.99      1.00      1.00     12723\n",
      "           5       0.82      0.91      0.86     61497\n",
      "           6       0.65      0.92      0.76     61131\n",
      "           7       0.56      0.19      0.28     10853\n",
      "           8       0.45      0.12      0.19     13130\n",
      "           9       0.00      0.00      0.00        85\n",
      "          10       0.79      0.64      0.70      8397\n",
      "\n",
      "    accuracy                           0.70    232867\n",
      "   macro avg       0.54      0.46      0.48    232867\n",
      "weighted avg       0.68      0.70      0.67    232867\n",
      "\n"
     ]
    }
   ],
   "source": [
    "print('Training set accuracy: ', accuracy_score(y_train, y_hat))\n",
    "print('Test set accuracy: ',accuracy_score(y_test, y_randmf))\n",
    "print('Training set f1_score: ', f1_score(y_train, y_hat,average='macro'))\n",
    "print('Test set f1_score: ',f1_score(y_test, y_randmf,average='macro'))\n",
    "print(confusion_matrix(y_test, y_randmf))\n",
    "print(classification_report(y_test, y_randmf))"
   ]
  },
  {
   "cell_type": "code",
   "execution_count": null,
   "id": "fe430394",
   "metadata": {},
   "outputs": [],
   "source": []
  },
  {
   "cell_type": "markdown",
   "id": "6f6d85d1",
   "metadata": {},
   "source": [
    "# Random forest With SMOTE "
   ]
  },
  {
   "cell_type": "code",
   "execution_count": 37,
   "id": "45255e7b",
   "metadata": {},
   "outputs": [
    {
     "name": "stderr",
     "output_type": "stream",
     "text": [
      "C:\\Users\\Mohamed\\AppData\\Local\\Programs\\Python\\Python310\\lib\\site-packages\\sklearn\\utils\\validation.py:1858: FutureWarning: Feature names only support names that are all strings. Got feature names with dtypes: ['int', 'str']. An error will be raised in 1.2.\n",
      "  warnings.warn(\n",
      "C:\\Users\\Mohamed\\AppData\\Local\\Programs\\Python\\Python310\\lib\\site-packages\\sklearn\\ensemble\\_forest.py:427: FutureWarning: `max_features='auto'` has been deprecated in 1.1 and will be removed in 1.3. To keep the past behaviour, explicitly set `max_features='sqrt'` or remove this parameter as it is also the default value for RandomForestClassifiers and ExtraTreesClassifiers.\n",
      "  warn(\n",
      "C:\\Users\\Mohamed\\AppData\\Local\\Programs\\Python\\Python310\\lib\\site-packages\\sklearn\\utils\\validation.py:1858: FutureWarning: Feature names only support names that are all strings. Got feature names with dtypes: ['int', 'str']. An error will be raised in 1.2.\n",
      "  warnings.warn(\n",
      "C:\\Users\\Mohamed\\AppData\\Local\\Programs\\Python\\Python310\\lib\\site-packages\\sklearn\\utils\\validation.py:1858: FutureWarning: Feature names only support names that are all strings. Got feature names with dtypes: ['int', 'str']. An error will be raised in 1.2.\n",
      "  warnings.warn(\n"
     ]
    },
    {
     "name": "stdout",
     "output_type": "stream",
     "text": [
      "Training set accuracy:  0.9977594056501999\n",
      "Test set accuracy:  0.6547084816655\n",
      "Training set f1_score:  0.9977592454495756\n",
      "Test set f1_score:  0.48517590786641\n",
      "[[ 6535   941     0  2354     0  1515  1339   562   378     1    68]\n",
      " [ 1171 11943     0  2999     0  1276  2085   672  1233     1    41]\n",
      " [    0     0     1     0    87     0     0     0     0     0     0]\n",
      " [ 3253  4600     0 11683     0  3107  4051  1061  1072     3  1019]\n",
      " [    0     0   112     0 12611     0     0     0     0     0     0]\n",
      " [ 1522  1119     0  1836     0 52146  2764  1267   415     0   428]\n",
      " [ 1270  1301     0  1706     0  1462 43494  5191  6070     1   636]\n",
      " [  363   244     0   433     0   349  4038  4383   941     1   101]\n",
      " [  331  1074     0   832     0   334  5525   926  3839     0   269]\n",
      " [    6    11     0     7     0     9     3     1     2     0    46]\n",
      " [  260   463     0   614     0   647   303   124   159     2  5825]]\n",
      "              precision    recall  f1-score   support\n",
      "\n",
      "           0       0.44      0.48      0.46     13693\n",
      "           1       0.55      0.56      0.55     21421\n",
      "           2       0.01      0.01      0.01        88\n",
      "           3       0.52      0.39      0.45     29849\n",
      "           4       0.99      0.99      0.99     12723\n",
      "           5       0.86      0.85      0.85     61497\n",
      "           6       0.68      0.71      0.70     61131\n",
      "           7       0.31      0.40      0.35     10853\n",
      "           8       0.27      0.29      0.28     13130\n",
      "           9       0.00      0.00      0.00        85\n",
      "          10       0.69      0.69      0.69      8397\n",
      "\n",
      "    accuracy                           0.65    232867\n",
      "   macro avg       0.48      0.49      0.49    232867\n",
      "weighted avg       0.66      0.65      0.65    232867\n",
      "\n"
     ]
    }
   ],
   "source": [
    "#Using the best parameters\n",
    "randmf = RandomForestClassifier(n_estimators= 200, max_features= 'auto') \n",
    "randmf.fit(X_oversample, y_oversample) \n",
    "# get a prediction\n",
    "y_hat = randmf.predict(X_oversample)\n",
    "y_randmf = randmf.predict(X_test)\n",
    "print('Training set accuracy: ', accuracy_score(y_oversample, y_hat))\n",
    "print('Test set accuracy: ',accuracy_score(y_test, y_randmf))\n",
    "print('Training set f1_score: ', f1_score(y_oversample, y_hat,average='macro'))\n",
    "print('Test set f1_score: ',f1_score(y_test, y_randmf,average='macro'))\n",
    "print(confusion_matrix(y_test, y_randmf))\n",
    "print(classification_report(y_test, y_randmf))"
   ]
  },
  {
   "cell_type": "code",
   "execution_count": null,
   "id": "d045c871",
   "metadata": {},
   "outputs": [],
   "source": []
  },
  {
   "cell_type": "markdown",
   "id": "7fee9b88",
   "metadata": {},
   "source": [
    "## naive_bayes"
   ]
  },
  {
   "cell_type": "code",
   "execution_count": 55,
   "id": "62a8c5d5",
   "metadata": {},
   "outputs": [
    {
     "name": "stderr",
     "output_type": "stream",
     "text": [
      "C:\\Users\\Mohamed\\AppData\\Local\\Programs\\Python\\Python310\\lib\\site-packages\\sklearn\\utils\\validation.py:1858: FutureWarning: Feature names only support names that are all strings. Got feature names with dtypes: ['int', 'str']. An error will be raised in 1.2.\n",
      "  warnings.warn(\n",
      "C:\\Users\\Mohamed\\AppData\\Local\\Programs\\Python\\Python310\\lib\\site-packages\\sklearn\\utils\\validation.py:1858: FutureWarning: Feature names only support names that are all strings. Got feature names with dtypes: ['int', 'str']. An error will be raised in 1.2.\n",
      "  warnings.warn(\n"
     ]
    }
   ],
   "source": [
    "nav = GaussianNB()\n",
    "#Train the model using the training sets\n",
    "nav.fit(X_train, y_train)\n",
    "#Predict the response for test dataset\n",
    "y_pred = nav.predict(X_test)"
   ]
  },
  {
   "cell_type": "code",
   "execution_count": 56,
   "id": "62fe18a1",
   "metadata": {},
   "outputs": [
    {
     "data": {
      "text/plain": [
       "0.1913723474092057"
      ]
     },
     "execution_count": 56,
     "metadata": {},
     "output_type": "execute_result"
    }
   ],
   "source": [
    "f1_score(y_test,y_pred,average='macro')"
   ]
  },
  {
   "cell_type": "code",
   "execution_count": 57,
   "id": "ac532688",
   "metadata": {},
   "outputs": [
    {
     "data": {
      "text/plain": [
       "0.3574873210888619"
      ]
     },
     "execution_count": 57,
     "metadata": {},
     "output_type": "execute_result"
    }
   ],
   "source": [
    "accuracy_score(y_test,y_pred)"
   ]
  },
  {
   "cell_type": "markdown",
   "id": "09b50f6b",
   "metadata": {},
   "source": [
    "# xgboost "
   ]
  },
  {
   "cell_type": "code",
   "execution_count": 58,
   "id": "12c29b80",
   "metadata": {},
   "outputs": [
    {
     "name": "stderr",
     "output_type": "stream",
     "text": [
      "C:\\Users\\Mohamed\\AppData\\Local\\Programs\\Python\\Python310\\lib\\site-packages\\xgboost\\sklearn.py:1224: UserWarning: The use of label encoder in XGBClassifier is deprecated and will be removed in a future release. To remove this warning, do the following: 1) Pass option use_label_encoder=False when constructing XGBClassifier object; and 2) Encode your labels (y) as integers starting with 0, i.e. 0, 1, 2, ..., [num_class - 1].\n",
      "  warnings.warn(label_encoder_deprecation_msg, UserWarning)\n"
     ]
    },
    {
     "name": "stdout",
     "output_type": "stream",
     "text": [
      "[17:38:41] WARNING: C:/Users/Administrator/workspace/xgboost-win64_release_1.5.1/src/learner.cc:1115: Starting in XGBoost 1.3.0, the default evaluation metric used with the objective 'multi:softprob' was changed from 'merror' to 'mlogloss'. Explicitly set eval_metric if you'd like to restore the old behavior.\n"
     ]
    }
   ],
   "source": [
    "xg = XGBClassifier()\n",
    "xg.fit(X_train, y_train)\n",
    "ypred = xg.predict(X_test)"
   ]
  },
  {
   "cell_type": "code",
   "execution_count": 59,
   "id": "285d4353",
   "metadata": {},
   "outputs": [
    {
     "data": {
      "text/plain": [
       "0.4760444738849769"
      ]
     },
     "execution_count": 59,
     "metadata": {},
     "output_type": "execute_result"
    }
   ],
   "source": [
    "f1_score(y_test,ypred,average='macro')"
   ]
  },
  {
   "cell_type": "code",
   "execution_count": 60,
   "id": "6569a1f8",
   "metadata": {},
   "outputs": [
    {
     "data": {
      "text/plain": [
       "0.6931424375287181"
      ]
     },
     "execution_count": 60,
     "metadata": {},
     "output_type": "execute_result"
    }
   ],
   "source": [
    "accuracy_score(y_test,ypred)"
   ]
  },
  {
   "cell_type": "markdown",
   "id": "28fef16e",
   "metadata": {},
   "source": [
    "# Regrouping"
   ]
  },
  {
   "cell_type": "code",
   "execution_count": 39,
   "id": "5a4f48b6",
   "metadata": {},
   "outputs": [],
   "source": [
    "final_df[final_df['TYPE']==1]=0\n",
    "final_df[final_df['TYPE']==8]=7\n",
    "final_df[final_df['TYPE']==9]=10\n",
    "final_df[final_df['TYPE']==4]=2"
   ]
  },
  {
   "cell_type": "code",
   "execution_count": 40,
   "id": "9728d88a",
   "metadata": {},
   "outputs": [],
   "source": [
    "x=final_df.drop(\"TYPE\", axis=1)\n",
    "y=final_df[\"TYPE\"]\n",
    "X_train, X_test, y_train, y_test = train_test_split(x,y,test_size=0.3,random_state=42)"
   ]
  },
  {
   "cell_type": "code",
   "execution_count": 41,
   "id": "266e6d13",
   "metadata": {},
   "outputs": [
    {
     "name": "stderr",
     "output_type": "stream",
     "text": [
      "C:\\Users\\Mohamed\\AppData\\Local\\Programs\\Python\\Python310\\lib\\site-packages\\sklearn\\utils\\validation.py:1858: FutureWarning: Feature names only support names that are all strings. Got feature names with dtypes: ['int', 'str']. An error will be raised in 1.2.\n",
      "  warnings.warn(\n"
     ]
    }
   ],
   "source": [
    "oversample = SMOTE()\n",
    "X_oversample, y_oversample = oversample.fit_resample(X_train, y_train)"
   ]
  },
  {
   "cell_type": "markdown",
   "id": "bd84d6dc",
   "metadata": {},
   "source": [
    "## RandomForestClassifier"
   ]
  },
  {
   "cell_type": "code",
   "execution_count": 66,
   "id": "6ab9705c",
   "metadata": {},
   "outputs": [
    {
     "name": "stderr",
     "output_type": "stream",
     "text": [
      "C:\\Users\\Mohamed\\AppData\\Local\\Programs\\Python\\Python310\\lib\\site-packages\\sklearn\\utils\\validation.py:1858: FutureWarning: Feature names only support names that are all strings. Got feature names with dtypes: ['int', 'str']. An error will be raised in 1.2.\n",
      "  warnings.warn(\n",
      "C:\\Users\\Mohamed\\AppData\\Local\\Programs\\Python\\Python310\\lib\\site-packages\\sklearn\\utils\\validation.py:1858: FutureWarning: Feature names only support names that are all strings. Got feature names with dtypes: ['int', 'str']. An error will be raised in 1.2.\n",
      "  warnings.warn(\n"
     ]
    },
    {
     "data": {
      "text/plain": [
       "0.8168482438473463"
      ]
     },
     "execution_count": 66,
     "metadata": {},
     "output_type": "execute_result"
    }
   ],
   "source": [
    "forest_model = RandomForestClassifier(n_estimators=200)\n",
    "forest_model.fit(X_train, y_train)\n",
    "yhat=forest_model.predict(X_test)\n",
    "f1_score(y_test,yhat,average='macro')\n",
    "accuracy_score(y_test,yhat)"
   ]
  },
  {
   "cell_type": "code",
   "execution_count": 67,
   "id": "7c437523",
   "metadata": {},
   "outputs": [
    {
     "name": "stderr",
     "output_type": "stream",
     "text": [
      "C:\\Users\\Mohamed\\AppData\\Local\\Programs\\Python\\Python310\\lib\\site-packages\\sklearn\\utils\\validation.py:1858: FutureWarning: Feature names only support names that are all strings. Got feature names with dtypes: ['int', 'str']. An error will be raised in 1.2.\n",
      "  warnings.warn(\n",
      "C:\\Users\\Mohamed\\AppData\\Local\\Programs\\Python\\Python310\\lib\\site-packages\\sklearn\\ensemble\\_forest.py:427: FutureWarning: `max_features='auto'` has been deprecated in 1.1 and will be removed in 1.3. To keep the past behaviour, explicitly set `max_features='sqrt'` or remove this parameter as it is also the default value for RandomForestClassifiers and ExtraTreesClassifiers.\n",
      "  warn(\n",
      "C:\\Users\\Mohamed\\AppData\\Local\\Programs\\Python\\Python310\\lib\\site-packages\\sklearn\\utils\\validation.py:1858: FutureWarning: Feature names only support names that are all strings. Got feature names with dtypes: ['int', 'str']. An error will be raised in 1.2.\n",
      "  warnings.warn(\n",
      "C:\\Users\\Mohamed\\AppData\\Local\\Programs\\Python\\Python310\\lib\\site-packages\\sklearn\\utils\\validation.py:1858: FutureWarning: Feature names only support names that are all strings. Got feature names with dtypes: ['int', 'str']. An error will be raised in 1.2.\n",
      "  warnings.warn(\n"
     ]
    }
   ],
   "source": [
    "#Using the best parameters\n",
    "randmf = RandomForestClassifier(n_estimators= 200, max_features= 'auto') \n",
    "randmf.fit( X_train, y_train) \n",
    "# get a prediction\n",
    "y_hat = randmf.predict(X_train)\n",
    "y_randmf = randmf.predict(X_test)"
   ]
  },
  {
   "cell_type": "code",
   "execution_count": 69,
   "id": "690dfebf",
   "metadata": {},
   "outputs": [
    {
     "name": "stdout",
     "output_type": "stream",
     "text": [
      "Training set accuracy:  0.9972117676288982\n",
      "Test set accuracy:  0.8156930780230776\n",
      "Training set f1_score:  0.9975196316177358\n",
      "Test set f1_score:  0.8013936543606216\n",
      "[[26076     0  3868  2582  2316   232    40]\n",
      " [    0 12811     0     0     0     0     0]\n",
      " [ 1627     0 16522  4638  6099   255   708]\n",
      " [  369     0  1401 56246  3187   150   144]\n",
      " [  322     0  1099  1446 57463   479   322]\n",
      " [  186     0   582   716  7040 15404    55]\n",
      " [  110     0  1168  1063   686    29  5426]]\n",
      "              precision    recall  f1-score   support\n",
      "\n",
      "           0       0.91      0.74      0.82     35114\n",
      "           2       1.00      1.00      1.00     12811\n",
      "           3       0.67      0.55      0.61     29849\n",
      "           5       0.84      0.91      0.88     61497\n",
      "           6       0.75      0.94      0.83     61131\n",
      "           7       0.93      0.64      0.76     23983\n",
      "          10       0.81      0.64      0.72      8482\n",
      "\n",
      "    accuracy                           0.82    232867\n",
      "   macro avg       0.84      0.78      0.80    232867\n",
      "weighted avg       0.82      0.82      0.81    232867\n",
      "\n"
     ]
    }
   ],
   "source": [
    "print('Training set accuracy: ', accuracy_score(y_train, y_hat))\n",
    "print('Test set accuracy: ',accuracy_score(y_test, y_randmf))\n",
    "print('Training set f1_score: ', f1_score(y_train, y_hat,average='macro'))\n",
    "print('Test set f1_score: ',f1_score(y_test, y_randmf,average='macro'))\n",
    "print(confusion_matrix(y_test, y_randmf))\n",
    "print(classification_report(y_test, y_randmf))"
   ]
  },
  {
   "cell_type": "code",
   "execution_count": null,
   "id": "770df153",
   "metadata": {},
   "outputs": [],
   "source": [
    "#random forrest with Smote "
   ]
  },
  {
   "cell_type": "code",
   "execution_count": 42,
   "id": "4e5ea13d",
   "metadata": {},
   "outputs": [
    {
     "name": "stderr",
     "output_type": "stream",
     "text": [
      "C:\\Users\\Mohamed\\AppData\\Local\\Programs\\Python\\Python310\\lib\\site-packages\\sklearn\\utils\\validation.py:1858: FutureWarning: Feature names only support names that are all strings. Got feature names with dtypes: ['int', 'str']. An error will be raised in 1.2.\n",
      "  warnings.warn(\n",
      "C:\\Users\\Mohamed\\AppData\\Local\\Programs\\Python\\Python310\\lib\\site-packages\\sklearn\\ensemble\\_forest.py:427: FutureWarning: `max_features='auto'` has been deprecated in 1.1 and will be removed in 1.3. To keep the past behaviour, explicitly set `max_features='sqrt'` or remove this parameter as it is also the default value for RandomForestClassifiers and ExtraTreesClassifiers.\n",
      "  warn(\n",
      "C:\\Users\\Mohamed\\AppData\\Local\\Programs\\Python\\Python310\\lib\\site-packages\\sklearn\\utils\\validation.py:1858: FutureWarning: Feature names only support names that are all strings. Got feature names with dtypes: ['int', 'str']. An error will be raised in 1.2.\n",
      "  warnings.warn(\n",
      "C:\\Users\\Mohamed\\AppData\\Local\\Programs\\Python\\Python310\\lib\\site-packages\\sklearn\\utils\\validation.py:1858: FutureWarning: Feature names only support names that are all strings. Got feature names with dtypes: ['int', 'str']. An error will be raised in 1.2.\n",
      "  warnings.warn(\n"
     ]
    },
    {
     "name": "stdout",
     "output_type": "stream",
     "text": [
      "Training set accuracy:  0.998485908798154\n",
      "Test set accuracy:  0.8062456251851915\n",
      "Training set f1_score:  0.9984860139413975\n",
      "Test set f1_score:  0.7975086053810619\n",
      "[[26091     0  4742  1891  1843   459    88]\n",
      " [    0 12811     0     0     0     0     0]\n",
      " [ 1563     0 18441  3254  4952   648   991]\n",
      " [  553     0  2691 54130  3063   635   425]\n",
      " [  530     0  2430  1410 53536  2565   660]\n",
      " [  198     0   785   501  5648 16730   121]\n",
      " [  113     0  1167   680   431    82  6009]]\n",
      "              precision    recall  f1-score   support\n",
      "\n",
      "           0       0.90      0.74      0.81     35114\n",
      "           2       1.00      1.00      1.00     12811\n",
      "           3       0.61      0.62      0.61     29849\n",
      "           5       0.87      0.88      0.88     61497\n",
      "           6       0.77      0.88      0.82     61131\n",
      "           7       0.79      0.70      0.74     23983\n",
      "          10       0.72      0.71      0.72      8482\n",
      "\n",
      "    accuracy                           0.81    232867\n",
      "   macro avg       0.81      0.79      0.80    232867\n",
      "weighted avg       0.81      0.81      0.81    232867\n",
      "\n"
     ]
    }
   ],
   "source": [
    "#Using the best parameters\n",
    "randmf = RandomForestClassifier(n_estimators= 200, max_features= 'auto') \n",
    "randmf.fit(X_oversample, y_oversample) \n",
    "# get a prediction\n",
    "y_hat = randmf.predict(X_oversample)\n",
    "y_randmf = randmf.predict(X_test)\n",
    "print('Training set accuracy: ', accuracy_score(y_oversample, y_hat))\n",
    "print('Test set accuracy: ',accuracy_score(y_test, y_randmf))\n",
    "print('Training set f1_score: ', f1_score(y_oversample, y_hat,average='macro'))\n",
    "print('Test set f1_score: ',f1_score(y_test, y_randmf,average='macro'))\n",
    "print(confusion_matrix(y_test, y_randmf))\n",
    "print(classification_report(y_test, y_randmf))"
   ]
  },
  {
   "cell_type": "markdown",
   "id": "fefa3e71",
   "metadata": {},
   "source": [
    "# xgboost"
   ]
  },
  {
   "cell_type": "code",
   "execution_count": 68,
   "id": "1f751945",
   "metadata": {},
   "outputs": [
    {
     "name": "stderr",
     "output_type": "stream",
     "text": [
      "C:\\Users\\Mohamed\\AppData\\Local\\Programs\\Python\\Python310\\lib\\site-packages\\xgboost\\sklearn.py:1224: UserWarning: The use of label encoder in XGBClassifier is deprecated and will be removed in a future release. To remove this warning, do the following: 1) Pass option use_label_encoder=False when constructing XGBClassifier object; and 2) Encode your labels (y) as integers starting with 0, i.e. 0, 1, 2, ..., [num_class - 1].\n",
      "  warnings.warn(label_encoder_deprecation_msg, UserWarning)\n"
     ]
    },
    {
     "name": "stdout",
     "output_type": "stream",
     "text": [
      "[18:00:41] WARNING: C:/Users/Administrator/workspace/xgboost-win64_release_1.5.1/src/learner.cc:1115: Starting in XGBoost 1.3.0, the default evaluation metric used with the objective 'multi:softprob' was changed from 'merror' to 'mlogloss'. Explicitly set eval_metric if you'd like to restore the old behavior.\n"
     ]
    },
    {
     "data": {
      "text/plain": [
       "0.8092816929835486"
      ]
     },
     "execution_count": 68,
     "metadata": {},
     "output_type": "execute_result"
    }
   ],
   "source": [
    "xg = XGBClassifier()\n",
    "xg.fit(X_train, y_train)\n",
    "ypred = xg.predict(X_test)\n",
    "f1_score(y_test,ypred,average='macro')\n",
    "accuracy_score(y_test,ypred)"
   ]
  },
  {
   "cell_type": "code",
   "execution_count": 70,
   "id": "ab020f58",
   "metadata": {},
   "outputs": [
    {
     "name": "stdout",
     "output_type": "stream",
     "text": [
      "Test set accuracy:  0.8092816929835486\n",
      "Test set f1_score:  0.8038509769386584\n",
      "[[25990     0  3556  2637  2684   213    34]\n",
      " [    0 12811     0     0     0     0     0]\n",
      " [ 1605     0 15296  5115  6815   300   718]\n",
      " [  433     0  1513 55249  3953   157   192]\n",
      " [  315     0   787  1800 57604   275   350]\n",
      " [  150     0   508   832  7241 15166    86]\n",
      " [   81     0   869   642   537    14  6339]]\n",
      "              precision    recall  f1-score   support\n",
      "\n",
      "           0       0.91      0.74      0.82     35114\n",
      "           2       1.00      1.00      1.00     12811\n",
      "           3       0.68      0.51      0.58     29849\n",
      "           5       0.83      0.90      0.86     61497\n",
      "           6       0.73      0.94      0.82     61131\n",
      "           7       0.94      0.63      0.76     23983\n",
      "          10       0.82      0.75      0.78      8482\n",
      "\n",
      "    accuracy                           0.81    232867\n",
      "   macro avg       0.84      0.78      0.80    232867\n",
      "weighted avg       0.82      0.81      0.80    232867\n",
      "\n"
     ]
    }
   ],
   "source": [
    "\n",
    "print('Test set accuracy: ',accuracy_score(y_test, ypred))\n",
    "\n",
    "print('Test set f1_score: ',f1_score(y_test, ypred,average='macro'))\n",
    "print(confusion_matrix(y_test, ypred))\n",
    "print(classification_report(y_test, ypred))"
   ]
  },
  {
   "cell_type": "markdown",
   "id": "a424ca46",
   "metadata": {},
   "source": [
    "# DecisionTreeClassifier"
   ]
  },
  {
   "cell_type": "code",
   "execution_count": 73,
   "id": "e776ed13",
   "metadata": {},
   "outputs": [
    {
     "name": "stderr",
     "output_type": "stream",
     "text": [
      "C:\\Users\\Mohamed\\AppData\\Local\\Programs\\Python\\Python310\\lib\\site-packages\\sklearn\\utils\\validation.py:1858: FutureWarning: Feature names only support names that are all strings. Got feature names with dtypes: ['int', 'str']. An error will be raised in 1.2.\n",
      "  warnings.warn(\n",
      "C:\\Users\\Mohamed\\AppData\\Local\\Programs\\Python\\Python310\\lib\\site-packages\\sklearn\\utils\\validation.py:1858: FutureWarning: Feature names only support names that are all strings. Got feature names with dtypes: ['int', 'str']. An error will be raised in 1.2.\n",
      "  warnings.warn(\n",
      "C:\\Users\\Mohamed\\AppData\\Local\\Programs\\Python\\Python310\\lib\\site-packages\\sklearn\\utils\\validation.py:1858: FutureWarning: Feature names only support names that are all strings. Got feature names with dtypes: ['int', 'str']. An error will be raised in 1.2.\n",
      "  warnings.warn(\n"
     ]
    }
   ],
   "source": [
    "from sklearn.tree import DecisionTreeClassifier\n",
    "randmf = DecisionTreeClassifier() \n",
    "randmf.fit( X_train, y_train) \n",
    "# get a prediction\n",
    "y_hat = randmf.predict(X_train)\n",
    "y_randmf = randmf.predict(X_test)\n"
   ]
  },
  {
   "cell_type": "code",
   "execution_count": 74,
   "id": "18373104",
   "metadata": {},
   "outputs": [
    {
     "name": "stdout",
     "output_type": "stream",
     "text": [
      "Training set accuracy:  0.9972117676288982\n",
      "Test set accuracy:  0.7466794350423203\n",
      "Training set f1_score:  0.9975265825624341\n",
      "Test set f1_score:  0.7425189689195857\n",
      "[[26827     0  3809  1901  1700   564   313]\n",
      " [    0 12811     0     0     0     0     0]\n",
      " [ 4057     0 15178  3505  4785  1152  1172]\n",
      " [ 1886     0  3622 51821  2767   888   513]\n",
      " [ 1948     0  5115  2777 45129  5579   583]\n",
      " [  566     0  1181   784  4803 16521   128]\n",
      " [  324     0  1156   637   627   148  5590]]\n",
      "              precision    recall  f1-score   support\n",
      "\n",
      "           0       0.75      0.76      0.76     35114\n",
      "           2       1.00      1.00      1.00     12811\n",
      "           3       0.50      0.51      0.51     29849\n",
      "           5       0.84      0.84      0.84     61497\n",
      "           6       0.75      0.74      0.75     61131\n",
      "           7       0.66      0.69      0.68     23983\n",
      "          10       0.67      0.66      0.67      8482\n",
      "\n",
      "    accuracy                           0.75    232867\n",
      "   macro avg       0.74      0.74      0.74    232867\n",
      "weighted avg       0.75      0.75      0.75    232867\n",
      "\n"
     ]
    }
   ],
   "source": [
    "print('Training set accuracy: ', accuracy_score(y_train, y_hat))\n",
    "print('Test set accuracy: ',accuracy_score(y_test, y_randmf))\n",
    "print('Training set f1_score: ', f1_score(y_train, y_hat,average='macro'))\n",
    "print('Test set f1_score: ',f1_score(y_test, y_randmf,average='macro'))\n",
    "print(confusion_matrix(y_test, y_randmf))\n",
    "print(classification_report(y_test, y_randmf))"
   ]
  },
  {
   "cell_type": "code",
   "execution_count": null,
   "id": "d021a90d",
   "metadata": {},
   "outputs": [],
   "source": []
  }
 ],
 "metadata": {
  "kernelspec": {
   "display_name": "Python 3 (ipykernel)",
   "language": "python",
   "name": "python3"
  },
  "language_info": {
   "codemirror_mode": {
    "name": "ipython",
    "version": 3
   },
   "file_extension": ".py",
   "mimetype": "text/x-python",
   "name": "python",
   "nbconvert_exporter": "python",
   "pygments_lexer": "ipython3",
   "version": "3.10.1"
  }
 },
 "nbformat": 4,
 "nbformat_minor": 5
}
